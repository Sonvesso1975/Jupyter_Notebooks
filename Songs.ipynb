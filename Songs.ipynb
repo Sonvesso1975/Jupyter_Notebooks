{
 "cells": [
  {
   "cell_type": "markdown",
   "metadata": {
    "lang": "pt"
   },
   "source": [
    "# **Sistema de recomendação de músicas**\n",
    "\n",
    "-----------------\n",
    "### **Contexto**\n",
    "Com o advento da tecnologia, as sociedades tornaram-se mais eficientes nas suas vidas. Ao mesmo tempo, as vidas individualizadas tornaram-se muito mais aceleradas e distraídas, deixando pouco tempo para explorar atividades artísticas. Além disso, a tecnologia fez avanços significativos na capacidade de coexistir com arte e entretenimento em geral. Tornou mais fácil para os humanos com falta de tempo encontrar e consumir um bom conteúdo. Portanto, um dos principais desafios para as empresas é conseguir descobrir que tipo de conteúdo seus clientes estão mais propensos a consumir. A receita de quase todas as empresas que operam online depende do tempo que os consumidores passam em suas plataformas. Essas empresas precisam ser capazes de descobrir que tipo de conteúdo é necessário expor para aumentar o tempo gasto pelos clientes em sua plataforma e tornar sua experiência melhor.\n",
    "O Spotify é um desses provedores de conteúdo de áudio que possui um forte mercado em todo o mundo. Ele cresceu significativamente devido à sua capacidade de recomendar a \"melhor\" próxima música para cada cliente com base no enorme banco de dados de preferências que eles reuniram ao longo do tempo, como milhões de clientes e bilhões de músicas. Isso é feito usando sistemas de recomendação inteligentes que podem recomendar músicas com base no que os usuários gostam ou não.\n",
    "\n",
    "------------------\n",
    "### **Objetivo**\n",
    "Recomendar músicas a um usuário com base na probabilidade de gostar dessas músicas.\n",
    "\n",
    "------------------------\n",
    "### **As perguntas-chave**\n",
    "- Quais são todas as músicas que eles ouviram?\n",
    "- Quais são as músicas e artistas favoritos?\n",
    "\n",
    "------------------------\n",
    "### **Formulação do problema**\n",
    "\n",
    "Crie um sistema de recomendação para propor as 10 melhores músicas para um usuário com base na probabilidade de ouvir essas músicas.\n",
    "\n",
    "-------------------------\n",
    "### **Dicionário de Dados**\n",
    "\n",
    "Os dados principais são o subconjunto de perfis de sabor lançado pelo The Echo Nest como parte do conjunto de dados de milhões de músicas. Há dois arquivos neste conjunto de dados. Um contém os detalhes sobre o id da música, títulos, lançamento, nome do artista e o ano de lançamento. O segundo arquivo contém o ID do usuário, o ID da música e o play_count dos usuários.\n",
    "\n",
    "####**song_data**\n",
    "**song_id** - Um id único dado a cada música\n",
    "\n",
    "**title** - Título da música\n",
    "\n",
    "**Release** - Nome do álbum lançado\n",
    "\n",
    "**Artist_name** - Nome do artista\n",
    "\n",
    "**ano** - Ano de lançamento\n",
    "\n",
    "####**count_data**\n",
    "**user_id** - Um id exclusivo dado ao usuário\n",
    "\n",
    "**song_id** - Um id único dado à música\n",
    "\n",
    "**play_count** - Número de vezes que a música foi tocada\n",
    "\n",
    "---------------------\n",
    "###**Fonte de Dados**\n",
    "- http://millionsongdataset.com/"
   ]
  },
  {
   "cell_type": "markdown",
   "metadata": {
    "lang": "pt"
   },
   "source": [
    "Às vezes, a instalação da biblioteca surpresa, usada para criar sistemas de recomendação, enfrenta problemas no Jupyter. Para evitar problemas, é recomendável usar o **Google Colab** para este projeto.\n",
    "\n",
    "Vamos começar montando o Google drive no Colab."
   ]
  },
  {
   "cell_type": "code",
   "execution_count": 1,
   "metadata": {
    "colab": {
     "base_uri": "https://localhost:8080/"
    },
    "executionInfo": {
     "elapsed": 28812,
     "status": "ok",
     "timestamp": 1666267888466,
     "user": {
      "displayName": "Maruthi Reddy Billa",
      "userId": "04904869007533286315"
     },
     "user_tz": -330
    },
    "id": "IJobT_niqE6n",
    "outputId": "03a67faf-4eb1-407c-c0fa-e451ece89f9a"
   },
   "outputs": [
    {
     "name": "stdout",
     "output_type": "stream",
     "text": [
      "Mounted at /content/drive\n"
     ]
    }
   ],
   "source": [
    "# Mounting the drive\n",
    "from google.colab import drive\n",
    "drive.mount('/content/drive')"
   ]
  },
  {
   "cell_type": "markdown",
   "metadata": {
    "lang": "pt"
   },
   "source": [
    "**Instalando biblioteca surpresa**"
   ]
  },
  {
   "cell_type": "code",
   "execution_count": 2,
   "metadata": {
    "colab": {
     "base_uri": "https://localhost:8080/"
    },
    "executionInfo": {
     "elapsed": 36139,
     "status": "ok",
     "timestamp": 1666267924601,
     "user": {
      "displayName": "Maruthi Reddy Billa",
      "userId": "04904869007533286315"
     },
     "user_tz": -330
    },
    "id": "IaNfF2F781FH",
    "outputId": "3eb2ff5f-b7ee-4242-9da7-cb0ceb53eef6"
   },
   "outputs": [
    {
     "name": "stdout",
     "output_type": "stream",
     "text": [
      "Looking in indexes: https://pypi.org/simple, https://us-python.pkg.dev/colab-wheels/public/simple/\n",
      "Collecting surprise\n",
      "  Downloading surprise-0.1-py2.py3-none-any.whl (1.8 kB)\n",
      "Collecting scikit-surprise\n",
      "  Downloading scikit-surprise-1.1.1.tar.gz (11.8 MB)\n",
      "\u001b[K     |████████████████████████████████| 11.8 MB 4.9 MB/s \n",
      "\u001b[?25hRequirement already satisfied: joblib>=0.11 in /usr/local/lib/python3.7/dist-packages (from scikit-surprise->surprise) (1.2.0)\n",
      "Requirement already satisfied: numpy>=1.11.2 in /usr/local/lib/python3.7/dist-packages (from scikit-surprise->surprise) (1.21.6)\n",
      "Requirement already satisfied: scipy>=1.0.0 in /usr/local/lib/python3.7/dist-packages (from scikit-surprise->surprise) (1.7.3)\n",
      "Requirement already satisfied: six>=1.10.0 in /usr/local/lib/python3.7/dist-packages (from scikit-surprise->surprise) (1.15.0)\n",
      "Building wheels for collected packages: scikit-surprise\n",
      "  Building wheel for scikit-surprise (setup.py) ... \u001b[?25l\u001b[?25hdone\n",
      "  Created wheel for scikit-surprise: filename=scikit_surprise-1.1.1-cp37-cp37m-linux_x86_64.whl size=1633984 sha256=8f6ae709b82322f1f0301952f0269787e4e651a00db478c3cde4aeaf7b769f1d\n",
      "  Stored in directory: /root/.cache/pip/wheels/76/44/74/b498c42be47b2406bd27994e16c5188e337c657025ab400c1c\n",
      "Successfully built scikit-surprise\n",
      "Installing collected packages: scikit-surprise, surprise\n",
      "Successfully installed scikit-surprise-1.1.1 surprise-0.1\n"
     ]
    }
   ],
   "source": [
    "!pip install surprise"
   ]
  },
  {
   "cell_type": "markdown",
   "metadata": {
    "lang": "pt"
   },
   "source": [
    "## **Importando as bibliotecas necessárias e visão geral do conjunto de dados**"
   ]
  },
  {
   "cell_type": "code",
   "execution_count": 3,
   "metadata": {
    "executionInfo": {
     "elapsed": 692,
     "status": "ok",
     "timestamp": 1666267925288,
     "user": {
      "displayName": "Maruthi Reddy Billa",
      "userId": "04904869007533286315"
     },
     "user_tz": -330
    },
    "id": "4pJG2Ilmppn9"
   },
   "outputs": [],
   "source": [
    "import warnings                                 # Used to ignore the warning given as output of the code\n",
    "warnings.filterwarnings('ignore')\n",
    "\n",
    "import numpy as np                              # Basic libraries of python for numeric and dataframe computations\n",
    "import pandas as pd\n",
    "\n",
    "import matplotlib.pyplot as plt                 # Basic library for data visualization\n",
    "import seaborn as sns                           # Slightly advanced library for data visualization\n",
    "\n",
    "from collections import defaultdict             # A dictionary output that does not raise a key error\n",
    "\n",
    "from sklearn.metrics import mean_squared_error  # A performance metrics in sklearn"
   ]
  },
  {
   "cell_type": "markdown",
   "metadata": {
    "lang": "pt"
   },
   "source": [
    "### **Carregando os dados**"
   ]
  },
  {
   "cell_type": "code",
   "execution_count": 4,
   "metadata": {
    "executionInfo": {
     "elapsed": 7668,
     "status": "ok",
     "timestamp": 1666267932955,
     "user": {
      "displayName": "Maruthi Reddy Billa",
      "userId": "04904869007533286315"
     },
     "user_tz": -330
    },
    "id": "eqszWYX5hcj7"
   },
   "outputs": [],
   "source": [
    "#Use the cell while using Colab\n",
    "count_df = pd.read_csv('/content/drive/MyDrive/count_data.csv')\n",
    "song_df = pd.read_csv('/content/drive/MyDrive/song_data.csv')"
   ]
  },
  {
   "cell_type": "code",
   "execution_count": 5,
   "metadata": {
    "executionInfo": {
     "elapsed": 4,
     "status": "ok",
     "timestamp": 1666267932955,
     "user": {
      "displayName": "Maruthi Reddy Billa",
      "userId": "04904869007533286315"
     },
     "user_tz": -330
    },
    "id": "JLk3NmSJ37dx"
   },
   "outputs": [],
   "source": [
    "# # Importing the datasets\n",
    "# count_df = pd.read_csv('count_data.csv')\n",
    "# song_df = pd.read_csv('song_data.csv')"
   ]
  },
  {
   "cell_type": "markdown",
   "metadata": {
    "lang": "pt"
   },
   "source": [
    "**Agora, vamos ver os dez principais registros dos dados.**"
   ]
  },
  {
   "cell_type": "code",
   "execution_count": 6,
   "metadata": {
    "colab": {
     "base_uri": "https://localhost:8080/",
     "height": 363
    },
    "executionInfo": {
     "elapsed": 15,
     "status": "ok",
     "timestamp": 1666267933791,
     "user": {
      "displayName": "Maruthi Reddy Billa",
      "userId": "04904869007533286315"
     },
     "user_tz": -330
    },
    "id": "GCLzBuYiXlPM",
    "outputId": "dc4fde8a-fed2-4b82-8170-d80286c5ff04"
   },
   "outputs": [
    {
     "data": {
      "text/html": [
       "\n",
       "  <div id=\"df-0a3cce6b-9cca-4b06-ab5b-144642fcfa2a\">\n",
       "    <div class=\"colab-df-container\">\n",
       "      <div>\n",
       "<style scoped>\n",
       "    .dataframe tbody tr th:only-of-type {\n",
       "        vertical-align: middle;\n",
       "    }\n",
       "\n",
       "    .dataframe tbody tr th {\n",
       "        vertical-align: top;\n",
       "    }\n",
       "\n",
       "    .dataframe thead th {\n",
       "        text-align: right;\n",
       "    }\n",
       "</style>\n",
       "<table border=\"1\" class=\"dataframe\">\n",
       "  <thead>\n",
       "    <tr style=\"text-align: right;\">\n",
       "      <th></th>\n",
       "      <th>Unnamed: 0</th>\n",
       "      <th>user_id</th>\n",
       "      <th>song_id</th>\n",
       "      <th>play_count</th>\n",
       "    </tr>\n",
       "  </thead>\n",
       "  <tbody>\n",
       "    <tr>\n",
       "      <th>0</th>\n",
       "      <td>0</td>\n",
       "      <td>b80344d063b5ccb3212f76538f3d9e43d87dca9e</td>\n",
       "      <td>SOAKIMP12A8C130995</td>\n",
       "      <td>1</td>\n",
       "    </tr>\n",
       "    <tr>\n",
       "      <th>1</th>\n",
       "      <td>1</td>\n",
       "      <td>b80344d063b5ccb3212f76538f3d9e43d87dca9e</td>\n",
       "      <td>SOBBMDR12A8C13253B</td>\n",
       "      <td>2</td>\n",
       "    </tr>\n",
       "    <tr>\n",
       "      <th>2</th>\n",
       "      <td>2</td>\n",
       "      <td>b80344d063b5ccb3212f76538f3d9e43d87dca9e</td>\n",
       "      <td>SOBXHDL12A81C204C0</td>\n",
       "      <td>1</td>\n",
       "    </tr>\n",
       "    <tr>\n",
       "      <th>3</th>\n",
       "      <td>3</td>\n",
       "      <td>b80344d063b5ccb3212f76538f3d9e43d87dca9e</td>\n",
       "      <td>SOBYHAJ12A6701BF1D</td>\n",
       "      <td>1</td>\n",
       "    </tr>\n",
       "    <tr>\n",
       "      <th>4</th>\n",
       "      <td>4</td>\n",
       "      <td>b80344d063b5ccb3212f76538f3d9e43d87dca9e</td>\n",
       "      <td>SODACBL12A8C13C273</td>\n",
       "      <td>1</td>\n",
       "    </tr>\n",
       "    <tr>\n",
       "      <th>5</th>\n",
       "      <td>5</td>\n",
       "      <td>b80344d063b5ccb3212f76538f3d9e43d87dca9e</td>\n",
       "      <td>SODDNQT12A6D4F5F7E</td>\n",
       "      <td>5</td>\n",
       "    </tr>\n",
       "    <tr>\n",
       "      <th>6</th>\n",
       "      <td>6</td>\n",
       "      <td>b80344d063b5ccb3212f76538f3d9e43d87dca9e</td>\n",
       "      <td>SODXRTY12AB0180F3B</td>\n",
       "      <td>1</td>\n",
       "    </tr>\n",
       "    <tr>\n",
       "      <th>7</th>\n",
       "      <td>7</td>\n",
       "      <td>b80344d063b5ccb3212f76538f3d9e43d87dca9e</td>\n",
       "      <td>SOFGUAY12AB017B0A8</td>\n",
       "      <td>1</td>\n",
       "    </tr>\n",
       "    <tr>\n",
       "      <th>8</th>\n",
       "      <td>8</td>\n",
       "      <td>b80344d063b5ccb3212f76538f3d9e43d87dca9e</td>\n",
       "      <td>SOFRQTD12A81C233C0</td>\n",
       "      <td>1</td>\n",
       "    </tr>\n",
       "    <tr>\n",
       "      <th>9</th>\n",
       "      <td>9</td>\n",
       "      <td>b80344d063b5ccb3212f76538f3d9e43d87dca9e</td>\n",
       "      <td>SOHQWYZ12A6D4FA701</td>\n",
       "      <td>1</td>\n",
       "    </tr>\n",
       "  </tbody>\n",
       "</table>\n",
       "</div>\n",
       "      <button class=\"colab-df-convert\" onclick=\"convertToInteractive('df-0a3cce6b-9cca-4b06-ab5b-144642fcfa2a')\"\n",
       "              title=\"Convert this dataframe to an interactive table.\"\n",
       "              style=\"display:none;\">\n",
       "        \n",
       "  <svg xmlns=\"http://www.w3.org/2000/svg\" height=\"24px\"viewBox=\"0 0 24 24\"\n",
       "       width=\"24px\">\n",
       "    <path d=\"M0 0h24v24H0V0z\" fill=\"none\"/>\n",
       "    <path d=\"M18.56 5.44l.94 2.06.94-2.06 2.06-.94-2.06-.94-.94-2.06-.94 2.06-2.06.94zm-11 1L8.5 8.5l.94-2.06 2.06-.94-2.06-.94L8.5 2.5l-.94 2.06-2.06.94zm10 10l.94 2.06.94-2.06 2.06-.94-2.06-.94-.94-2.06-.94 2.06-2.06.94z\"/><path d=\"M17.41 7.96l-1.37-1.37c-.4-.4-.92-.59-1.43-.59-.52 0-1.04.2-1.43.59L10.3 9.45l-7.72 7.72c-.78.78-.78 2.05 0 2.83L4 21.41c.39.39.9.59 1.41.59.51 0 1.02-.2 1.41-.59l7.78-7.78 2.81-2.81c.8-.78.8-2.07 0-2.86zM5.41 20L4 18.59l7.72-7.72 1.47 1.35L5.41 20z\"/>\n",
       "  </svg>\n",
       "      </button>\n",
       "      \n",
       "  <style>\n",
       "    .colab-df-container {\n",
       "      display:flex;\n",
       "      flex-wrap:wrap;\n",
       "      gap: 12px;\n",
       "    }\n",
       "\n",
       "    .colab-df-convert {\n",
       "      background-color: #E8F0FE;\n",
       "      border: none;\n",
       "      border-radius: 50%;\n",
       "      cursor: pointer;\n",
       "      display: none;\n",
       "      fill: #1967D2;\n",
       "      height: 32px;\n",
       "      padding: 0 0 0 0;\n",
       "      width: 32px;\n",
       "    }\n",
       "\n",
       "    .colab-df-convert:hover {\n",
       "      background-color: #E2EBFA;\n",
       "      box-shadow: 0px 1px 2px rgba(60, 64, 67, 0.3), 0px 1px 3px 1px rgba(60, 64, 67, 0.15);\n",
       "      fill: #174EA6;\n",
       "    }\n",
       "\n",
       "    [theme=dark] .colab-df-convert {\n",
       "      background-color: #3B4455;\n",
       "      fill: #D2E3FC;\n",
       "    }\n",
       "\n",
       "    [theme=dark] .colab-df-convert:hover {\n",
       "      background-color: #434B5C;\n",
       "      box-shadow: 0px 1px 3px 1px rgba(0, 0, 0, 0.15);\n",
       "      filter: drop-shadow(0px 1px 2px rgba(0, 0, 0, 0.3));\n",
       "      fill: #FFFFFF;\n",
       "    }\n",
       "  </style>\n",
       "\n",
       "      <script>\n",
       "        const buttonEl =\n",
       "          document.querySelector('#df-0a3cce6b-9cca-4b06-ab5b-144642fcfa2a button.colab-df-convert');\n",
       "        buttonEl.style.display =\n",
       "          google.colab.kernel.accessAllowed ? 'block' : 'none';\n",
       "\n",
       "        async function convertToInteractive(key) {\n",
       "          const element = document.querySelector('#df-0a3cce6b-9cca-4b06-ab5b-144642fcfa2a');\n",
       "          const dataTable =\n",
       "            await google.colab.kernel.invokeFunction('convertToInteractive',\n",
       "                                                     [key], {});\n",
       "          if (!dataTable) return;\n",
       "\n",
       "          const docLinkHtml = 'Like what you see? Visit the ' +\n",
       "            '<a target=\"_blank\" href=https://colab.research.google.com/notebooks/data_table.ipynb>data table notebook</a>'\n",
       "            + ' to learn more about interactive tables.';\n",
       "          element.innerHTML = '';\n",
       "          dataTable['output_type'] = 'display_data';\n",
       "          await google.colab.output.renderOutput(dataTable, element);\n",
       "          const docLink = document.createElement('div');\n",
       "          docLink.innerHTML = docLinkHtml;\n",
       "          element.appendChild(docLink);\n",
       "        }\n",
       "      </script>\n",
       "    </div>\n",
       "  </div>\n",
       "  "
      ],
      "text/plain": [
       "   Unnamed: 0                                   user_id             song_id  \\\n",
       "0           0  b80344d063b5ccb3212f76538f3d9e43d87dca9e  SOAKIMP12A8C130995   \n",
       "1           1  b80344d063b5ccb3212f76538f3d9e43d87dca9e  SOBBMDR12A8C13253B   \n",
       "2           2  b80344d063b5ccb3212f76538f3d9e43d87dca9e  SOBXHDL12A81C204C0   \n",
       "3           3  b80344d063b5ccb3212f76538f3d9e43d87dca9e  SOBYHAJ12A6701BF1D   \n",
       "4           4  b80344d063b5ccb3212f76538f3d9e43d87dca9e  SODACBL12A8C13C273   \n",
       "5           5  b80344d063b5ccb3212f76538f3d9e43d87dca9e  SODDNQT12A6D4F5F7E   \n",
       "6           6  b80344d063b5ccb3212f76538f3d9e43d87dca9e  SODXRTY12AB0180F3B   \n",
       "7           7  b80344d063b5ccb3212f76538f3d9e43d87dca9e  SOFGUAY12AB017B0A8   \n",
       "8           8  b80344d063b5ccb3212f76538f3d9e43d87dca9e  SOFRQTD12A81C233C0   \n",
       "9           9  b80344d063b5ccb3212f76538f3d9e43d87dca9e  SOHQWYZ12A6D4FA701   \n",
       "\n",
       "   play_count  \n",
       "0           1  \n",
       "1           2  \n",
       "2           1  \n",
       "3           1  \n",
       "4           1  \n",
       "5           5  \n",
       "6           1  \n",
       "7           1  \n",
       "8           1  \n",
       "9           1  "
      ]
     },
     "execution_count": 6,
     "metadata": {},
     "output_type": "execute_result"
    }
   ],
   "source": [
    "# head() is a method used to display the first n records of a dataframe, by default n=5.\n",
    "count_df.head(10)"
   ]
  },
  {
   "cell_type": "code",
   "execution_count": 7,
   "metadata": {
    "colab": {
     "base_uri": "https://localhost:8080/",
     "height": 363
    },
    "executionInfo": {
     "elapsed": 13,
     "status": "ok",
     "timestamp": 1666267933791,
     "user": {
      "displayName": "Maruthi Reddy Billa",
      "userId": "04904869007533286315"
     },
     "user_tz": -330
    },
    "id": "tV1ed0ApXpu3",
    "outputId": "e05c6bb4-789f-4584-db4b-db71874ca19f"
   },
   "outputs": [
    {
     "data": {
      "text/html": [
       "\n",
       "  <div id=\"df-ef82edd3-00bd-4f4b-ad46-e318461b91a2\">\n",
       "    <div class=\"colab-df-container\">\n",
       "      <div>\n",
       "<style scoped>\n",
       "    .dataframe tbody tr th:only-of-type {\n",
       "        vertical-align: middle;\n",
       "    }\n",
       "\n",
       "    .dataframe tbody tr th {\n",
       "        vertical-align: top;\n",
       "    }\n",
       "\n",
       "    .dataframe thead th {\n",
       "        text-align: right;\n",
       "    }\n",
       "</style>\n",
       "<table border=\"1\" class=\"dataframe\">\n",
       "  <thead>\n",
       "    <tr style=\"text-align: right;\">\n",
       "      <th></th>\n",
       "      <th>song_id</th>\n",
       "      <th>title</th>\n",
       "      <th>release</th>\n",
       "      <th>artist_name</th>\n",
       "      <th>year</th>\n",
       "    </tr>\n",
       "  </thead>\n",
       "  <tbody>\n",
       "    <tr>\n",
       "      <th>0</th>\n",
       "      <td>SOQMMHC12AB0180CB8</td>\n",
       "      <td>Silent Night</td>\n",
       "      <td>Monster Ballads X-Mas</td>\n",
       "      <td>Faster Pussy cat</td>\n",
       "      <td>2003</td>\n",
       "    </tr>\n",
       "    <tr>\n",
       "      <th>1</th>\n",
       "      <td>SOVFVAK12A8C1350D9</td>\n",
       "      <td>Tanssi vaan</td>\n",
       "      <td>Karkuteillä</td>\n",
       "      <td>Karkkiautomaatti</td>\n",
       "      <td>1995</td>\n",
       "    </tr>\n",
       "    <tr>\n",
       "      <th>2</th>\n",
       "      <td>SOGTUKN12AB017F4F1</td>\n",
       "      <td>No One Could Ever</td>\n",
       "      <td>Butter</td>\n",
       "      <td>Hudson Mohawke</td>\n",
       "      <td>2006</td>\n",
       "    </tr>\n",
       "    <tr>\n",
       "      <th>3</th>\n",
       "      <td>SOBNYVR12A8C13558C</td>\n",
       "      <td>Si Vos Querés</td>\n",
       "      <td>De Culo</td>\n",
       "      <td>Yerba Brava</td>\n",
       "      <td>2003</td>\n",
       "    </tr>\n",
       "    <tr>\n",
       "      <th>4</th>\n",
       "      <td>SOHSBXH12A8C13B0DF</td>\n",
       "      <td>Tangle Of Aspens</td>\n",
       "      <td>Rene Ablaze Presents Winter Sessions</td>\n",
       "      <td>Der Mystic</td>\n",
       "      <td>0</td>\n",
       "    </tr>\n",
       "    <tr>\n",
       "      <th>5</th>\n",
       "      <td>SOZVAPQ12A8C13B63C</td>\n",
       "      <td>Symphony No. 1 G minor \"Sinfonie Serieuse\"/All...</td>\n",
       "      <td>Berwald: Symphonies Nos. 1/2/3/4</td>\n",
       "      <td>David Montgomery</td>\n",
       "      <td>0</td>\n",
       "    </tr>\n",
       "    <tr>\n",
       "      <th>6</th>\n",
       "      <td>SOQVRHI12A6D4FB2D7</td>\n",
       "      <td>We Have Got Love</td>\n",
       "      <td>Strictly The Best Vol. 34</td>\n",
       "      <td>Sasha / Turbulence</td>\n",
       "      <td>0</td>\n",
       "    </tr>\n",
       "    <tr>\n",
       "      <th>7</th>\n",
       "      <td>SOEYRFT12AB018936C</td>\n",
       "      <td>2 Da Beat Ch'yall</td>\n",
       "      <td>Da Bomb</td>\n",
       "      <td>Kris Kross</td>\n",
       "      <td>1993</td>\n",
       "    </tr>\n",
       "    <tr>\n",
       "      <th>8</th>\n",
       "      <td>SOPMIYT12A6D4F851E</td>\n",
       "      <td>Goodbye</td>\n",
       "      <td>Danny Boy</td>\n",
       "      <td>Joseph Locke</td>\n",
       "      <td>0</td>\n",
       "    </tr>\n",
       "    <tr>\n",
       "      <th>9</th>\n",
       "      <td>SOJCFMH12A8C13B0C2</td>\n",
       "      <td>Mama_ mama can't you see ?</td>\n",
       "      <td>March to cadence with the US marines</td>\n",
       "      <td>The Sun Harbor's Chorus-Documentary Recordings</td>\n",
       "      <td>0</td>\n",
       "    </tr>\n",
       "  </tbody>\n",
       "</table>\n",
       "</div>\n",
       "      <button class=\"colab-df-convert\" onclick=\"convertToInteractive('df-ef82edd3-00bd-4f4b-ad46-e318461b91a2')\"\n",
       "              title=\"Convert this dataframe to an interactive table.\"\n",
       "              style=\"display:none;\">\n",
       "        \n",
       "  <svg xmlns=\"http://www.w3.org/2000/svg\" height=\"24px\"viewBox=\"0 0 24 24\"\n",
       "       width=\"24px\">\n",
       "    <path d=\"M0 0h24v24H0V0z\" fill=\"none\"/>\n",
       "    <path d=\"M18.56 5.44l.94 2.06.94-2.06 2.06-.94-2.06-.94-.94-2.06-.94 2.06-2.06.94zm-11 1L8.5 8.5l.94-2.06 2.06-.94-2.06-.94L8.5 2.5l-.94 2.06-2.06.94zm10 10l.94 2.06.94-2.06 2.06-.94-2.06-.94-.94-2.06-.94 2.06-2.06.94z\"/><path d=\"M17.41 7.96l-1.37-1.37c-.4-.4-.92-.59-1.43-.59-.52 0-1.04.2-1.43.59L10.3 9.45l-7.72 7.72c-.78.78-.78 2.05 0 2.83L4 21.41c.39.39.9.59 1.41.59.51 0 1.02-.2 1.41-.59l7.78-7.78 2.81-2.81c.8-.78.8-2.07 0-2.86zM5.41 20L4 18.59l7.72-7.72 1.47 1.35L5.41 20z\"/>\n",
       "  </svg>\n",
       "      </button>\n",
       "      \n",
       "  <style>\n",
       "    .colab-df-container {\n",
       "      display:flex;\n",
       "      flex-wrap:wrap;\n",
       "      gap: 12px;\n",
       "    }\n",
       "\n",
       "    .colab-df-convert {\n",
       "      background-color: #E8F0FE;\n",
       "      border: none;\n",
       "      border-radius: 50%;\n",
       "      cursor: pointer;\n",
       "      display: none;\n",
       "      fill: #1967D2;\n",
       "      height: 32px;\n",
       "      padding: 0 0 0 0;\n",
       "      width: 32px;\n",
       "    }\n",
       "\n",
       "    .colab-df-convert:hover {\n",
       "      background-color: #E2EBFA;\n",
       "      box-shadow: 0px 1px 2px rgba(60, 64, 67, 0.3), 0px 1px 3px 1px rgba(60, 64, 67, 0.15);\n",
       "      fill: #174EA6;\n",
       "    }\n",
       "\n",
       "    [theme=dark] .colab-df-convert {\n",
       "      background-color: #3B4455;\n",
       "      fill: #D2E3FC;\n",
       "    }\n",
       "\n",
       "    [theme=dark] .colab-df-convert:hover {\n",
       "      background-color: #434B5C;\n",
       "      box-shadow: 0px 1px 3px 1px rgba(0, 0, 0, 0.15);\n",
       "      filter: drop-shadow(0px 1px 2px rgba(0, 0, 0, 0.3));\n",
       "      fill: #FFFFFF;\n",
       "    }\n",
       "  </style>\n",
       "\n",
       "      <script>\n",
       "        const buttonEl =\n",
       "          document.querySelector('#df-ef82edd3-00bd-4f4b-ad46-e318461b91a2 button.colab-df-convert');\n",
       "        buttonEl.style.display =\n",
       "          google.colab.kernel.accessAllowed ? 'block' : 'none';\n",
       "\n",
       "        async function convertToInteractive(key) {\n",
       "          const element = document.querySelector('#df-ef82edd3-00bd-4f4b-ad46-e318461b91a2');\n",
       "          const dataTable =\n",
       "            await google.colab.kernel.invokeFunction('convertToInteractive',\n",
       "                                                     [key], {});\n",
       "          if (!dataTable) return;\n",
       "\n",
       "          const docLinkHtml = 'Like what you see? Visit the ' +\n",
       "            '<a target=\"_blank\" href=https://colab.research.google.com/notebooks/data_table.ipynb>data table notebook</a>'\n",
       "            + ' to learn more about interactive tables.';\n",
       "          element.innerHTML = '';\n",
       "          dataTable['output_type'] = 'display_data';\n",
       "          await google.colab.output.renderOutput(dataTable, element);\n",
       "          const docLink = document.createElement('div');\n",
       "          docLink.innerHTML = docLinkHtml;\n",
       "          element.appendChild(docLink);\n",
       "        }\n",
       "      </script>\n",
       "    </div>\n",
       "  </div>\n",
       "  "
      ],
      "text/plain": [
       "              song_id                                              title  \\\n",
       "0  SOQMMHC12AB0180CB8                                       Silent Night   \n",
       "1  SOVFVAK12A8C1350D9                                        Tanssi vaan   \n",
       "2  SOGTUKN12AB017F4F1                                  No One Could Ever   \n",
       "3  SOBNYVR12A8C13558C                                      Si Vos Querés   \n",
       "4  SOHSBXH12A8C13B0DF                                   Tangle Of Aspens   \n",
       "5  SOZVAPQ12A8C13B63C  Symphony No. 1 G minor \"Sinfonie Serieuse\"/All...   \n",
       "6  SOQVRHI12A6D4FB2D7                                   We Have Got Love   \n",
       "7  SOEYRFT12AB018936C                                  2 Da Beat Ch'yall   \n",
       "8  SOPMIYT12A6D4F851E                                            Goodbye   \n",
       "9  SOJCFMH12A8C13B0C2                         Mama_ mama can't you see ?   \n",
       "\n",
       "                                release  \\\n",
       "0                 Monster Ballads X-Mas   \n",
       "1                           Karkuteillä   \n",
       "2                                Butter   \n",
       "3                               De Culo   \n",
       "4  Rene Ablaze Presents Winter Sessions   \n",
       "5      Berwald: Symphonies Nos. 1/2/3/4   \n",
       "6             Strictly The Best Vol. 34   \n",
       "7                               Da Bomb   \n",
       "8                             Danny Boy   \n",
       "9  March to cadence with the US marines   \n",
       "\n",
       "                                      artist_name  year  \n",
       "0                                Faster Pussy cat  2003  \n",
       "1                                Karkkiautomaatti  1995  \n",
       "2                                  Hudson Mohawke  2006  \n",
       "3                                     Yerba Brava  2003  \n",
       "4                                      Der Mystic     0  \n",
       "5                                David Montgomery     0  \n",
       "6                              Sasha / Turbulence     0  \n",
       "7                                      Kris Kross  1993  \n",
       "8                                    Joseph Locke     0  \n",
       "9  The Sun Harbor's Chorus-Documentary Recordings     0  "
      ]
     },
     "execution_count": 7,
     "metadata": {},
     "output_type": "execute_result"
    }
   ],
   "source": [
    "song_df.head(10)"
   ]
  },
  {
   "cell_type": "markdown",
   "metadata": {
    "lang": "pt"
   },
   "source": [
    "**Vamos verificar os tipos de dados e valores ausentes de cada coluna**"
   ]
  },
  {
   "cell_type": "code",
   "execution_count": 8,
   "metadata": {
    "colab": {
     "base_uri": "https://localhost:8080/"
    },
    "executionInfo": {
     "elapsed": 13,
     "status": "ok",
     "timestamp": 1666267933791,
     "user": {
      "displayName": "Maruthi Reddy Billa",
      "userId": "04904869007533286315"
     },
     "user_tz": -330
    },
    "id": "yyoHc_cnX19J",
    "outputId": "263c6a44-a7ee-4ea4-9cd6-cebbebbd3ec8"
   },
   "outputs": [
    {
     "name": "stdout",
     "output_type": "stream",
     "text": [
      "<class 'pandas.core.frame.DataFrame'>\n",
      "RangeIndex: 2000000 entries, 0 to 1999999\n",
      "Data columns (total 4 columns):\n",
      " #   Column      Dtype \n",
      "---  ------      ----- \n",
      " 0   Unnamed: 0  int64 \n",
      " 1   user_id     object\n",
      " 2   song_id     object\n",
      " 3   play_count  int64 \n",
      "dtypes: int64(2), object(2)\n",
      "memory usage: 61.0+ MB\n"
     ]
    }
   ],
   "source": [
    "count_df.info()"
   ]
  },
  {
   "cell_type": "code",
   "execution_count": 9,
   "metadata": {
    "colab": {
     "base_uri": "https://localhost:8080/"
    },
    "executionInfo": {
     "elapsed": 10,
     "status": "ok",
     "timestamp": 1666267933792,
     "user": {
      "displayName": "Maruthi Reddy Billa",
      "userId": "04904869007533286315"
     },
     "user_tz": -330
    },
    "id": "rz3zDx_LX42y",
    "outputId": "b4fe62d1-be75-4097-dd29-1376264f8257"
   },
   "outputs": [
    {
     "name": "stdout",
     "output_type": "stream",
     "text": [
      "<class 'pandas.core.frame.DataFrame'>\n",
      "RangeIndex: 1000000 entries, 0 to 999999\n",
      "Data columns (total 5 columns):\n",
      " #   Column       Non-Null Count    Dtype \n",
      "---  ------       --------------    ----- \n",
      " 0   song_id      1000000 non-null  object\n",
      " 1   title        999985 non-null   object\n",
      " 2   release      999995 non-null   object\n",
      " 3   artist_name  1000000 non-null  object\n",
      " 4   year         1000000 non-null  int64 \n",
      "dtypes: int64(1), object(4)\n",
      "memory usage: 38.1+ MB\n"
     ]
    }
   ],
   "source": [
    "song_df.info()"
   ]
  },
  {
   "cell_type": "markdown",
   "metadata": {
    "lang": "pt"
   },
   "source": [
    "**Observações**:\n",
    "- O dataframe **count_df** contém **user_id, song_id,** e o **número de vezes que uma determinada música foi tocada por um determinado usuário**. Existem **4 colunas** e **20,000,000 observações** no conjunto de dados.\n",
    "- A coluna **unnamed: 0** parece ser o índice do dataframe. Podemos descartar esta coluna.\n",
    "- Os dados song_df contém informações/características da música - **título**, **álbum lançado**, **nome do artista**,**ano de lançamento**. Existem **5 colunas** e **10,000,000 observações** no conjunto de dados."
   ]
  },
  {
   "cell_type": "code",
   "execution_count": 10,
   "metadata": {
    "colab": {
     "base_uri": "https://localhost:8080/",
     "height": 520
    },
    "executionInfo": {
     "elapsed": 2846,
     "status": "ok",
     "timestamp": 1666267936630,
     "user": {
      "displayName": "Maruthi Reddy Billa",
      "userId": "04904869007533286315"
     },
     "user_tz": -330
    },
    "id": "ueOpkDSTJSGw",
    "outputId": "43ac6ee2-d359-4816-b45c-978fcfc238e2"
   },
   "outputs": [
    {
     "data": {
      "text/html": [
       "\n",
       "  <div id=\"df-3d42cf34-f792-4d95-815f-be5c6ea1d92d\">\n",
       "    <div class=\"colab-df-container\">\n",
       "      <div>\n",
       "<style scoped>\n",
       "    .dataframe tbody tr th:only-of-type {\n",
       "        vertical-align: middle;\n",
       "    }\n",
       "\n",
       "    .dataframe tbody tr th {\n",
       "        vertical-align: top;\n",
       "    }\n",
       "\n",
       "    .dataframe thead th {\n",
       "        text-align: right;\n",
       "    }\n",
       "</style>\n",
       "<table border=\"1\" class=\"dataframe\">\n",
       "  <thead>\n",
       "    <tr style=\"text-align: right;\">\n",
       "      <th></th>\n",
       "      <th>user_id</th>\n",
       "      <th>song_id</th>\n",
       "      <th>play_count</th>\n",
       "      <th>title</th>\n",
       "      <th>release</th>\n",
       "      <th>artist_name</th>\n",
       "      <th>year</th>\n",
       "    </tr>\n",
       "  </thead>\n",
       "  <tbody>\n",
       "    <tr>\n",
       "      <th>0</th>\n",
       "      <td>b80344d063b5ccb3212f76538f3d9e43d87dca9e</td>\n",
       "      <td>SOAKIMP12A8C130995</td>\n",
       "      <td>1</td>\n",
       "      <td>The Cove</td>\n",
       "      <td>Thicker Than Water</td>\n",
       "      <td>Jack Johnson</td>\n",
       "      <td>0</td>\n",
       "    </tr>\n",
       "    <tr>\n",
       "      <th>1</th>\n",
       "      <td>b80344d063b5ccb3212f76538f3d9e43d87dca9e</td>\n",
       "      <td>SOBBMDR12A8C13253B</td>\n",
       "      <td>2</td>\n",
       "      <td>Entre Dos Aguas</td>\n",
       "      <td>Flamenco Para Niños</td>\n",
       "      <td>Paco De Lucia</td>\n",
       "      <td>1976</td>\n",
       "    </tr>\n",
       "    <tr>\n",
       "      <th>2</th>\n",
       "      <td>b80344d063b5ccb3212f76538f3d9e43d87dca9e</td>\n",
       "      <td>SOBXHDL12A81C204C0</td>\n",
       "      <td>1</td>\n",
       "      <td>Stronger</td>\n",
       "      <td>Graduation</td>\n",
       "      <td>Kanye West</td>\n",
       "      <td>2007</td>\n",
       "    </tr>\n",
       "    <tr>\n",
       "      <th>3</th>\n",
       "      <td>b80344d063b5ccb3212f76538f3d9e43d87dca9e</td>\n",
       "      <td>SOBYHAJ12A6701BF1D</td>\n",
       "      <td>1</td>\n",
       "      <td>Constellations</td>\n",
       "      <td>In Between Dreams</td>\n",
       "      <td>Jack Johnson</td>\n",
       "      <td>2005</td>\n",
       "    </tr>\n",
       "    <tr>\n",
       "      <th>4</th>\n",
       "      <td>b80344d063b5ccb3212f76538f3d9e43d87dca9e</td>\n",
       "      <td>SODACBL12A8C13C273</td>\n",
       "      <td>1</td>\n",
       "      <td>Learn To Fly</td>\n",
       "      <td>There Is Nothing Left To Lose</td>\n",
       "      <td>Foo Fighters</td>\n",
       "      <td>1999</td>\n",
       "    </tr>\n",
       "    <tr>\n",
       "      <th>...</th>\n",
       "      <td>...</td>\n",
       "      <td>...</td>\n",
       "      <td>...</td>\n",
       "      <td>...</td>\n",
       "      <td>...</td>\n",
       "      <td>...</td>\n",
       "      <td>...</td>\n",
       "    </tr>\n",
       "    <tr>\n",
       "      <th>1999995</th>\n",
       "      <td>d8bfd4ec88f0f3773a9e022e3c1a0f1d3b7b6a92</td>\n",
       "      <td>SOJEYPO12AAA8C6B0E</td>\n",
       "      <td>2</td>\n",
       "      <td>Ignorance (Album Version)</td>\n",
       "      <td>Ignorance</td>\n",
       "      <td>Paramore</td>\n",
       "      <td>0</td>\n",
       "    </tr>\n",
       "    <tr>\n",
       "      <th>1999996</th>\n",
       "      <td>d8bfd4ec88f0f3773a9e022e3c1a0f1d3b7b6a92</td>\n",
       "      <td>SOJJYDE12AF729FC16</td>\n",
       "      <td>4</td>\n",
       "      <td>Two Is Better Than One</td>\n",
       "      <td>Love Drunk</td>\n",
       "      <td>Boys Like Girls featuring Taylor Swift</td>\n",
       "      <td>2009</td>\n",
       "    </tr>\n",
       "    <tr>\n",
       "      <th>1999997</th>\n",
       "      <td>d8bfd4ec88f0f3773a9e022e3c1a0f1d3b7b6a92</td>\n",
       "      <td>SOJKQSF12A6D4F5EE9</td>\n",
       "      <td>3</td>\n",
       "      <td>What I've Done (Album Version)</td>\n",
       "      <td>What I've Done</td>\n",
       "      <td>Linkin Park</td>\n",
       "      <td>2007</td>\n",
       "    </tr>\n",
       "    <tr>\n",
       "      <th>1999998</th>\n",
       "      <td>d8bfd4ec88f0f3773a9e022e3c1a0f1d3b7b6a92</td>\n",
       "      <td>SOJUXGA12AC961885C</td>\n",
       "      <td>1</td>\n",
       "      <td>Up</td>\n",
       "      <td>My Worlds</td>\n",
       "      <td>Justin Bieber</td>\n",
       "      <td>2010</td>\n",
       "    </tr>\n",
       "    <tr>\n",
       "      <th>1999999</th>\n",
       "      <td>d8bfd4ec88f0f3773a9e022e3c1a0f1d3b7b6a92</td>\n",
       "      <td>SOJYOLS12A8C13C06F</td>\n",
       "      <td>1</td>\n",
       "      <td>Soil_ Soil (Album Version)</td>\n",
       "      <td>The Con</td>\n",
       "      <td>Tegan And Sara</td>\n",
       "      <td>2007</td>\n",
       "    </tr>\n",
       "  </tbody>\n",
       "</table>\n",
       "<p>2000000 rows × 7 columns</p>\n",
       "</div>\n",
       "      <button class=\"colab-df-convert\" onclick=\"convertToInteractive('df-3d42cf34-f792-4d95-815f-be5c6ea1d92d')\"\n",
       "              title=\"Convert this dataframe to an interactive table.\"\n",
       "              style=\"display:none;\">\n",
       "        \n",
       "  <svg xmlns=\"http://www.w3.org/2000/svg\" height=\"24px\"viewBox=\"0 0 24 24\"\n",
       "       width=\"24px\">\n",
       "    <path d=\"M0 0h24v24H0V0z\" fill=\"none\"/>\n",
       "    <path d=\"M18.56 5.44l.94 2.06.94-2.06 2.06-.94-2.06-.94-.94-2.06-.94 2.06-2.06.94zm-11 1L8.5 8.5l.94-2.06 2.06-.94-2.06-.94L8.5 2.5l-.94 2.06-2.06.94zm10 10l.94 2.06.94-2.06 2.06-.94-2.06-.94-.94-2.06-.94 2.06-2.06.94z\"/><path d=\"M17.41 7.96l-1.37-1.37c-.4-.4-.92-.59-1.43-.59-.52 0-1.04.2-1.43.59L10.3 9.45l-7.72 7.72c-.78.78-.78 2.05 0 2.83L4 21.41c.39.39.9.59 1.41.59.51 0 1.02-.2 1.41-.59l7.78-7.78 2.81-2.81c.8-.78.8-2.07 0-2.86zM5.41 20L4 18.59l7.72-7.72 1.47 1.35L5.41 20z\"/>\n",
       "  </svg>\n",
       "      </button>\n",
       "      \n",
       "  <style>\n",
       "    .colab-df-container {\n",
       "      display:flex;\n",
       "      flex-wrap:wrap;\n",
       "      gap: 12px;\n",
       "    }\n",
       "\n",
       "    .colab-df-convert {\n",
       "      background-color: #E8F0FE;\n",
       "      border: none;\n",
       "      border-radius: 50%;\n",
       "      cursor: pointer;\n",
       "      display: none;\n",
       "      fill: #1967D2;\n",
       "      height: 32px;\n",
       "      padding: 0 0 0 0;\n",
       "      width: 32px;\n",
       "    }\n",
       "\n",
       "    .colab-df-convert:hover {\n",
       "      background-color: #E2EBFA;\n",
       "      box-shadow: 0px 1px 2px rgba(60, 64, 67, 0.3), 0px 1px 3px 1px rgba(60, 64, 67, 0.15);\n",
       "      fill: #174EA6;\n",
       "    }\n",
       "\n",
       "    [theme=dark] .colab-df-convert {\n",
       "      background-color: #3B4455;\n",
       "      fill: #D2E3FC;\n",
       "    }\n",
       "\n",
       "    [theme=dark] .colab-df-convert:hover {\n",
       "      background-color: #434B5C;\n",
       "      box-shadow: 0px 1px 3px 1px rgba(0, 0, 0, 0.15);\n",
       "      filter: drop-shadow(0px 1px 2px rgba(0, 0, 0, 0.3));\n",
       "      fill: #FFFFFF;\n",
       "    }\n",
       "  </style>\n",
       "\n",
       "      <script>\n",
       "        const buttonEl =\n",
       "          document.querySelector('#df-3d42cf34-f792-4d95-815f-be5c6ea1d92d button.colab-df-convert');\n",
       "        buttonEl.style.display =\n",
       "          google.colab.kernel.accessAllowed ? 'block' : 'none';\n",
       "\n",
       "        async function convertToInteractive(key) {\n",
       "          const element = document.querySelector('#df-3d42cf34-f792-4d95-815f-be5c6ea1d92d');\n",
       "          const dataTable =\n",
       "            await google.colab.kernel.invokeFunction('convertToInteractive',\n",
       "                                                     [key], {});\n",
       "          if (!dataTable) return;\n",
       "\n",
       "          const docLinkHtml = 'Like what you see? Visit the ' +\n",
       "            '<a target=\"_blank\" href=https://colab.research.google.com/notebooks/data_table.ipynb>data table notebook</a>'\n",
       "            + ' to learn more about interactive tables.';\n",
       "          element.innerHTML = '';\n",
       "          dataTable['output_type'] = 'display_data';\n",
       "          await google.colab.output.renderOutput(dataTable, element);\n",
       "          const docLink = document.createElement('div');\n",
       "          docLink.innerHTML = docLinkHtml;\n",
       "          element.appendChild(docLink);\n",
       "        }\n",
       "      </script>\n",
       "    </div>\n",
       "  </div>\n",
       "  "
      ],
      "text/plain": [
       "                                          user_id             song_id  \\\n",
       "0        b80344d063b5ccb3212f76538f3d9e43d87dca9e  SOAKIMP12A8C130995   \n",
       "1        b80344d063b5ccb3212f76538f3d9e43d87dca9e  SOBBMDR12A8C13253B   \n",
       "2        b80344d063b5ccb3212f76538f3d9e43d87dca9e  SOBXHDL12A81C204C0   \n",
       "3        b80344d063b5ccb3212f76538f3d9e43d87dca9e  SOBYHAJ12A6701BF1D   \n",
       "4        b80344d063b5ccb3212f76538f3d9e43d87dca9e  SODACBL12A8C13C273   \n",
       "...                                           ...                 ...   \n",
       "1999995  d8bfd4ec88f0f3773a9e022e3c1a0f1d3b7b6a92  SOJEYPO12AAA8C6B0E   \n",
       "1999996  d8bfd4ec88f0f3773a9e022e3c1a0f1d3b7b6a92  SOJJYDE12AF729FC16   \n",
       "1999997  d8bfd4ec88f0f3773a9e022e3c1a0f1d3b7b6a92  SOJKQSF12A6D4F5EE9   \n",
       "1999998  d8bfd4ec88f0f3773a9e022e3c1a0f1d3b7b6a92  SOJUXGA12AC961885C   \n",
       "1999999  d8bfd4ec88f0f3773a9e022e3c1a0f1d3b7b6a92  SOJYOLS12A8C13C06F   \n",
       "\n",
       "         play_count                           title  \\\n",
       "0                 1                        The Cove   \n",
       "1                 2                 Entre Dos Aguas   \n",
       "2                 1                        Stronger   \n",
       "3                 1                  Constellations   \n",
       "4                 1                    Learn To Fly   \n",
       "...             ...                             ...   \n",
       "1999995           2       Ignorance (Album Version)   \n",
       "1999996           4          Two Is Better Than One   \n",
       "1999997           3  What I've Done (Album Version)   \n",
       "1999998           1                              Up   \n",
       "1999999           1      Soil_ Soil (Album Version)   \n",
       "\n",
       "                               release  \\\n",
       "0                   Thicker Than Water   \n",
       "1                  Flamenco Para Niños   \n",
       "2                           Graduation   \n",
       "3                    In Between Dreams   \n",
       "4        There Is Nothing Left To Lose   \n",
       "...                                ...   \n",
       "1999995                      Ignorance   \n",
       "1999996                     Love Drunk   \n",
       "1999997                 What I've Done   \n",
       "1999998                      My Worlds   \n",
       "1999999                        The Con   \n",
       "\n",
       "                                    artist_name  year  \n",
       "0                                  Jack Johnson     0  \n",
       "1                                 Paco De Lucia  1976  \n",
       "2                                    Kanye West  2007  \n",
       "3                                  Jack Johnson  2005  \n",
       "4                                  Foo Fighters  1999  \n",
       "...                                         ...   ...  \n",
       "1999995                                Paramore     0  \n",
       "1999996  Boys Like Girls featuring Taylor Swift  2009  \n",
       "1999997                             Linkin Park  2007  \n",
       "1999998                           Justin Bieber  2010  \n",
       "1999999                          Tegan And Sara  2007  \n",
       "\n",
       "[2000000 rows x 7 columns]"
      ]
     },
     "execution_count": 10,
     "metadata": {},
     "output_type": "execute_result"
    }
   ],
   "source": [
    "# Joining/merging the count_df anf song_df to better understand the user prefrences\n",
    "df = pd.merge(count_df, song_df.drop_duplicates(['song_id']), on=\"song_id\", how=\"left\")\n",
    "df = df.drop(['Unnamed: 0'],axis=1)\n",
    "df"
   ]
  },
  {
   "cell_type": "markdown",
   "metadata": {
    "lang": "pt"
   },
   "source": [
    "Aqui as colunas **song_id** e **user_id** são criptografadas para fornecer anonimato. Para facilitar nosso processamento do conjunto de dados, usaremos codificações de rótulo para processar essas duas variáveis."
   ]
  },
  {
   "cell_type": "code",
   "execution_count": 11,
   "metadata": {
    "executionInfo": {
     "elapsed": 1742,
     "status": "ok",
     "timestamp": 1666267938361,
     "user": {
      "displayName": "Maruthi Reddy Billa",
      "userId": "04904869007533286315"
     },
     "user_tz": -330
    },
    "id": "S6lVbY8pnsTq"
   },
   "outputs": [],
   "source": [
    "# Label encoding\n",
    "from sklearn.preprocessing import LabelEncoder\n",
    "\n",
    "le = LabelEncoder()\n",
    "df['user_id'] = le.fit_transform(df['user_id'])\n",
    "df['song_id'] = le.fit_transform(df['song_id'])"
   ]
  },
  {
   "cell_type": "markdown",
   "metadata": {
    "lang": "pt"
   },
   "source": [
    "**Como este conjunto de dados é muito grande e tem 2,000,000 observações, não é computacionalmente possível construir um modelo com essa quantidade de dados. Além disso, muitos usuários ouviram apenas algumas músicas e também algumas músicas são ouvidas por muito poucos usuários. Portanto, podemos reduzir o conjunto de dados considerando certas suposições lógicas.**\n",
    "\n",
    "Aqui, levaremos em consideração os usuários que ouviram pelo menos 90 músicas e as músicas que são ouvidas por pelo menos 120 usuários."
   ]
  },
  {
   "cell_type": "code",
   "execution_count": 12,
   "metadata": {
    "executionInfo": {
     "elapsed": 872,
     "status": "ok",
     "timestamp": 1666267939231,
     "user": {
      "displayName": "Maruthi Reddy Billa",
      "userId": "04904869007533286315"
     },
     "user_tz": -330
    },
    "id": "7GGH9TW0_9uX"
   },
   "outputs": [],
   "source": [
    "# Get the column containing the users\n",
    "users = df.user_id\n",
    "# Create a dictionary from users to their number of songs\n",
    "ratings_count = dict()\n",
    "for user in users:\n",
    "    # If we already have the user, just add 1 to their rating count\n",
    "    if user in ratings_count:\n",
    "        ratings_count[user] += 1\n",
    "    # Otherwise, set their rating count to 1\n",
    "    else:\n",
    "        ratings_count[user] = 1    "
   ]
  },
  {
   "cell_type": "code",
   "execution_count": 13,
   "metadata": {
    "executionInfo": {
     "elapsed": 5,
     "status": "ok",
     "timestamp": 1666267939231,
     "user": {
      "displayName": "Maruthi Reddy Billa",
      "userId": "04904869007533286315"
     },
     "user_tz": -330
    },
    "id": "-cc6mOK7_9uX"
   },
   "outputs": [],
   "source": [
    "# We want our users to have listened at least 90 songs\n",
    "RATINGS_CUTOFF = 90\n",
    "remove_users = []\n",
    "for user, num_ratings in ratings_count.items():\n",
    "    if num_ratings < RATINGS_CUTOFF:\n",
    "        remove_users.append(user)\n",
    "df = df.loc[~df.user_id.isin(remove_users)]"
   ]
  },
  {
   "cell_type": "code",
   "execution_count": 14,
   "metadata": {
    "executionInfo": {
     "elapsed": 5,
     "status": "ok",
     "timestamp": 1666267939232,
     "user": {
      "displayName": "Maruthi Reddy Billa",
      "userId": "04904869007533286315"
     },
     "user_tz": -330
    },
    "id": "B5BS-Wk5_9uY"
   },
   "outputs": [],
   "source": [
    "# Get the column containing the song ids\n",
    "items = df.song_id\n",
    "# Create a dictionary from users to their number of songs\n",
    "ratings_count = dict()\n",
    "for item in items:\n",
    "    # If we already have the user, just add 1 to their rating count\n",
    "    if item in ratings_count:\n",
    "        ratings_count[item] += 1\n",
    "    # Otherwise, set their rating count to 1\n",
    "    else:\n",
    "        ratings_count[item] = 1    "
   ]
  },
  {
   "cell_type": "code",
   "execution_count": 15,
   "metadata": {
    "executionInfo": {
     "elapsed": 5,
     "status": "ok",
     "timestamp": 1666267939232,
     "user": {
      "displayName": "Maruthi Reddy Billa",
      "userId": "04904869007533286315"
     },
     "user_tz": -330
    },
    "id": "_nCtGwGO_9uY"
   },
   "outputs": [],
   "source": [
    "# We want our song to be listened by atleast 120 users to be considred\n",
    "RATINGS_CUTOFF = 120\n",
    "remove_items = []\n",
    "for item, num_ratings in ratings_count.items():\n",
    "    if num_ratings < RATINGS_CUTOFF:\n",
    "        remove_items.append(item)\n",
    "df_final= df.loc[~df.song_id.isin(remove_items)]"
   ]
  },
  {
   "cell_type": "markdown",
   "metadata": {
    "lang": "pt"
   },
   "source": [
    "De todas as músicas disponíveis quase 90% tem play_count <= 5. Portanto, para construir o sistema de recomendação, vamos considerar apenas essas músicas."
   ]
  },
  {
   "cell_type": "code",
   "execution_count": 16,
   "metadata": {
    "executionInfo": {
     "elapsed": 5,
     "status": "ok",
     "timestamp": 1666267939232,
     "user": {
      "displayName": "Maruthi Reddy Billa",
      "userId": "04904869007533286315"
     },
     "user_tz": -330
    },
    "id": "8qaKeoMcGpad"
   },
   "outputs": [],
   "source": [
    "df_final=df_final[df_final.play_count<=5]"
   ]
  },
  {
   "cell_type": "code",
   "execution_count": 17,
   "metadata": {
    "colab": {
     "base_uri": "https://localhost:8080/",
     "height": 238
    },
    "executionInfo": {
     "elapsed": 559,
     "status": "ok",
     "timestamp": 1666267939786,
     "user": {
      "displayName": "Maruthi Reddy Billa",
      "userId": "04904869007533286315"
     },
     "user_tz": -330
    },
    "id": "14ES6cOoi2gb",
    "outputId": "8d166134-8877-4e16-ad63-33562fb8a990"
   },
   "outputs": [
    {
     "data": {
      "text/html": [
       "\n",
       "  <div id=\"df-466e1c92-f5b6-4fe7-a575-258a3399b3e8\">\n",
       "    <div class=\"colab-df-container\">\n",
       "      <div>\n",
       "<style scoped>\n",
       "    .dataframe tbody tr th:only-of-type {\n",
       "        vertical-align: middle;\n",
       "    }\n",
       "\n",
       "    .dataframe tbody tr th {\n",
       "        vertical-align: top;\n",
       "    }\n",
       "\n",
       "    .dataframe thead th {\n",
       "        text-align: right;\n",
       "    }\n",
       "</style>\n",
       "<table border=\"1\" class=\"dataframe\">\n",
       "  <thead>\n",
       "    <tr style=\"text-align: right;\">\n",
       "      <th></th>\n",
       "      <th>user_id</th>\n",
       "      <th>song_id</th>\n",
       "      <th>title</th>\n",
       "      <th>release</th>\n",
       "      <th>artist_name</th>\n",
       "      <th>year</th>\n",
       "    </tr>\n",
       "    <tr>\n",
       "      <th>play_count</th>\n",
       "      <th></th>\n",
       "      <th></th>\n",
       "      <th></th>\n",
       "      <th></th>\n",
       "      <th></th>\n",
       "      <th></th>\n",
       "    </tr>\n",
       "  </thead>\n",
       "  <tbody>\n",
       "    <tr>\n",
       "      <th>1</th>\n",
       "      <td>72473</td>\n",
       "      <td>72473</td>\n",
       "      <td>72473</td>\n",
       "      <td>72473</td>\n",
       "      <td>72473</td>\n",
       "      <td>72473</td>\n",
       "    </tr>\n",
       "    <tr>\n",
       "      <th>2</th>\n",
       "      <td>23890</td>\n",
       "      <td>23890</td>\n",
       "      <td>23890</td>\n",
       "      <td>23890</td>\n",
       "      <td>23890</td>\n",
       "      <td>23890</td>\n",
       "    </tr>\n",
       "    <tr>\n",
       "      <th>3</th>\n",
       "      <td>10774</td>\n",
       "      <td>10774</td>\n",
       "      <td>10774</td>\n",
       "      <td>10774</td>\n",
       "      <td>10774</td>\n",
       "      <td>10774</td>\n",
       "    </tr>\n",
       "    <tr>\n",
       "      <th>4</th>\n",
       "      <td>5874</td>\n",
       "      <td>5874</td>\n",
       "      <td>5874</td>\n",
       "      <td>5874</td>\n",
       "      <td>5874</td>\n",
       "      <td>5874</td>\n",
       "    </tr>\n",
       "    <tr>\n",
       "      <th>5</th>\n",
       "      <td>4865</td>\n",
       "      <td>4865</td>\n",
       "      <td>4865</td>\n",
       "      <td>4865</td>\n",
       "      <td>4865</td>\n",
       "      <td>4865</td>\n",
       "    </tr>\n",
       "  </tbody>\n",
       "</table>\n",
       "</div>\n",
       "      <button class=\"colab-df-convert\" onclick=\"convertToInteractive('df-466e1c92-f5b6-4fe7-a575-258a3399b3e8')\"\n",
       "              title=\"Convert this dataframe to an interactive table.\"\n",
       "              style=\"display:none;\">\n",
       "        \n",
       "  <svg xmlns=\"http://www.w3.org/2000/svg\" height=\"24px\"viewBox=\"0 0 24 24\"\n",
       "       width=\"24px\">\n",
       "    <path d=\"M0 0h24v24H0V0z\" fill=\"none\"/>\n",
       "    <path d=\"M18.56 5.44l.94 2.06.94-2.06 2.06-.94-2.06-.94-.94-2.06-.94 2.06-2.06.94zm-11 1L8.5 8.5l.94-2.06 2.06-.94-2.06-.94L8.5 2.5l-.94 2.06-2.06.94zm10 10l.94 2.06.94-2.06 2.06-.94-2.06-.94-.94-2.06-.94 2.06-2.06.94z\"/><path d=\"M17.41 7.96l-1.37-1.37c-.4-.4-.92-.59-1.43-.59-.52 0-1.04.2-1.43.59L10.3 9.45l-7.72 7.72c-.78.78-.78 2.05 0 2.83L4 21.41c.39.39.9.59 1.41.59.51 0 1.02-.2 1.41-.59l7.78-7.78 2.81-2.81c.8-.78.8-2.07 0-2.86zM5.41 20L4 18.59l7.72-7.72 1.47 1.35L5.41 20z\"/>\n",
       "  </svg>\n",
       "      </button>\n",
       "      \n",
       "  <style>\n",
       "    .colab-df-container {\n",
       "      display:flex;\n",
       "      flex-wrap:wrap;\n",
       "      gap: 12px;\n",
       "    }\n",
       "\n",
       "    .colab-df-convert {\n",
       "      background-color: #E8F0FE;\n",
       "      border: none;\n",
       "      border-radius: 50%;\n",
       "      cursor: pointer;\n",
       "      display: none;\n",
       "      fill: #1967D2;\n",
       "      height: 32px;\n",
       "      padding: 0 0 0 0;\n",
       "      width: 32px;\n",
       "    }\n",
       "\n",
       "    .colab-df-convert:hover {\n",
       "      background-color: #E2EBFA;\n",
       "      box-shadow: 0px 1px 2px rgba(60, 64, 67, 0.3), 0px 1px 3px 1px rgba(60, 64, 67, 0.15);\n",
       "      fill: #174EA6;\n",
       "    }\n",
       "\n",
       "    [theme=dark] .colab-df-convert {\n",
       "      background-color: #3B4455;\n",
       "      fill: #D2E3FC;\n",
       "    }\n",
       "\n",
       "    [theme=dark] .colab-df-convert:hover {\n",
       "      background-color: #434B5C;\n",
       "      box-shadow: 0px 1px 3px 1px rgba(0, 0, 0, 0.15);\n",
       "      filter: drop-shadow(0px 1px 2px rgba(0, 0, 0, 0.3));\n",
       "      fill: #FFFFFF;\n",
       "    }\n",
       "  </style>\n",
       "\n",
       "      <script>\n",
       "        const buttonEl =\n",
       "          document.querySelector('#df-466e1c92-f5b6-4fe7-a575-258a3399b3e8 button.colab-df-convert');\n",
       "        buttonEl.style.display =\n",
       "          google.colab.kernel.accessAllowed ? 'block' : 'none';\n",
       "\n",
       "        async function convertToInteractive(key) {\n",
       "          const element = document.querySelector('#df-466e1c92-f5b6-4fe7-a575-258a3399b3e8');\n",
       "          const dataTable =\n",
       "            await google.colab.kernel.invokeFunction('convertToInteractive',\n",
       "                                                     [key], {});\n",
       "          if (!dataTable) return;\n",
       "\n",
       "          const docLinkHtml = 'Like what you see? Visit the ' +\n",
       "            '<a target=\"_blank\" href=https://colab.research.google.com/notebooks/data_table.ipynb>data table notebook</a>'\n",
       "            + ' to learn more about interactive tables.';\n",
       "          element.innerHTML = '';\n",
       "          dataTable['output_type'] = 'display_data';\n",
       "          await google.colab.output.renderOutput(dataTable, element);\n",
       "          const docLink = document.createElement('div');\n",
       "          docLink.innerHTML = docLinkHtml;\n",
       "          element.appendChild(docLink);\n",
       "        }\n",
       "      </script>\n",
       "    </div>\n",
       "  </div>\n",
       "  "
      ],
      "text/plain": [
       "            user_id  song_id  title  release  artist_name   year\n",
       "play_count                                                      \n",
       "1             72473    72473  72473    72473        72473  72473\n",
       "2             23890    23890  23890    23890        23890  23890\n",
       "3             10774    10774  10774    10774        10774  10774\n",
       "4              5874     5874   5874     5874         5874   5874\n",
       "5              4865     4865   4865     4865         4865   4865"
      ]
     },
     "execution_count": 17,
     "metadata": {},
     "output_type": "execute_result"
    }
   ],
   "source": [
    "df_final.groupby(\"play_count\").count()"
   ]
  },
  {
   "cell_type": "code",
   "execution_count": 18,
   "metadata": {
    "colab": {
     "base_uri": "https://localhost:8080/"
    },
    "executionInfo": {
     "elapsed": 19,
     "status": "ok",
     "timestamp": 1666267939787,
     "user": {
      "displayName": "Maruthi Reddy Billa",
      "userId": "04904869007533286315"
     },
     "user_tz": -330
    },
    "id": "aL1JZ00o5JtQ",
    "outputId": "5622b1cc-9bf3-4464-b6b7-769cbb4e5b38"
   },
   "outputs": [
    {
     "data": {
      "text/plain": [
       "(117876, 7)"
      ]
     },
     "execution_count": 18,
     "metadata": {},
     "output_type": "execute_result"
    }
   ],
   "source": [
    "# See the shape of the data\n",
    "df_final.shape"
   ]
  },
  {
   "cell_type": "markdown",
   "metadata": {
    "lang": "pt"
   },
   "source": [
    "## **Análise exploratória de dados**"
   ]
  },
  {
   "cell_type": "markdown",
   "metadata": {
    "lang": "pt"
   },
   "source": [
    "### **Vamos verificar o número total de usuários únicos, músicas, artistas nos dados**"
   ]
  },
  {
   "cell_type": "markdown",
   "metadata": {
    "lang": "pt"
   },
   "source": [
    "**Número total de usuários únicos**"
   ]
  },
  {
   "cell_type": "code",
   "execution_count": 19,
   "metadata": {
    "colab": {
     "base_uri": "https://localhost:8080/"
    },
    "executionInfo": {
     "elapsed": 16,
     "status": "ok",
     "timestamp": 1666267939787,
     "user": {
      "displayName": "Maruthi Reddy Billa",
      "userId": "04904869007533286315"
     },
     "user_tz": -330
    },
    "id": "XPUpYwBTKmE7",
    "outputId": "cb13f8a8-e5e0-41ac-885c-f03d508d732a"
   },
   "outputs": [
    {
     "data": {
      "text/plain": [
       "3155"
      ]
     },
     "execution_count": 19,
     "metadata": {},
     "output_type": "execute_result"
    }
   ],
   "source": [
    "df_final['user_id'].nunique()"
   ]
  },
  {
   "cell_type": "markdown",
   "metadata": {
    "lang": "pt"
   },
   "source": [
    "**Número total de músicas exclusivas**"
   ]
  },
  {
   "cell_type": "code",
   "execution_count": 20,
   "metadata": {
    "colab": {
     "base_uri": "https://localhost:8080/"
    },
    "executionInfo": {
     "elapsed": 14,
     "status": "ok",
     "timestamp": 1666267939787,
     "user": {
      "displayName": "Maruthi Reddy Billa",
      "userId": "04904869007533286315"
     },
     "user_tz": -330
    },
    "id": "TGDHa1-fLleI",
    "outputId": "ba78a99d-7d19-4473-daef-5aeaa86abb67"
   },
   "outputs": [
    {
     "data": {
      "text/plain": [
       "563"
      ]
     },
     "execution_count": 20,
     "metadata": {},
     "output_type": "execute_result"
    }
   ],
   "source": [
    "df_final['song_id'].nunique()"
   ]
  },
  {
   "cell_type": "markdown",
   "metadata": {
    "lang": "pt"
   },
   "source": [
    "**Número total de artistas únicos**"
   ]
  },
  {
   "cell_type": "code",
   "execution_count": 21,
   "metadata": {
    "colab": {
     "base_uri": "https://localhost:8080/"
    },
    "executionInfo": {
     "elapsed": 13,
     "status": "ok",
     "timestamp": 1666267939788,
     "user": {
      "displayName": "Maruthi Reddy Billa",
      "userId": "04904869007533286315"
     },
     "user_tz": -330
    },
    "id": "-68JvkONVgRJ",
    "outputId": "2040cd39-414f-4c45-c92e-b8749ca4dd96"
   },
   "outputs": [
    {
     "data": {
      "text/plain": [
       "232"
      ]
     },
     "execution_count": 21,
     "metadata": {},
     "output_type": "execute_result"
    }
   ],
   "source": [
    "df_final['artist_name'].nunique()"
   ]
  },
  {
   "cell_type": "markdown",
   "metadata": {
    "lang": "pt"
   },
   "source": [
    "**Observações:**\n",
    "- Existem **3155 usuários únicos**, **563 músicas únicas** e **232 artistas** no conjunto de dados final."
   ]
  },
  {
   "cell_type": "markdown",
   "metadata": {
    "lang": "pt"
   },
   "source": [
    "### **Vamos descobrir as músicas e os usuários que mais interagiram**"
   ]
  },
  {
   "cell_type": "markdown",
   "metadata": {
    "lang": "pt"
   },
   "source": [
    "**Músicas mais interagidas**"
   ]
  },
  {
   "cell_type": "code",
   "execution_count": 22,
   "metadata": {
    "colab": {
     "base_uri": "https://localhost:8080/"
    },
    "executionInfo": {
     "elapsed": 10,
     "status": "ok",
     "timestamp": 1666267939788,
     "user": {
      "displayName": "Maruthi Reddy Billa",
      "userId": "04904869007533286315"
     },
     "user_tz": -330
    },
    "id": "B8CYaObbL1SL",
    "outputId": "e5b534d8-7533-4d5f-8394-29969c6c25a7"
   },
   "outputs": [
    {
     "data": {
      "text/plain": [
       "Use Somebody                       751\n",
       "Dog Days Are Over (Radio Edit)     748\n",
       "Sehr kosmisch                      713\n",
       "Clocks                             662\n",
       "The Scientist                      652\n",
       "                                  ... \n",
       "Who's Real                         103\n",
       "Brave The Elements                 102\n",
       "Creil City                         101\n",
       "Heaven Must Be Missing An Angel     97\n",
       "The Big Gundown                     96\n",
       "Name: title, Length: 561, dtype: int64"
      ]
     },
     "execution_count": 22,
     "metadata": {},
     "output_type": "execute_result"
    }
   ],
   "source": [
    "df_final['title'].value_counts()"
   ]
  },
  {
   "cell_type": "markdown",
   "metadata": {
    "lang": "pt"
   },
   "source": [
    "**Usuários com mais interações**"
   ]
  },
  {
   "cell_type": "code",
   "execution_count": 23,
   "metadata": {
    "colab": {
     "base_uri": "https://localhost:8080/"
    },
    "executionInfo": {
     "elapsed": 8,
     "status": "ok",
     "timestamp": 1666267939788,
     "user": {
      "displayName": "Maruthi Reddy Billa",
      "userId": "04904869007533286315"
     },
     "user_tz": -330
    },
    "id": "OxOipD81MhTb",
    "outputId": "224035bd-b99d-432e-d762-ba4ae54b61b1"
   },
   "outputs": [
    {
     "data": {
      "text/plain": [
       "61472    243\n",
       "15733    227\n",
       "37049    202\n",
       "9570     184\n",
       "23337    177\n",
       "        ... \n",
       "19776      1\n",
       "45476      1\n",
       "17961      1\n",
       "14439      1\n",
       "10412      1\n",
       "Name: user_id, Length: 3155, dtype: int64"
      ]
     },
     "execution_count": 23,
     "metadata": {},
     "output_type": "execute_result"
    }
   ],
   "source": [
    "df_final['user_id'].value_counts()"
   ]
  },
  {
   "cell_type": "markdown",
   "metadata": {
    "lang": "pt"
   },
   "source": [
    "**Observações:**\n",
    "- A música **'Use someone'** foi tocada o maior número de vezes.\n",
    "- O usuário com **ID 61472** é o usuário que mais interagiu."
   ]
  },
  {
   "cell_type": "markdown",
   "metadata": {
    "lang": "pt"
   },
   "source": [
    "###**Vamos descobrir o número de músicas tocadas em cada ano**"
   ]
  },
  {
   "cell_type": "code",
   "execution_count": 24,
   "metadata": {
    "colab": {
     "base_uri": "https://localhost:8080/",
     "height": 238
    },
    "executionInfo": {
     "elapsed": 6,
     "status": "ok",
     "timestamp": 1666267939788,
     "user": {
      "displayName": "Maruthi Reddy Billa",
      "userId": "04904869007533286315"
     },
     "user_tz": -330
    },
    "id": "AiYxf-VtV1I1",
    "outputId": "a11ef014-bd4f-4f6c-ce2c-3c39ecd437eb"
   },
   "outputs": [
    {
     "data": {
      "text/html": [
       "\n",
       "  <div id=\"df-1c77f5ef-5015-4749-8ea8-518e43709bd7\">\n",
       "    <div class=\"colab-df-container\">\n",
       "      <div>\n",
       "<style scoped>\n",
       "    .dataframe tbody tr th:only-of-type {\n",
       "        vertical-align: middle;\n",
       "    }\n",
       "\n",
       "    .dataframe tbody tr th {\n",
       "        vertical-align: top;\n",
       "    }\n",
       "\n",
       "    .dataframe thead th {\n",
       "        text-align: right;\n",
       "    }\n",
       "</style>\n",
       "<table border=\"1\" class=\"dataframe\">\n",
       "  <thead>\n",
       "    <tr style=\"text-align: right;\">\n",
       "      <th></th>\n",
       "      <th>title</th>\n",
       "    </tr>\n",
       "    <tr>\n",
       "      <th>year</th>\n",
       "      <th></th>\n",
       "    </tr>\n",
       "  </thead>\n",
       "  <tbody>\n",
       "    <tr>\n",
       "      <th>2006</th>\n",
       "      <td>7592</td>\n",
       "    </tr>\n",
       "    <tr>\n",
       "      <th>2007</th>\n",
       "      <td>13750</td>\n",
       "    </tr>\n",
       "    <tr>\n",
       "      <th>2008</th>\n",
       "      <td>14031</td>\n",
       "    </tr>\n",
       "    <tr>\n",
       "      <th>2009</th>\n",
       "      <td>16351</td>\n",
       "    </tr>\n",
       "    <tr>\n",
       "      <th>2010</th>\n",
       "      <td>4087</td>\n",
       "    </tr>\n",
       "  </tbody>\n",
       "</table>\n",
       "</div>\n",
       "      <button class=\"colab-df-convert\" onclick=\"convertToInteractive('df-1c77f5ef-5015-4749-8ea8-518e43709bd7')\"\n",
       "              title=\"Convert this dataframe to an interactive table.\"\n",
       "              style=\"display:none;\">\n",
       "        \n",
       "  <svg xmlns=\"http://www.w3.org/2000/svg\" height=\"24px\"viewBox=\"0 0 24 24\"\n",
       "       width=\"24px\">\n",
       "    <path d=\"M0 0h24v24H0V0z\" fill=\"none\"/>\n",
       "    <path d=\"M18.56 5.44l.94 2.06.94-2.06 2.06-.94-2.06-.94-.94-2.06-.94 2.06-2.06.94zm-11 1L8.5 8.5l.94-2.06 2.06-.94-2.06-.94L8.5 2.5l-.94 2.06-2.06.94zm10 10l.94 2.06.94-2.06 2.06-.94-2.06-.94-.94-2.06-.94 2.06-2.06.94z\"/><path d=\"M17.41 7.96l-1.37-1.37c-.4-.4-.92-.59-1.43-.59-.52 0-1.04.2-1.43.59L10.3 9.45l-7.72 7.72c-.78.78-.78 2.05 0 2.83L4 21.41c.39.39.9.59 1.41.59.51 0 1.02-.2 1.41-.59l7.78-7.78 2.81-2.81c.8-.78.8-2.07 0-2.86zM5.41 20L4 18.59l7.72-7.72 1.47 1.35L5.41 20z\"/>\n",
       "  </svg>\n",
       "      </button>\n",
       "      \n",
       "  <style>\n",
       "    .colab-df-container {\n",
       "      display:flex;\n",
       "      flex-wrap:wrap;\n",
       "      gap: 12px;\n",
       "    }\n",
       "\n",
       "    .colab-df-convert {\n",
       "      background-color: #E8F0FE;\n",
       "      border: none;\n",
       "      border-radius: 50%;\n",
       "      cursor: pointer;\n",
       "      display: none;\n",
       "      fill: #1967D2;\n",
       "      height: 32px;\n",
       "      padding: 0 0 0 0;\n",
       "      width: 32px;\n",
       "    }\n",
       "\n",
       "    .colab-df-convert:hover {\n",
       "      background-color: #E2EBFA;\n",
       "      box-shadow: 0px 1px 2px rgba(60, 64, 67, 0.3), 0px 1px 3px 1px rgba(60, 64, 67, 0.15);\n",
       "      fill: #174EA6;\n",
       "    }\n",
       "\n",
       "    [theme=dark] .colab-df-convert {\n",
       "      background-color: #3B4455;\n",
       "      fill: #D2E3FC;\n",
       "    }\n",
       "\n",
       "    [theme=dark] .colab-df-convert:hover {\n",
       "      background-color: #434B5C;\n",
       "      box-shadow: 0px 1px 3px 1px rgba(0, 0, 0, 0.15);\n",
       "      filter: drop-shadow(0px 1px 2px rgba(0, 0, 0, 0.3));\n",
       "      fill: #FFFFFF;\n",
       "    }\n",
       "  </style>\n",
       "\n",
       "      <script>\n",
       "        const buttonEl =\n",
       "          document.querySelector('#df-1c77f5ef-5015-4749-8ea8-518e43709bd7 button.colab-df-convert');\n",
       "        buttonEl.style.display =\n",
       "          google.colab.kernel.accessAllowed ? 'block' : 'none';\n",
       "\n",
       "        async function convertToInteractive(key) {\n",
       "          const element = document.querySelector('#df-1c77f5ef-5015-4749-8ea8-518e43709bd7');\n",
       "          const dataTable =\n",
       "            await google.colab.kernel.invokeFunction('convertToInteractive',\n",
       "                                                     [key], {});\n",
       "          if (!dataTable) return;\n",
       "\n",
       "          const docLinkHtml = 'Like what you see? Visit the ' +\n",
       "            '<a target=\"_blank\" href=https://colab.research.google.com/notebooks/data_table.ipynb>data table notebook</a>'\n",
       "            + ' to learn more about interactive tables.';\n",
       "          element.innerHTML = '';\n",
       "          dataTable['output_type'] = 'display_data';\n",
       "          await google.colab.output.renderOutput(dataTable, element);\n",
       "          const docLink = document.createElement('div');\n",
       "          docLink.innerHTML = docLinkHtml;\n",
       "          element.appendChild(docLink);\n",
       "        }\n",
       "      </script>\n",
       "    </div>\n",
       "  </div>\n",
       "  "
      ],
      "text/plain": [
       "      title\n",
       "year       \n",
       "2006   7592\n",
       "2007  13750\n",
       "2008  14031\n",
       "2009  16351\n",
       "2010   4087"
      ]
     },
     "execution_count": 24,
     "metadata": {},
     "output_type": "execute_result"
    }
   ],
   "source": [
    "count_songs = df_final.groupby('year').count()['title']\n",
    "count = pd.DataFrame(count_songs)\n",
    "count.drop(count.index[0], inplace=True)\n",
    "count.tail()"
   ]
  },
  {
   "cell_type": "code",
   "execution_count": 25,
   "metadata": {
    "colab": {
     "base_uri": "https://localhost:8080/",
     "height": 438
    },
    "executionInfo": {
     "elapsed": 608,
     "status": "ok",
     "timestamp": 1666267940391,
     "user": {
      "displayName": "Maruthi Reddy Billa",
      "userId": "04904869007533286315"
     },
     "user_tz": -330
    },
    "id": "1UtdKDUocf2n",
    "outputId": "8cc6a0d2-ae68-46cc-cb39-8269f6aa7b56"
   },
   "outputs": [
    {
     "data": {
      "image/png": "[encoded data removed]",
      "text/plain": [
       "<Figure size 2160x720 with 1 Axes>"
      ]
     },
     "metadata": {
      "needs_background": "light"
     },
     "output_type": "display_data"
    }
   ],
   "source": [
    "plt.figure(figsize=(30,10))\n",
    "sns.barplot(x = count.index,\n",
    "            y = 'title',\n",
    "            data = count,\n",
    "            estimator = np.median)\n",
    "plt.ylabel('number of titles played') \n",
    "# Show the plot\n",
    "plt.show()"
   ]
  },
  {
   "cell_type": "markdown",
   "metadata": {
    "lang": "pt"
   },
   "source": [
    "#### **Observações e Insights:**\n",
    "- Podemos observar que o número de músicas lançadas em um ano vem aumentando ao longo dos anos.\n",
    "- De acordo com os dados, o **maior** número de músicas foi lançado em **2009** ou seja, 17,960\n",
    "- Há uma **diminuição** no número de músicas lançadas em **2010**. Como 2010 é o último ano, a diminuição pode ser porque temos apenas dados parciais do ano de 2010."
   ]
  },
  {
   "cell_type": "markdown",
   "metadata": {
    "lang": "pt"
   },
   "source": [
    "## **Abordagem proposta:**\n",
    "\n",
    "- **Possíveis tecnicas** - Podemos explorar filtragem colaborativa baseada em popularidade e similaridade (usuário-usuário e item-item) e fatoração de matrizes.\n",
    "- **Desenho da solução:**\n",
    "  - Explorar os dados e obter informações importantes\n",
    "  - Aplicar as cinco técnicas acima mencionadas e obter recomendações\n",
    "  - Avaliando-o na métrica de pontuação F_1\n",
    "  - Obtendo a melhor técnica\n",
    "  - Resumo dos benefícios potenciais\n",
    "  - Recomendação para implementação\n",
    "\n",
    "- **A fórmula do sucesso** - Usaremos a pontuação F_1 para calcular a eficácia do sistema de recomendação."
   ]
  },
  {
   "cell_type": "markdown",
   "metadata": {
    "lang": "pt"
   },
   "source": [
    "**Agora que exploramos os dados, vamos aplicar diferentes algoritmos para construir sistemas de recomendação**"
   ]
  },
  {
   "cell_type": "markdown",
   "metadata": {
    "lang": "pt"
   },
   "source": [
    "## **Sistemas de recomendação baseados em popularidade**"
   ]
  },
  {
   "cell_type": "markdown",
   "metadata": {
    "lang": "pt"
   },
   "source": [
    "**Modelo 1: Criação de sistema de recomendação baseado em classificação**"
   ]
  },
  {
   "cell_type": "markdown",
   "metadata": {
    "lang": "pt"
   },
   "source": [
    "Os sistemas de recomendação baseados em classificação fornecem recomendações com base nas músicas mais populares. Este tipo de sistema de recomendação é útil quando temos problemas de **cold start**. Cold start refere-se ao problema quando colocamos um novo usuário no sistema e a máquina não consegue recomendar músicas para o novo usuário, pois o usuário não teve nenhuma interação histórica no conjunto de dados. Nesses casos, podemos usar um sistema de recomendação baseado em classificação para recomendar músicas ao novo usuário."
   ]
  },
  {
   "cell_type": "markdown",
   "metadata": {
    "lang": "pt"
   },
   "source": [
    "Para criar o sistema de recomendação baseado em classificação, pegamos a **média** de todas os play_counts fornecidos para cada música e as classificamos com base em suas contagens médias de play_counts."
   ]
  },
  {
   "cell_type": "code",
   "execution_count": 26,
   "metadata": {
    "executionInfo": {
     "elapsed": 10,
     "status": "ok",
     "timestamp": 1666267940391,
     "user": {
      "displayName": "Maruthi Reddy Billa",
      "userId": "04904869007533286315"
     },
     "user_tz": -330
    },
    "id": "n4Uwutcydhvp"
   },
   "outputs": [],
   "source": [
    "# Calculating average play_count\n",
    "average_count = df_final.groupby('song_id').mean()['play_count']\n",
    "\n",
    "# Calculating the frequency a song is played.\n",
    "play_freq = df_final.groupby('song_id').count()['play_count']\n",
    "\n",
    "# Making a dataframe with the average_count and play_freq\n",
    "final_play = pd.DataFrame({'avg_count':average_count, 'play_freq':play_freq})"
   ]
  },
  {
   "cell_type": "markdown",
   "metadata": {
    "lang": "pt"
   },
   "source": [
    "Agora, vamos criar uma função para encontrar as **principais músicas** para uma recomendação com base na contagem média de reprodução da música. Também podemos adicionar um **limite para um número mínimo de contagens de reproduções** para que uma música possa ser considerada para recomendação."
   ]
  },
  {
   "cell_type": "code",
   "execution_count": 27,
   "metadata": {
    "executionInfo": {
     "elapsed": 11,
     "status": "ok",
     "timestamp": 1666267940392,
     "user": {
      "displayName": "Maruthi Reddy Billa",
      "userId": "04904869007533286315"
     },
     "user_tz": -330
    },
    "id": "TYBO0-l6eF7m"
   },
   "outputs": [],
   "source": [
    "def top_n_songs(data, n, min_interactions=100):\n",
    "    \n",
    "    # Finding songs with minimum number of play counts\n",
    "    recommendations = data[data['play_freq'] >= min_interactions]\n",
    "    \n",
    "    # Sorting values w.r.t average count \n",
    "    recommendations = recommendations.sort_values(by='avg_count', ascending=False)\n",
    "    \n",
    "    return recommendations.index[:n]"
   ]
  },
  {
   "cell_type": "markdown",
   "metadata": {
    "lang": "pt"
   },
   "source": [
    "Podemos **usar esta função com diferentes n's e interações mínimas** para que as músicas sejam recomendadas."
   ]
  },
  {
   "cell_type": "markdown",
   "metadata": {
    "lang": "pt"
   },
   "source": [
    "**Recomendando as 10 melhores músicas com 100 interações mínimas com base na popularidade**"
   ]
  },
  {
   "cell_type": "code",
   "execution_count": 28,
   "metadata": {
    "colab": {
     "base_uri": "https://localhost:8080/"
    },
    "executionInfo": {
     "elapsed": 10,
     "status": "ok",
     "timestamp": 1666267940392,
     "user": {
      "displayName": "Maruthi Reddy Billa",
      "userId": "04904869007533286315"
     },
     "user_tz": -330
    },
    "id": "XkitWq_eekn8",
    "outputId": "aace94dc-920e-4755-8a2e-8c8886a9108b"
   },
   "outputs": [
    {
     "data": {
      "text/plain": [
       "[7224, 6450, 9942, 5531, 5653, 8483, 2220, 657, 614, 352]"
      ]
     },
     "execution_count": 28,
     "metadata": {},
     "output_type": "execute_result"
    }
   ],
   "source": [
    "list(top_n_songs(final_play, 10, 100))"
   ]
  },
  {
   "cell_type": "markdown",
   "metadata": {
    "lang": "pt"
   },
   "source": [
    "## **Sistema de recomendação baseado em filtragem colaborativa**"
   ]
  },
  {
   "cell_type": "raw",
   "metadata": {},
   "source": []
  },
  {
   "cell_type": "markdown",
   "metadata": {
    "lang": "pt"
   },
   "source": [
    "Nesse tipo de sistema de recomendação, `não precisamos de nenhuma informação` sobre os usuários ou músicas. Precisamos apenas dos dados de interação do item do usuário para construir um sistema de recomendação colaborativo. Por exemplo -\n",
    "<ol>\n",
    "    <li><b>Avaliações</b> fornecido pelos usuários. Por exemplo - avaliações de livros no goodread, avaliações de filmes no imdb etc</li>\n",
    "    <li><b>Likes</b> de usuários em diferentes postagens do facebook, curtidas em vídeos do youtube</li>\n",
    "    <li><b>Usar/comprar</b> de um produto pelos usuários. Por exemplo - comprar itens diferentes em sites de comércio eletrônico</li>\n",
    "    <li><b>Ler</b> de artigos de leitores em vários blogs</li>\n",
    "</ol>"
   ]
  },
  {
   "cell_type": "markdown",
   "metadata": {
    "lang": "pt"
   },
   "source": [
    "#### Tipos de Filtragem Colaborativa"
   ]
  },
  {
   "cell_type": "markdown",
   "metadata": {
    "lang": "pt"
   },
   "source": [
    "- Baseado em similaridade/vizinhança\n",
    " * Usuário Baseado na Similaridade do Usuário\n",
    " * Item Com base na similaridade do item"
   ]
  },
  {
   "cell_type": "markdown",
   "metadata": {
    "lang": "pt"
   },
   "source": [
    "#### Construindo um sistema de recomendação baseado em similaridade de usuário de linha de base"
   ]
  },
  {
   "cell_type": "markdown",
   "metadata": {
    "lang": "pt"
   },
   "source": [
    "- Abaixo, estamos construindo **sistemas de recomendação baseados em similaridade** usando a similaridade `Pearson` e usando **KNN para encontrar usuários semelhantes** que são os vizinhos mais próximos do usuário em questão.\n",
    "- Estaremos usando uma nova biblioteca - `surpresa` para construir os modelos restantes, vamos primeiro importar as classes e funções necessárias desta biblioteca\n",
    "- Por favor, use o seguinte código para `instalar a biblioteca surpresa`. Você só faz isso **uma vez** ao executar o código pela primeira vez.\n",
    "\n",
    "**!pip install surpresa**"
   ]
  },
  {
   "cell_type": "code",
   "execution_count": 29,
   "metadata": {
    "colab": {
     "base_uri": "https://localhost:8080/"
    },
    "executionInfo": {
     "elapsed": 7477,
     "status": "ok",
     "timestamp": 1666267947862,
     "user": {
      "displayName": "Maruthi Reddy Billa",
      "userId": "04904869007533286315"
     },
     "user_tz": -330
    },
    "id": "aKLrKn8IfGjk",
    "outputId": "eb27cc7d-8e38-4598-9920-82ba7a9d8388"
   },
   "outputs": [
    {
     "name": "stdout",
     "output_type": "stream",
     "text": [
      "Looking in indexes: https://pypi.org/simple, https://us-python.pkg.dev/colab-wheels/public/simple/\n",
      "Requirement already satisfied: surprise in /usr/local/lib/python3.7/dist-packages (0.1)\n",
      "Requirement already satisfied: scikit-surprise in /usr/local/lib/python3.7/dist-packages (from surprise) (1.1.1)\n",
      "Requirement already satisfied: numpy>=1.11.2 in /usr/local/lib/python3.7/dist-packages (from scikit-surprise->surprise) (1.21.6)\n",
      "Requirement already satisfied: six>=1.10.0 in /usr/local/lib/python3.7/dist-packages (from scikit-surprise->surprise) (1.15.0)\n",
      "Requirement already satisfied: joblib>=0.11 in /usr/local/lib/python3.7/dist-packages (from scikit-surprise->surprise) (1.2.0)\n",
      "Requirement already satisfied: scipy>=1.0.0 in /usr/local/lib/python3.7/dist-packages (from scikit-surprise->surprise) (1.7.3)\n"
     ]
    }
   ],
   "source": [
    "!pip install surprise"
   ]
  },
  {
   "cell_type": "code",
   "execution_count": 30,
   "metadata": {
    "executionInfo": {
     "elapsed": 731,
     "status": "ok",
     "timestamp": 1666267948582,
     "user": {
      "displayName": "Maruthi Reddy Billa",
      "userId": "04904869007533286315"
     },
     "user_tz": -330
    },
    "id": "UJ1wEylUpexj"
   },
   "outputs": [],
   "source": [
    "# To compute the accuracy of models\n",
    "from surprise import accuracy\n",
    "\n",
    "# Class is used to parse a file containing play_counts, data should be in structure - user; item ; play_count\n",
    "from surprise.reader import Reader\n",
    "\n",
    "# Class for loading datasets\n",
    "from surprise.dataset import Dataset\n",
    "\n",
    "# For tuning model hyperparameters\n",
    "from surprise.model_selection import GridSearchCV\n",
    "\n",
    "# For splitting the data in train and test dataset\n",
    "from surprise.model_selection import train_test_split\n",
    "\n",
    "# For implementing similarity-based recommendation system\n",
    "from surprise.prediction_algorithms.knns import KNNBasic\n",
    "\n",
    "# For implementing matrix factorization based recommendation system\n",
    "from surprise.prediction_algorithms.matrix_factorization import SVD\n",
    "\n",
    "# For implementing KFold cross-validation\n",
    "from surprise.model_selection import KFold\n",
    "\n",
    "\n",
    "# For implementing clustering based recommendation system\n",
    "from surprise import CoClustering"
   ]
  },
  {
   "cell_type": "markdown",
   "metadata": {
    "lang": "pt"
   },
   "source": [
    "**Antes de construir os sistemas de recomendação, vamos revisar algumas terminologias básicas que vamos usar:**"
   ]
  },
  {
   "cell_type": "markdown",
   "metadata": {
    "lang": "pt"
   },
   "source": [
    "**Músicas relevantes** - Uma música que é realmente **tocada acima do limite (aqui 1.5)** é relevante, se o **play_count real estiver abaixo do limite, então música não é relevante**.\n",
    "\n",
    "**Música recomendada** - Uma música que **play_count previsto é maior que o limite (aqui 1.5) é uma música recomendada**, se a **play_count previsto estiver abaixo do limite, essa música não será recomendada ao usuário**."
   ]
  },
  {
   "cell_type": "markdown",
   "metadata": {
    "lang": "pt"
   },
   "source": [
    "**Falso Negativo (FN)** - É a **frequência de músicas relevantes que não são recomendadas ao usuário**. Se as músicas relevantes não forem recomendadas ao usuário, o usuário pode não ouvir a música. Isso resultaria na **perda de oportunidade para o provedor de serviços** que eles gostariam de minimizar.\n",
    "\n",
    "**Falso Positivo (FP)** - É a **frequência de músicas recomendadas que na verdade não são relevantes**. Nesse caso, o sistema de recomendação não está fazendo um bom trabalho em encontrar e recomendar as músicas relevantes para o usuário. Isso resultaria em **perda de recursos para o provedor de serviços** que eles também gostariam de minimizar."
   ]
  },
  {
   "cell_type": "markdown",
   "metadata": {
    "lang": "pt"
   },
   "source": [
    "**Recall** - É a **fração de músicas realmente relevantes que são recomendadas ao usuário** ou seja, se de 10 músicas relevantes, 6 são recomendadas ao usuário, então a rechamada é 0.60. Quanto maior o valor de recall melhor é o modelo. É uma das métricas para fazer a avaliação de desempenho dos modelos de classificação.\n",
    "\n",
    "**Precisão** - É a **fração de músicas recomendadas que são realmente relevantes** ou seja, se de 10 itens recomendados, 6 forem considerados relevantes pelo usuário, a precisão será 0.60. Quanto maior o valor da precisão melhor é o modelo. É uma das métricas para fazer a avaliação de desempenho dos modelos de classificação."
   ]
  },
  {
   "cell_type": "raw",
   "metadata": {
    "lang": "pt"
   },
   "source": [
    "**Ao fazer um sistema de recomendação, costuma-se observar o desempenho do modelo. Em termos de quantas recomendações são relevantes e vice-versa, abaixo estão as duas métricas de desempenho mais utilizadas na avaliação de sistemas de recomendação.**"
   ]
  },
  {
   "cell_type": "markdown",
   "metadata": {
    "lang": "pt"
   },
   "source": [
    "### **Precision@k, Recall@k e F1-score@k**"
   ]
  },
  {
   "cell_type": "markdown",
   "metadata": {
    "lang": "pt"
   },
   "source": [
    "**Precision@k** - É a **fração de músicas recomendadas que são relevantes nas previsões do `top k`**. O valor de k é o número de recomendações a serem fornecidas ao usuário. Pode-se escolher um número variável de recomendações a serem dadas a um único usuário.\n",
    "\n",
    "**Recall@k** - É a **fração de músicas relevantes que são recomendadas ao usuário nas previsões do `top k`**.\n",
    "\n",
    "**F1-Score@k** - É a **média harmônica de Precision@k e Recall@k**. Quando **precision@k e recall@k parecem ser importantes** então é útil usar essa métrica porque ela é representativa de ambas."
   ]
  },
  {
   "cell_type": "markdown",
   "metadata": {
    "lang": "pt"
   },
   "source": [
    "### **Algumas funções úteis**"
   ]
  },
  {
   "cell_type": "markdown",
   "metadata": {
    "lang": "pt"
   },
   "source": [
    "- A função abaixo toma o **modelo de recomendação** como entrada e fornece a **precision@k e recall@k** para esse modelo.\n",
    "- Para calcular **precisão e rechamada**, as previsões **top k** são levadas em consideração para cada usuário."
   ]
  },
  {
   "cell_type": "code",
   "execution_count": 31,
   "metadata": {
    "executionInfo": {
     "elapsed": 2,
     "status": "ok",
     "timestamp": 1666267948582,
     "user": {
      "displayName": "Maruthi Reddy Billa",
      "userId": "04904869007533286315"
     },
     "user_tz": -330
    },
    "id": "Rxn-GahOTsnm"
   },
   "outputs": [],
   "source": [
    "def precision_recall_at_k(model, k=30, threshold=1.5):\n",
    "    \"\"\"Return precision and recall at k metrics for each user\"\"\"\n",
    "\n",
    "    # First map the predictions to each user.\n",
    "    user_est_true = defaultdict(list)\n",
    "    \n",
    "    # Making predictions on the test data\n",
    "    predictions=model.test(testset)\n",
    "    \n",
    "    for uid, _, true_r, est, _ in predictions:\n",
    "        user_est_true[uid].append((est, true_r))\n",
    "\n",
    "    precisions = dict()\n",
    "    recalls = dict()\n",
    "    for uid, user_ratings in user_est_true.items():\n",
    "\n",
    "        # Sort user ratings by estimated value\n",
    "        user_ratings.sort(key=lambda x: x[0], reverse=True)\n",
    "\n",
    "        # Number of relevant items\n",
    "        n_rel = sum((true_r >= threshold) for (_, true_r) in user_ratings)\n",
    "\n",
    "        # Number of recommended items in top k\n",
    "        n_rec_k = sum((est >= threshold) for (est, _) in user_ratings[:k])\n",
    "\n",
    "        # Number of relevant and recommended items in top k\n",
    "        n_rel_and_rec_k = sum(((true_r >= threshold) and (est >= threshold))\n",
    "                              for (est, true_r) in user_ratings[:k])\n",
    "\n",
    "        # Precision@K: Proportion of recommended items that are relevant\n",
    "        # When n_rec_k is 0, Precision is undefined. We here set Precision to 0 when n_rec_k is 0.\n",
    "\n",
    "        precisions[uid] = n_rel_and_rec_k / n_rec_k if n_rec_k != 0 else 0\n",
    "\n",
    "        # Recall@K: Proportion of relevant items that are recommended\n",
    "        # When n_rel is 0, Recall is undefined. We here set Recall to 0 when n_rel is 0.\n",
    "\n",
    "        recalls[uid] = n_rel_and_rec_k / n_rel if n_rel != 0 else 0\n",
    "    \n",
    "    # Mean of all the predicted precisions are calculated.\n",
    "    precision = round((sum(prec for prec in precisions.values()) / len(precisions)),3)\n",
    "    # Mean of all the predicted recalls are calculated.\n",
    "    recall = round((sum(rec for rec in recalls.values()) / len(recalls)),3)\n",
    "    \n",
    "    accuracy.rmse(predictions)\n",
    "    print('Precision: ', precision) # Command to print the overall precision\n",
    "    print('Recall: ', recall) # Command to print the overall recall\n",
    "    print('F_1 score: ', round((2*precision*recall)/(precision+recall),3)) # Formula to compute the F-1 score."
   ]
  },
  {
   "cell_type": "markdown",
   "metadata": {
    "lang": "pt"
   },
   "source": [
    "- Para calcular **precisão e recuperação**, um **limite de 1.5 e valor k de 30 é considerado para as contagens de jogadas recomendadas e relevantes**.\n",
    "- A intuição do limite 1.5 é que, se a previsão de que um usuário ouvirá a música mais de 1.5 vezes (pode ser entendido 2 de 3 se um valor não inteiro estiver ficando difícil de interpretar), essa música deve ser recomendada para esse usuário.\n",
    "- No **presente caso, a precisão e o recall precisam ser otimizadas, pois o provedor de serviços gostaria de minimizar ambas as perdas discutidas** acima. Portanto, a medida de desempenho correta é a **pontuação F_1**."
   ]
  },
  {
   "cell_type": "markdown",
   "metadata": {
    "lang": "pt"
   },
   "source": [
    "Abaixo, estamos convertendo o **dataset**, que é um **pandas dataframe**, em um **formato diferente chamado `surprise.dataset.DatasetAutoFolds`**. Isso é exigido pela biblioteca surpresa. Para isso, estaremos **utilizando as classes `Reader` e `Dataset`**."
   ]
  },
  {
   "cell_type": "code",
   "execution_count": 32,
   "metadata": {
    "executionInfo": {
     "elapsed": 2,
     "status": "ok",
     "timestamp": 1666267948582,
     "user": {
      "displayName": "Maruthi Reddy Billa",
      "userId": "04904869007533286315"
     },
     "user_tz": -330
    },
    "id": "rGfYDiOCpe4X"
   },
   "outputs": [],
   "source": [
    "# Instantiating Reader scale with expected rating scale\n",
    "reader = Reader(rating_scale=(0, 5))\n",
    "\n",
    "# Loading the dataset\n",
    "data = Dataset.load_from_df(df_final[['user_id', 'song_id', 'play_count']], reader)\n",
    "\n",
    "# Splitting the data into train and test dataset\n",
    "trainset, testset = train_test_split(data, test_size=0.40, random_state=42)"
   ]
  },
  {
   "cell_type": "markdown",
   "metadata": {
    "lang": "pt"
   },
   "source": [
    "- Agora estamos **prontos para construir o primeiro sistema de recomendação baseado em similaridade de linha de base** usando a similaridade de cosseno.\n",
    "- **KNNBasic** é um algoritmo que também está **associado ao pacote surpresa**, é usado para encontrar as **músicas semelhantes desejadas entre um determinado conjunto de músicas**."
   ]
  },
  {
   "cell_type": "code",
   "execution_count": 33,
   "metadata": {
    "colab": {
     "base_uri": "https://localhost:8080/"
    },
    "executionInfo": {
     "elapsed": 27106,
     "status": "ok",
     "timestamp": 1666267976171,
     "user": {
      "displayName": "Maruthi Reddy Billa",
      "userId": "04904869007533286315"
     },
     "user_tz": -330
    },
    "id": "vO3FL7iape8A",
    "outputId": "1b14e9e2-11aa-46ba-94cb-914e33a68770",
    "scrolled": false
   },
   "outputs": [
    {
     "name": "stdout",
     "output_type": "stream",
     "text": [
      "RMSE: 1.0878\n",
      "Precision:  0.396\n",
      "Recall:  0.692\n",
      "F_1 score:  0.504\n"
     ]
    }
   ],
   "source": [
    "# Declaring the similarity options.\n",
    "sim_options = {'name': 'cosine',\n",
    "               'user_based': True}\n",
    "\n",
    "# KNN algorithm is used to find desired similar items.\n",
    "sim_user_user = KNNBasic(sim_options=sim_options, verbose=False, random_state=1)\n",
    "\n",
    "# Train the algorithm on the trainset, and predict play_count for the testset\n",
    "sim_user_user.fit(trainset)\n",
    "\n",
    "# Let us compute precision@k, recall@k, and f_1 score with k =30.\n",
    "precision_recall_at_k(sim_user_user)"
   ]
  },
  {
   "cell_type": "markdown",
   "metadata": {
    "lang": "pt"
   },
   "source": [
    "**Observações:**\n",
    "- Calculamos **RMSE** para verificar **quão distantes as contagens gerais de jogadas previstas** estão das **contagens de jogadas reais**.\n",
    "- Intuição de Recall - Estamos obtendo um **recall de quase 0.70**, o que significa que de **todas as músicas relevantes, 70% são recomendadas**.\n",
    "- Intuição de Precisão - Estamos obtendo uma **precisão de quase 0.396**, o que significa **de todas as músicas recomendadas, 39.6% são relevantes**.\n",
    "- Aqui **pontuação F_1** do **modelo de linha de base é quase 0.504**. Indica que **as músicas mais recomendadas eram relevantes e músicas relevantes foram recomendadas**. Tentaremos melhorar isso mais tarde usando **GridSearchCV ajustando diferentes hiperparâmetros** deste algoritmo."
   ]
  },
  {
   "cell_type": "markdown",
   "metadata": {
    "lang": "pt"
   },
   "source": [
    "Vamos agora **prever play_counts para um usuário com `user_id=6958` e `song_id=1671`** como mostrado abaixo."
   ]
  },
  {
   "cell_type": "code",
   "execution_count": 34,
   "metadata": {
    "colab": {
     "base_uri": "https://localhost:8080/"
    },
    "executionInfo": {
     "elapsed": 9,
     "status": "ok",
     "timestamp": 1666267976171,
     "user": {
      "displayName": "Maruthi Reddy Billa",
      "userId": "04904869007533286315"
     },
     "user_tz": -330
    },
    "id": "Sxd23bZ9pe_x",
    "outputId": "4803a795-d226-4580-db09-2e35bc808185"
   },
   "outputs": [
    {
     "name": "stdout",
     "output_type": "stream",
     "text": [
      "user: 6958       item: 1671       r_ui = 2.00   est = 1.80   {'actual_k': 40, 'was_impossible': False}\n"
     ]
    },
    {
     "data": {
      "text/plain": [
       "Prediction(uid=6958, iid=1671, r_ui=2, est=1.8009387435128914, details={'actual_k': 40, 'was_impossible': False})"
      ]
     },
     "execution_count": 34,
     "metadata": {},
     "output_type": "execute_result"
    }
   ],
   "source": [
    "# Predicting play_count for a sample user with a listened song.\n",
    "sim_user_user.predict(6958, 1671, r_ui=2, verbose=True)"
   ]
  },
  {
   "cell_type": "markdown",
   "metadata": {
    "lang": "pt"
   },
   "source": [
    "- A saída acima mostra que **o play_count real para este par usuário-item é 2 e a prevista é 1.80** por este **modelo de linha de base baseado em semelhança de usuário-usuário**."
   ]
  },
  {
   "cell_type": "markdown",
   "metadata": {
    "lang": "pt"
   },
   "source": [
    "Abaixo, estamos **prevendo play_count para o mesmo `userId=6958`, mas para uma música que este usuário ainda não ouviu, ou seja, `song_id=3232`**"
   ]
  },
  {
   "cell_type": "code",
   "execution_count": 35,
   "metadata": {
    "colab": {
     "base_uri": "https://localhost:8080/"
    },
    "executionInfo": {
     "elapsed": 7,
     "status": "ok",
     "timestamp": 1666267976172,
     "user": {
      "displayName": "Maruthi Reddy Billa",
      "userId": "04904869007533286315"
     },
     "user_tz": -330
    },
    "id": "PbFcBj1PpfEV",
    "outputId": "31e421d3-e5b9-43be-d28b-eb26769ae669"
   },
   "outputs": [
    {
     "name": "stdout",
     "output_type": "stream",
     "text": [
      "user: 6958       item: 3232       r_ui = None   est = 1.64   {'actual_k': 40, 'was_impossible': False}\n"
     ]
    },
    {
     "data": {
      "text/plain": [
       "Prediction(uid=6958, iid=3232, r_ui=None, est=1.6386860897998294, details={'actual_k': 40, 'was_impossible': False})"
      ]
     },
     "execution_count": 35,
     "metadata": {},
     "output_type": "execute_result"
    }
   ],
   "source": [
    "#predicting play_count for a sample user with a song not-listened by the user.\n",
    "sim_user_user.predict(6958, 3232, verbose=True)"
   ]
  },
  {
   "cell_type": "markdown",
   "metadata": {
    "lang": "pt"
   },
   "source": [
    "- Como podemos ver, o **play_count previsto para este par usuário-item é 1.64** com base neste modelo de linha de base baseado em semelhança de usuário-usuário."
   ]
  },
  {
   "cell_type": "markdown",
   "metadata": {
    "lang": "pt"
   },
   "source": [
    "### **Melhorando o sistema de recomendação baseado em similaridade ajustando seus hiperparâmetros**"
   ]
  },
  {
   "cell_type": "markdown",
   "metadata": {
    "lang": "pt"
   },
   "source": [
    "Abaixo estaremos ajustando hiperparâmetros para os algoritmos `KNNBasic`. Vamos tentar entender alguns dos hiperparâmetros do algoritmo KNNBasic:"
   ]
  },
  {
   "cell_type": "markdown",
   "metadata": {
    "lang": "pt"
   },
   "source": [
    "- **k** (int) – O número (máximo) de vizinhos a serem considerados para agregação. O padrão é 40.\n",
    "- **min_k** (int) – O número mínimo de vizinhos a serem considerados para agregação. Se não houver vizinhos suficientes, a previsão é definida como a média global de todas os play_counts. O padrão é 1.\n",
    "- **sim_options** (dict) – Um dicionário de opções para a medida de similaridade. E há quatro medidas de similaridade disponíveis na surpresa -\n",
    "    - cosseno\n",
    "    - msd (padrão)\n",
    "    -Pearson\n",
    "    - linha de base de Pearson"
   ]
  },
  {
   "cell_type": "code",
   "execution_count": 36,
   "metadata": {
    "colab": {
     "base_uri": "https://localhost:8080/"
    },
    "executionInfo": {
     "elapsed": 1375861,
     "status": "ok",
     "timestamp": 1666269352029,
     "user": {
      "displayName": "Maruthi Reddy Billa",
      "userId": "04904869007533286315"
     },
     "user_tz": -330
    },
    "id": "T3diJPL7-tVw",
    "outputId": "a23b4732-da4b-4d19-b6fd-c8f9db47ff12"
   },
   "outputs": [
    {
     "name": "stdout",
     "output_type": "stream",
     "text": [
      "1.0468251144965646\n",
      "{'k': 30, 'min_k': 9, 'sim_options': {'name': 'pearson_baseline', 'user_based': True, 'min_support': 2}}\n"
     ]
    }
   ],
   "source": [
    "# Setting up parameter grid to tune the hyperparameters\n",
    "param_grid = {'k': [10, 20, 30], 'min_k': [3, 6, 9],\n",
    "              'sim_options': {'name': [\"cosine\",'pearson',\"pearson_baseline\"],\n",
    "                              'user_based': [True], \"min_support\":[2,4]}\n",
    "              }\n",
    "\n",
    "# Performing 3-fold cross validation to tune the hyperparameters\n",
    "gs = GridSearchCV(KNNBasic, param_grid, measures=['rmse'], cv=3, n_jobs=-1)\n",
    "\n",
    "# Fitting the data\n",
    "gs.fit(data)\n",
    "\n",
    "# Best RMSE score\n",
    "print(gs.best_score['rmse'])\n",
    "\n",
    "# Combination of parameters that gave the best RMSE score\n",
    "print(gs.best_params['rmse'])"
   ]
  },
  {
   "cell_type": "markdown",
   "metadata": {
    "lang": "pt"
   },
   "source": [
    "Assim que a pesquisa da grade estiver **completa**, podemos obter os **valores ideais para cada um desses hiperparâmetros** conforme mostrado acima"
   ]
  },
  {
   "cell_type": "markdown",
   "metadata": {
    "lang": "pt"
   },
   "source": [
    "Agora vamos construir o **modelo final usando valores ajustados dos hiperparâmetros** que recebemos usando **grid search cross-validation**"
   ]
  },
  {
   "cell_type": "code",
   "execution_count": 37,
   "metadata": {
    "colab": {
     "base_uri": "https://localhost:8080/"
    },
    "executionInfo": {
     "elapsed": 15858,
     "status": "ok",
     "timestamp": 1666269367884,
     "user": {
      "displayName": "Maruthi Reddy Billa",
      "userId": "04904869007533286315"
     },
     "user_tz": -330
    },
    "id": "PujRJA8X_JEJ",
    "outputId": "7bddb5ca-4c64-447c-e9fc-fcd6578c87ba"
   },
   "outputs": [
    {
     "name": "stdout",
     "output_type": "stream",
     "text": [
      "RMSE: 1.0521\n",
      "Precision:  0.413\n",
      "Recall:  0.721\n",
      "F_1 score:  0.525\n"
     ]
    }
   ],
   "source": [
    "# Using the optimal similarity measure for user-user based collaborative filtering\n",
    "sim_options = {'name': 'pearson_baseline',\n",
    "               'user_based': True, \"min_support\":2}\n",
    "\n",
    "# Creating an instance of KNNBasic with optimal hyperparameter values\n",
    "sim_user_user_optimized = KNNBasic(sim_options=sim_options, k=30, min_k=9, random_state=1, verbose=False)\n",
    "\n",
    "# Training the algorithm on the trainset\n",
    "sim_user_user_optimized.fit(trainset)\n",
    "\n",
    "# Let us compute precision@k and recall@k also with k =30.\n",
    "precision_recall_at_k(sim_user_user_optimized)"
   ]
  },
  {
   "cell_type": "markdown",
   "metadata": {
    "lang": "pt"
   },
   "source": [
    "- Podemos ver acima que depois de ajustar os hiperparâmetros, **a pontuação F_1 do modelo ajustado é melhor do que o modelo de linha de base.** Junto com isso **o RMSE do modelo caiu em comparação com o modelo antes do ajuste do hiperparâmetro**. Portanto, podemos dizer que o desempenho do modelo melhorou após o ajuste de hiperparâmetros."
   ]
  },
  {
   "cell_type": "markdown",
   "metadata": {
    "lang": "pt"
   },
   "source": [
    "Vamos agora **prever play_count para um usuário com `userId`=\"6958\" e song_id=1671 com o modelo otimizado conforme mostrado abaixo**"
   ]
  },
  {
   "cell_type": "code",
   "execution_count": 38,
   "metadata": {
    "colab": {
     "base_uri": "https://localhost:8080/"
    },
    "executionInfo": {
     "elapsed": 26,
     "status": "ok",
     "timestamp": 1666269367885,
     "user": {
      "displayName": "Maruthi Reddy Billa",
      "userId": "04904869007533286315"
     },
     "user_tz": -330
    },
    "id": "FgV63lHiq1TV",
    "outputId": "bcec0240-2b14-4e4b-f4b4-ce4f9ebebfeb"
   },
   "outputs": [
    {
     "name": "stdout",
     "output_type": "stream",
     "text": [
      "user: 6958       item: 1671       r_ui = 2.00   est = 1.96   {'actual_k': 24, 'was_impossible': False}\n"
     ]
    },
    {
     "data": {
      "text/plain": [
       "Prediction(uid=6958, iid=1671, r_ui=2, est=1.962926073914969, details={'actual_k': 24, 'was_impossible': False})"
      ]
     },
     "execution_count": 38,
     "metadata": {},
     "output_type": "execute_result"
    }
   ],
   "source": [
    "sim_user_user_optimized.predict(6958, 1671, r_ui=2, verbose=True)"
   ]
  },
  {
   "cell_type": "markdown",
   "metadata": {
    "lang": "pt"
   },
   "source": [
    "- Aqui o modelo fornece uma **boa previsão** em comparação com o play_count(2) real."
   ]
  },
  {
   "cell_type": "markdown",
   "metadata": {
    "lang": "pt"
   },
   "source": [
    "Abaixo, estamos prevendo o play_count para o mesmo **`userId=\"6958\"`**, mas para uma música que este usuário **não ouviu antes** ou seja, `song_id=3232`, usando o **modelo otimizado** conforme mostrado abaixo -"
   ]
  },
  {
   "cell_type": "code",
   "execution_count": 39,
   "metadata": {
    "colab": {
     "base_uri": "https://localhost:8080/"
    },
    "executionInfo": {
     "elapsed": 21,
     "status": "ok",
     "timestamp": 1666269367885,
     "user": {
      "displayName": "Maruthi Reddy Billa",
      "userId": "04904869007533286315"
     },
     "user_tz": -330
    },
    "id": "HXO2Ztjhq1bN",
    "outputId": "ed5167e1-8dce-4c60-da3c-9a6be8209b3a"
   },
   "outputs": [
    {
     "name": "stdout",
     "output_type": "stream",
     "text": [
      "user: 6958       item: 3232       r_ui = None   est = 1.45   {'actual_k': 10, 'was_impossible': False}\n"
     ]
    },
    {
     "data": {
      "text/plain": [
       "Prediction(uid=6958, iid=3232, r_ui=None, est=1.4516261428486725, details={'actual_k': 10, 'was_impossible': False})"
      ]
     },
     "execution_count": 39,
     "metadata": {},
     "output_type": "execute_result"
    }
   ],
   "source": [
    "sim_user_user_optimized.predict(6958,3232, verbose=True)"
   ]
  },
  {
   "cell_type": "markdown",
   "metadata": {
    "lang": "pt"
   },
   "source": [
    "### **Identificando usuários semelhantes a um determinado usuário (vizinhos mais próximos)**"
   ]
  },
  {
   "cell_type": "markdown",
   "metadata": {
    "lang": "pt"
   },
   "source": [
    "Também podemos descobrir **usuários semelhantes a um determinado usuário** ou seus **vizinhos mais próximos** com base neste algoritmo KNNBasic. Abaixo, encontramos os 5 usuários mais semelhantes ao primeiro usuário da lista com id interno 0, com base na métrica de distância `msd`"
   ]
  },
  {
   "cell_type": "code",
   "execution_count": 40,
   "metadata": {
    "colab": {
     "base_uri": "https://localhost:8080/"
    },
    "executionInfo": {
     "elapsed": 18,
     "status": "ok",
     "timestamp": 1666269367885,
     "user": {
      "displayName": "Maruthi Reddy Billa",
      "userId": "04904869007533286315"
     },
     "user_tz": -330
    },
    "id": "TbFle7cKmBJG",
    "outputId": "61d59f17-c58b-4a8e-87da-66da63a8351d"
   },
   "outputs": [
    {
     "data": {
      "text/plain": [
       "[42, 1131, 17, 186, 249]"
      ]
     },
     "execution_count": 40,
     "metadata": {},
     "output_type": "execute_result"
    }
   ],
   "source": [
    "sim_user_user_optimized.get_neighbors(0,5) # Here 0 is the inner id of the above user."
   ]
  },
  {
   "cell_type": "markdown",
   "metadata": {
    "lang": "pt"
   },
   "source": [
    "### **Implementação do algoritmo de recomendação baseado no modelo KNNBasic otimizado**"
   ]
  },
  {
   "cell_type": "markdown",
   "metadata": {
    "lang": "pt"
   },
   "source": [
    "Abaixo estaremos implementando uma função onde os parâmetros de entrada são -\n",
    "\n",
    "- dados: um conjunto de dados **música**\n",
    "- user_id: um id de usuário **contra o qual queremos as recomendações**\n",
    "- top_n: o **número de músicas que queremos recomendar**\n",
    "- algo: o algoritmo que queremos usar **para prever o play_count**\n",
    "- A saída da função é um **conjunto de top_n itens** recomendado para o determinado user_id com base no algoritmo fornecido"
   ]
  },
  {
   "cell_type": "code",
   "execution_count": 41,
   "metadata": {
    "executionInfo": {
     "elapsed": 17,
     "status": "ok",
     "timestamp": 1666269367886,
     "user": {
      "displayName": "Maruthi Reddy Billa",
      "userId": "04904869007533286315"
     },
     "user_tz": -330
    },
    "id": "vW9V1Tk65HlY"
   },
   "outputs": [],
   "source": [
    "def get_recommendations(data, user_id, top_n, algo):\n",
    "    \n",
    "    # Creating an empty list to store the recommended songs ids\n",
    "    recommendations = []\n",
    "    \n",
    "    # Creating an user item interactions matrix \n",
    "    user_item_interactions_matrix = data.pivot(index='user_id', columns='song_id', values='play_count')\n",
    "    \n",
    "    # Extracting those songs ids which the user_id has not visited yet\n",
    "    non_interacted_songs = user_item_interactions_matrix.loc[user_id][user_item_interactions_matrix.loc[user_id].isnull()].index.tolist()\n",
    "    \n",
    "    # Looping through each of the song ids which user_id has not interacted yet\n",
    "    for item_id in non_interacted_songs:\n",
    "        \n",
    "        # Predicting the ratings for those non-interacted song  ids by this user\n",
    "        est = algo.predict(user_id, item_id).est\n",
    "        \n",
    "        # Appending the predicted ratings\n",
    "        recommendations.append((item_id, est))\n",
    "\n",
    "    # Sorting the predicted ratings in descending order\n",
    "    recommendations.sort(key=lambda x: x[1], reverse=True)\n",
    "\n",
    "    return recommendations[:top_n] # returing top n highest predicted rating songs for this user"
   ]
  },
  {
   "cell_type": "markdown",
   "metadata": {
    "lang": "pt"
   },
   "source": [
    "**Previsão das 5 melhores músicas para userId=6958 com sistema de recomendação baseado em user_user_similarity**"
   ]
  },
  {
   "cell_type": "code",
   "execution_count": 42,
   "metadata": {
    "executionInfo": {
     "elapsed": 17,
     "status": "ok",
     "timestamp": 1666269367886,
     "user": {
      "displayName": "Maruthi Reddy Billa",
      "userId": "04904869007533286315"
     },
     "user_tz": -330
    },
    "id": "qWbR85mI5Hrk"
   },
   "outputs": [],
   "source": [
    "# Making top 5 recommendations for user_id 6958 with a similarity-based recommendation engine.\n",
    "recommendations = get_recommendations(df_final,6958, 5, sim_user_user)"
   ]
  },
  {
   "cell_type": "code",
   "execution_count": 43,
   "metadata": {
    "colab": {
     "base_uri": "https://localhost:8080/",
     "height": 206
    },
    "executionInfo": {
     "elapsed": 17,
     "status": "ok",
     "timestamp": 1666269367886,
     "user": {
      "displayName": "Maruthi Reddy Billa",
      "userId": "04904869007533286315"
     },
     "user_tz": -330
    },
    "id": "b5WfIX0Z6_q2",
    "outputId": "983f36ae-577d-4dbe-a0dd-7a75e52c9de4"
   },
   "outputs": [
    {
     "data": {
      "text/html": [
       "\n",
       "  <div id=\"df-e25242d5-b59f-4acd-859e-a924f90c1c72\">\n",
       "    <div class=\"colab-df-container\">\n",
       "      <div>\n",
       "<style scoped>\n",
       "    .dataframe tbody tr th:only-of-type {\n",
       "        vertical-align: middle;\n",
       "    }\n",
       "\n",
       "    .dataframe tbody tr th {\n",
       "        vertical-align: top;\n",
       "    }\n",
       "\n",
       "    .dataframe thead th {\n",
       "        text-align: right;\n",
       "    }\n",
       "</style>\n",
       "<table border=\"1\" class=\"dataframe\">\n",
       "  <thead>\n",
       "    <tr style=\"text-align: right;\">\n",
       "      <th></th>\n",
       "      <th>song_id</th>\n",
       "      <th>predicted_ratings</th>\n",
       "    </tr>\n",
       "  </thead>\n",
       "  <tbody>\n",
       "    <tr>\n",
       "      <th>0</th>\n",
       "      <td>7224</td>\n",
       "      <td>3.141147</td>\n",
       "    </tr>\n",
       "    <tr>\n",
       "      <th>1</th>\n",
       "      <td>614</td>\n",
       "      <td>2.525000</td>\n",
       "    </tr>\n",
       "    <tr>\n",
       "      <th>2</th>\n",
       "      <td>5653</td>\n",
       "      <td>2.514023</td>\n",
       "    </tr>\n",
       "    <tr>\n",
       "      <th>3</th>\n",
       "      <td>352</td>\n",
       "      <td>2.425000</td>\n",
       "    </tr>\n",
       "    <tr>\n",
       "      <th>4</th>\n",
       "      <td>6450</td>\n",
       "      <td>2.394927</td>\n",
       "    </tr>\n",
       "  </tbody>\n",
       "</table>\n",
       "</div>\n",
       "      <button class=\"colab-df-convert\" onclick=\"convertToInteractive('df-e25242d5-b59f-4acd-859e-a924f90c1c72')\"\n",
       "              title=\"Convert this dataframe to an interactive table.\"\n",
       "              style=\"display:none;\">\n",
       "        \n",
       "  <svg xmlns=\"http://www.w3.org/2000/svg\" height=\"24px\"viewBox=\"0 0 24 24\"\n",
       "       width=\"24px\">\n",
       "    <path d=\"M0 0h24v24H0V0z\" fill=\"none\"/>\n",
       "    <path d=\"M18.56 5.44l.94 2.06.94-2.06 2.06-.94-2.06-.94-.94-2.06-.94 2.06-2.06.94zm-11 1L8.5 8.5l.94-2.06 2.06-.94-2.06-.94L8.5 2.5l-.94 2.06-2.06.94zm10 10l.94 2.06.94-2.06 2.06-.94-2.06-.94-.94-2.06-.94 2.06-2.06.94z\"/><path d=\"M17.41 7.96l-1.37-1.37c-.4-.4-.92-.59-1.43-.59-.52 0-1.04.2-1.43.59L10.3 9.45l-7.72 7.72c-.78.78-.78 2.05 0 2.83L4 21.41c.39.39.9.59 1.41.59.51 0 1.02-.2 1.41-.59l7.78-7.78 2.81-2.81c.8-.78.8-2.07 0-2.86zM5.41 20L4 18.59l7.72-7.72 1.47 1.35L5.41 20z\"/>\n",
       "  </svg>\n",
       "      </button>\n",
       "      \n",
       "  <style>\n",
       "    .colab-df-container {\n",
       "      display:flex;\n",
       "      flex-wrap:wrap;\n",
       "      gap: 12px;\n",
       "    }\n",
       "\n",
       "    .colab-df-convert {\n",
       "      background-color: #E8F0FE;\n",
       "      border: none;\n",
       "      border-radius: 50%;\n",
       "      cursor: pointer;\n",
       "      display: none;\n",
       "      fill: #1967D2;\n",
       "      height: 32px;\n",
       "      padding: 0 0 0 0;\n",
       "      width: 32px;\n",
       "    }\n",
       "\n",
       "    .colab-df-convert:hover {\n",
       "      background-color: #E2EBFA;\n",
       "      box-shadow: 0px 1px 2px rgba(60, 64, 67, 0.3), 0px 1px 3px 1px rgba(60, 64, 67, 0.15);\n",
       "      fill: #174EA6;\n",
       "    }\n",
       "\n",
       "    [theme=dark] .colab-df-convert {\n",
       "      background-color: #3B4455;\n",
       "      fill: #D2E3FC;\n",
       "    }\n",
       "\n",
       "    [theme=dark] .colab-df-convert:hover {\n",
       "      background-color: #434B5C;\n",
       "      box-shadow: 0px 1px 3px 1px rgba(0, 0, 0, 0.15);\n",
       "      filter: drop-shadow(0px 1px 2px rgba(0, 0, 0, 0.3));\n",
       "      fill: #FFFFFF;\n",
       "    }\n",
       "  </style>\n",
       "\n",
       "      <script>\n",
       "        const buttonEl =\n",
       "          document.querySelector('#df-e25242d5-b59f-4acd-859e-a924f90c1c72 button.colab-df-convert');\n",
       "        buttonEl.style.display =\n",
       "          google.colab.kernel.accessAllowed ? 'block' : 'none';\n",
       "\n",
       "        async function convertToInteractive(key) {\n",
       "          const element = document.querySelector('#df-e25242d5-b59f-4acd-859e-a924f90c1c72');\n",
       "          const dataTable =\n",
       "            await google.colab.kernel.invokeFunction('convertToInteractive',\n",
       "                                                     [key], {});\n",
       "          if (!dataTable) return;\n",
       "\n",
       "          const docLinkHtml = 'Like what you see? Visit the ' +\n",
       "            '<a target=\"_blank\" href=https://colab.research.google.com/notebooks/data_table.ipynb>data table notebook</a>'\n",
       "            + ' to learn more about interactive tables.';\n",
       "          element.innerHTML = '';\n",
       "          dataTable['output_type'] = 'display_data';\n",
       "          await google.colab.output.renderOutput(dataTable, element);\n",
       "          const docLink = document.createElement('div');\n",
       "          docLink.innerHTML = docLinkHtml;\n",
       "          element.appendChild(docLink);\n",
       "        }\n",
       "      </script>\n",
       "    </div>\n",
       "  </div>\n",
       "  "
      ],
      "text/plain": [
       "   song_id  predicted_ratings\n",
       "0     7224           3.141147\n",
       "1      614           2.525000\n",
       "2     5653           2.514023\n",
       "3      352           2.425000\n",
       "4     6450           2.394927"
      ]
     },
     "execution_count": 43,
     "metadata": {},
     "output_type": "execute_result"
    }
   ],
   "source": [
    "# Building the dataframe for above recommendations with columns \"song_id\" and \"predicted_ratings\"\n",
    "pd.DataFrame(recommendations, columns=['song_id', 'predicted_ratings'])"
   ]
  },
  {
   "cell_type": "markdown",
   "metadata": {
    "lang": "pt"
   },
   "source": [
    "### **Corrigindo o play_counts e classificando as músicas acima**"
   ]
  },
  {
   "cell_type": "markdown",
   "metadata": {
    "lang": "pt"
   },
   "source": [
    "Ao comparar as contagens de reprodução de duas músicas, não são apenas os **play_counts** que descrevem a **probabilidade do usuário para esse produto**. Junto com a play_count também é importante levar em consideração o **número de usuários que ouviram aquela música**. Devido a isso, calculamos os **\"corrected_ratings\"**para cada música. Normalmente, quanto maior o**\"play_count\" de um produto, mais ele é apreciado pelos usuários**. Para interpretar o conceito acima, uma **música com play_count 4 com rating_count 3 é menos apreciada em comparação com uma música com play_count 3 com rating_count de 50**. Foi**encontrado empiricamente que a verossimilhança do produto é diretamente proporcional ao inverso da raiz quadrada do rating_count do produto**."
   ]
  },
  {
   "cell_type": "code",
   "execution_count": 44,
   "metadata": {
    "executionInfo": {
     "elapsed": 8,
     "status": "ok",
     "timestamp": 1666269367886,
     "user": {
      "displayName": "Maruthi Reddy Billa",
      "userId": "04904869007533286315"
     },
     "user_tz": -330
    },
    "id": "39Hs7ZbO9v3O"
   },
   "outputs": [],
   "source": [
    "def ranking_songs(recommendations, final_rating):\n",
    "  # sort the songs based on play counts\n",
    "  ranked_songs = final_rating.loc[[items[0] for items in recommendations]].sort_values('play_freq', ascending=False)[['play_freq']].reset_index()\n",
    "\n",
    "  # merge with the recommended songs to get predicted play_count\n",
    "  ranked_songs = ranked_songs.merge(pd.DataFrame(recommendations, columns=['song_id', 'predicted_ratings']), on='song_id', how='inner')\n",
    "\n",
    "  # rank the songs based on corrected play_counts\n",
    "  ranked_songs['corrected_ratings'] = ranked_songs['predicted_ratings'] - 1 / np.sqrt(ranked_songs['play_freq'])\n",
    "\n",
    "  # sort the songs based on corrected play_counts\n",
    "  ranked_songs = ranked_songs.sort_values('corrected_ratings', ascending=False)\n",
    "  \n",
    "  return ranked_songs"
   ]
  },
  {
   "cell_type": "code",
   "execution_count": 45,
   "metadata": {
    "colab": {
     "base_uri": "https://localhost:8080/",
     "height": 206
    },
    "executionInfo": {
     "elapsed": 7,
     "status": "ok",
     "timestamp": 1666269367886,
     "user": {
      "displayName": "Maruthi Reddy Billa",
      "userId": "04904869007533286315"
     },
     "user_tz": -330
    },
    "id": "xoiAL_vH8miC",
    "outputId": "f6bc1085-5fac-49f5-c23b-d10b282b2e26"
   },
   "outputs": [
    {
     "data": {
      "text/html": [
       "\n",
       "  <div id=\"df-151fa7b2-8431-4095-82ba-31a7bf8abf90\">\n",
       "    <div class=\"colab-df-container\">\n",
       "      <div>\n",
       "<style scoped>\n",
       "    .dataframe tbody tr th:only-of-type {\n",
       "        vertical-align: middle;\n",
       "    }\n",
       "\n",
       "    .dataframe tbody tr th {\n",
       "        vertical-align: top;\n",
       "    }\n",
       "\n",
       "    .dataframe thead th {\n",
       "        text-align: right;\n",
       "    }\n",
       "</style>\n",
       "<table border=\"1\" class=\"dataframe\">\n",
       "  <thead>\n",
       "    <tr style=\"text-align: right;\">\n",
       "      <th></th>\n",
       "      <th>song_id</th>\n",
       "      <th>play_freq</th>\n",
       "      <th>predicted_ratings</th>\n",
       "      <th>corrected_ratings</th>\n",
       "    </tr>\n",
       "  </thead>\n",
       "  <tbody>\n",
       "    <tr>\n",
       "      <th>3</th>\n",
       "      <td>7224</td>\n",
       "      <td>107</td>\n",
       "      <td>3.141147</td>\n",
       "      <td>3.044473</td>\n",
       "    </tr>\n",
       "    <tr>\n",
       "      <th>1</th>\n",
       "      <td>614</td>\n",
       "      <td>373</td>\n",
       "      <td>2.525000</td>\n",
       "      <td>2.473222</td>\n",
       "    </tr>\n",
       "    <tr>\n",
       "      <th>2</th>\n",
       "      <td>5653</td>\n",
       "      <td>108</td>\n",
       "      <td>2.514023</td>\n",
       "      <td>2.417798</td>\n",
       "    </tr>\n",
       "    <tr>\n",
       "      <th>0</th>\n",
       "      <td>352</td>\n",
       "      <td>748</td>\n",
       "      <td>2.425000</td>\n",
       "      <td>2.388436</td>\n",
       "    </tr>\n",
       "    <tr>\n",
       "      <th>4</th>\n",
       "      <td>6450</td>\n",
       "      <td>102</td>\n",
       "      <td>2.394927</td>\n",
       "      <td>2.295913</td>\n",
       "    </tr>\n",
       "  </tbody>\n",
       "</table>\n",
       "</div>\n",
       "      <button class=\"colab-df-convert\" onclick=\"convertToInteractive('df-151fa7b2-8431-4095-82ba-31a7bf8abf90')\"\n",
       "              title=\"Convert this dataframe to an interactive table.\"\n",
       "              style=\"display:none;\">\n",
       "        \n",
       "  <svg xmlns=\"http://www.w3.org/2000/svg\" height=\"24px\"viewBox=\"0 0 24 24\"\n",
       "       width=\"24px\">\n",
       "    <path d=\"M0 0h24v24H0V0z\" fill=\"none\"/>\n",
       "    <path d=\"M18.56 5.44l.94 2.06.94-2.06 2.06-.94-2.06-.94-.94-2.06-.94 2.06-2.06.94zm-11 1L8.5 8.5l.94-2.06 2.06-.94-2.06-.94L8.5 2.5l-.94 2.06-2.06.94zm10 10l.94 2.06.94-2.06 2.06-.94-2.06-.94-.94-2.06-.94 2.06-2.06.94z\"/><path d=\"M17.41 7.96l-1.37-1.37c-.4-.4-.92-.59-1.43-.59-.52 0-1.04.2-1.43.59L10.3 9.45l-7.72 7.72c-.78.78-.78 2.05 0 2.83L4 21.41c.39.39.9.59 1.41.59.51 0 1.02-.2 1.41-.59l7.78-7.78 2.81-2.81c.8-.78.8-2.07 0-2.86zM5.41 20L4 18.59l7.72-7.72 1.47 1.35L5.41 20z\"/>\n",
       "  </svg>\n",
       "      </button>\n",
       "      \n",
       "  <style>\n",
       "    .colab-df-container {\n",
       "      display:flex;\n",
       "      flex-wrap:wrap;\n",
       "      gap: 12px;\n",
       "    }\n",
       "\n",
       "    .colab-df-convert {\n",
       "      background-color: #E8F0FE;\n",
       "      border: none;\n",
       "      border-radius: 50%;\n",
       "      cursor: pointer;\n",
       "      display: none;\n",
       "      fill: #1967D2;\n",
       "      height: 32px;\n",
       "      padding: 0 0 0 0;\n",
       "      width: 32px;\n",
       "    }\n",
       "\n",
       "    .colab-df-convert:hover {\n",
       "      background-color: #E2EBFA;\n",
       "      box-shadow: 0px 1px 2px rgba(60, 64, 67, 0.3), 0px 1px 3px 1px rgba(60, 64, 67, 0.15);\n",
       "      fill: #174EA6;\n",
       "    }\n",
       "\n",
       "    [theme=dark] .colab-df-convert {\n",
       "      background-color: #3B4455;\n",
       "      fill: #D2E3FC;\n",
       "    }\n",
       "\n",
       "    [theme=dark] .colab-df-convert:hover {\n",
       "      background-color: #434B5C;\n",
       "      box-shadow: 0px 1px 3px 1px rgba(0, 0, 0, 0.15);\n",
       "      filter: drop-shadow(0px 1px 2px rgba(0, 0, 0, 0.3));\n",
       "      fill: #FFFFFF;\n",
       "    }\n",
       "  </style>\n",
       "\n",
       "      <script>\n",
       "        const buttonEl =\n",
       "          document.querySelector('#df-151fa7b2-8431-4095-82ba-31a7bf8abf90 button.colab-df-convert');\n",
       "        buttonEl.style.display =\n",
       "          google.colab.kernel.accessAllowed ? 'block' : 'none';\n",
       "\n",
       "        async function convertToInteractive(key) {\n",
       "          const element = document.querySelector('#df-151fa7b2-8431-4095-82ba-31a7bf8abf90');\n",
       "          const dataTable =\n",
       "            await google.colab.kernel.invokeFunction('convertToInteractive',\n",
       "                                                     [key], {});\n",
       "          if (!dataTable) return;\n",
       "\n",
       "          const docLinkHtml = 'Like what you see? Visit the ' +\n",
       "            '<a target=\"_blank\" href=https://colab.research.google.com/notebooks/data_table.ipynb>data table notebook</a>'\n",
       "            + ' to learn more about interactive tables.';\n",
       "          element.innerHTML = '';\n",
       "          dataTable['output_type'] = 'display_data';\n",
       "          await google.colab.output.renderOutput(dataTable, element);\n",
       "          const docLink = document.createElement('div');\n",
       "          docLink.innerHTML = docLinkHtml;\n",
       "          element.appendChild(docLink);\n",
       "        }\n",
       "      </script>\n",
       "    </div>\n",
       "  </div>\n",
       "  "
      ],
      "text/plain": [
       "   song_id  play_freq  predicted_ratings  corrected_ratings\n",
       "3     7224        107           3.141147           3.044473\n",
       "1      614        373           2.525000           2.473222\n",
       "2     5653        108           2.514023           2.417798\n",
       "0      352        748           2.425000           2.388436\n",
       "4     6450        102           2.394927           2.295913"
      ]
     },
     "execution_count": 45,
     "metadata": {},
     "output_type": "execute_result"
    }
   ],
   "source": [
    "# Applying the ranking_songs function and sorting it based on corrected play_counts. \n",
    "ranking_songs(recommendations, final_play)"
   ]
  },
  {
   "cell_type": "markdown",
   "metadata": {
    "lang": "pt"
   },
   "source": [
    "### **Sistemas de recomendação de filtragem colaborativa baseada em similaridade de item**"
   ]
  },
  {
   "cell_type": "markdown",
   "metadata": {
    "lang": "pt"
   },
   "source": [
    "* Acima, vimos **filtragem colaborativa baseada em similaridade** onde a similaridade foi observada **entre usuários**. Agora, vamos examinar a filtragem colaborativa baseada em similaridade, onde a similaridade é vista **entre as músicas**."
   ]
  },
  {
   "cell_type": "code",
   "execution_count": 46,
   "metadata": {
    "colab": {
     "base_uri": "https://localhost:8080/"
    },
    "executionInfo": {
     "elapsed": 3914,
     "status": "ok",
     "timestamp": 1666269371794,
     "user": {
      "displayName": "Maruthi Reddy Billa",
      "userId": "04904869007533286315"
     },
     "user_tz": -330
    },
    "id": "W5RMcdzjTsns",
    "outputId": "1a447891-67f6-4f9f-a651-4cf00c452795",
    "scrolled": false
   },
   "outputs": [
    {
     "name": "stdout",
     "output_type": "stream",
     "text": [
      "RMSE: 1.0588\n",
      "Precision:  0.376\n",
      "Recall:  0.538\n",
      "F_1 score:  0.443\n"
     ]
    }
   ],
   "source": [
    "#Declaring the similarity options.\n",
    "sim_options = {'name': 'pearson',\n",
    "               'user_based': False}\n",
    "\n",
    "#KNN algorithm is used to find desired similar items.\n",
    "sim_item_item = KNNBasic(sim_options=sim_options, random_state=1, verbose=False)\n",
    "\n",
    "# Train the algorithm on the trainset, and predict play_count for the testset\n",
    "sim_item_item.fit(trainset)\n",
    "\n",
    "# Let us compute precision@k, recall@k, and f_1 score with k =30.\n",
    "precision_recall_at_k(sim_item_item)"
   ]
  },
  {
   "cell_type": "markdown",
   "metadata": {
    "lang": "pt"
   },
   "source": [
    "- O modelo de linha de base está dando uma boa pontuação F_1. Tentaremos **melhorar isso mais tarde usando GridSearchCV** ajustando diferentes hiperparâmetros deste algoritmo."
   ]
  },
  {
   "cell_type": "markdown",
   "metadata": {
    "lang": "pt"
   },
   "source": [
    "Vamos agora **prever o play_count para um usuário com `userId=6958` e `song_id=1671`** como mostrado abaixo. Aqui o usuário já ouviu a música com song_id 1671."
   ]
  },
  {
   "cell_type": "code",
   "execution_count": 47,
   "metadata": {
    "colab": {
     "base_uri": "https://localhost:8080/"
    },
    "executionInfo": {
     "elapsed": 17,
     "status": "ok",
     "timestamp": 1666269371794,
     "user": {
      "displayName": "Maruthi Reddy Billa",
      "userId": "04904869007533286315"
     },
     "user_tz": -330
    },
    "id": "JsF-aaWYTsns",
    "outputId": "bad50043-a773-42b0-9a90-a8a1fb07af9a"
   },
   "outputs": [
    {
     "name": "stdout",
     "output_type": "stream",
     "text": [
      "user: 6958       item: 1671       r_ui = 2.00   est = 1.92   {'actual_k': 10, 'was_impossible': False}\n"
     ]
    },
    {
     "data": {
      "text/plain": [
       "Prediction(uid=6958, iid=1671, r_ui=2, est=1.91669781984001, details={'actual_k': 10, 'was_impossible': False})"
      ]
     },
     "execution_count": 47,
     "metadata": {},
     "output_type": "execute_result"
    }
   ],
   "source": [
    "# Predicting rating for a sample user with a listened song. \n",
    "sim_item_item.predict(6958, 1671, r_ui=2, verbose=True)"
   ]
  },
  {
   "cell_type": "markdown",
   "metadata": {
    "lang": "pt"
   },
   "source": [
    "- A saída acima mostra que o modelo baseado em **semelhança item-item** está fazendo uma **boa previsão** onde o play_count real é 2."
   ]
  },
  {
   "cell_type": "markdown",
   "metadata": {
    "lang": "pt"
   },
   "source": [
    "Abaixo, estamos **prevendo o play_count para o mesmo userId=6958, mas para uma música que este usuário ainda não ouviu, ou seja, `song_id=3232`**"
   ]
  },
  {
   "cell_type": "code",
   "execution_count": 48,
   "metadata": {
    "colab": {
     "base_uri": "https://localhost:8080/"
    },
    "executionInfo": {
     "elapsed": 14,
     "status": "ok",
     "timestamp": 1666269371795,
     "user": {
      "displayName": "Maruthi Reddy Billa",
      "userId": "04904869007533286315"
     },
     "user_tz": -330
    },
    "id": "5yILOxXRTsns",
    "outputId": "c180d088-b3b1-4586-c489-d4b5f89a642c"
   },
   "outputs": [
    {
     "name": "stdout",
     "output_type": "stream",
     "text": [
      "user: 6958       item: 3232       r_ui = None   est = 1.00   {'actual_k': 5, 'was_impossible': False}\n"
     ]
    },
    {
     "data": {
      "text/plain": [
       "Prediction(uid=6958, iid=3232, r_ui=None, est=1.0, details={'actual_k': 5, 'was_impossible': False})"
      ]
     },
     "execution_count": 48,
     "metadata": {},
     "output_type": "execute_result"
    }
   ],
   "source": [
    "# Predicting play count for a sample user with song not heard by the user.\n",
    "sim_item_item.predict(6958,3232, verbose=True)"
   ]
  },
  {
   "cell_type": "markdown",
   "metadata": {
    "lang": "pt"
   },
   "source": [
    "Como podemos ver, o **play_count previsto para este par de música do usuário é baixo** com base neste **modelo de linha de base baseado em similaridade item-item**."
   ]
  },
  {
   "cell_type": "markdown",
   "metadata": {
    "lang": "pt"
   },
   "source": [
    "### **Melhorando o sistema de recomendação baseado em similaridade ajustando seus hiperparâmetros**"
   ]
  },
  {
   "cell_type": "markdown",
   "metadata": {
    "lang": "pt"
   },
   "source": [
    "Abaixo estaremos **ajustando hiperparâmetros para os algoritmos `KNNBasic`**. Vamos tentar entender **alguns dos hiperparâmetros** do algoritmo KNNBasic:"
   ]
  },
  {
   "cell_type": "markdown",
   "metadata": {
    "lang": "pt"
   },
   "source": [
    "- **k** (int) – O número (máximo) de vizinhos a serem considerados para agregação. O padrão é 40.\n",
    "- **min_k** (int) – O número mínimo de vizinhos a serem considerados para agregação. Se não houver vizinhos suficientes, a previsão é definida como a média global de todas as play_counts. O padrão é 1.\n",
    "- **sim_options** (dict) – Um dicionário de opções para a medida de similaridade. E há quatro medidas de similaridade disponíveis na surpresa -\n",
    "    - cosseno\n",
    "    - msd (padrão)\n",
    "    -Pearson\n",
    "    - linha de base de Pearson"
   ]
  },
  {
   "cell_type": "code",
   "execution_count": 49,
   "metadata": {
    "colab": {
     "base_uri": "https://localhost:8080/"
    },
    "executionInfo": {
     "elapsed": 584213,
     "status": "ok",
     "timestamp": 1666269955997,
     "user": {
      "displayName": "Maruthi Reddy Billa",
      "userId": "04904869007533286315"
     },
     "user_tz": -330
    },
    "id": "f5bcZ3HgTsnt",
    "outputId": "23414e62-4a65-45d5-9637-36cc2b357ece"
   },
   "outputs": [
    {
     "name": "stdout",
     "output_type": "stream",
     "text": [
      "1.0261633813675823\n",
      "{'k': 30, 'min_k': 6, 'sim_options': {'name': 'pearson_baseline', 'user_based': False, 'min_support': 2}}\n"
     ]
    }
   ],
   "source": [
    "# Setting up parameter grid to tune the hyperparameters\n",
    "param_grid = {'k': [10, 20, 30], 'min_k': [3, 6, 9],\n",
    "              'sim_options': {'name': [\"cosine\",'pearson',\"pearson_baseline\"],\n",
    "                              'user_based': [False], \"min_support\":[2,4]}\n",
    "              }\n",
    "\n",
    "# Performing 3-fold cross validation to tune the hyperparameters\n",
    "gs = GridSearchCV(KNNBasic, param_grid, measures=['rmse'], cv=3, n_jobs=-1)\n",
    "\n",
    "# Fitting the data\n",
    "gs.fit(data)\n",
    "\n",
    "# Best RMSE score\n",
    "print(gs.best_score['rmse'])\n",
    "\n",
    "# Combination of parameters that gave the best RMSE score\n",
    "print(gs.best_params['rmse'])"
   ]
  },
  {
   "cell_type": "markdown",
   "metadata": {
    "lang": "pt"
   },
   "source": [
    "Assim que a **pesquisa da grade** estiver concluída, podemos obter os **valores ideais para cada um desses hiperparâmetros, conforme mostrado acima**"
   ]
  },
  {
   "cell_type": "markdown",
   "metadata": {
    "lang": "pt"
   },
   "source": [
    "Agora vamos construir o **modelo final** usando **valores ajustados dos hiperparâmetros** que recebemos usando validação cruzada de pesquisa de grade"
   ]
  },
  {
   "cell_type": "code",
   "execution_count": 50,
   "metadata": {
    "colab": {
     "base_uri": "https://localhost:8080/"
    },
    "executionInfo": {
     "elapsed": 2688,
     "status": "ok",
     "timestamp": 1666269958681,
     "user": {
      "displayName": "Maruthi Reddy Billa",
      "userId": "04904869007533286315"
     },
     "user_tz": -330
    },
    "id": "dSeiM1qeTsnt",
    "outputId": "e9359636-b1da-4b6d-91b7-c376d26ac4db"
   },
   "outputs": [
    {
     "name": "stdout",
     "output_type": "stream",
     "text": [
      "RMSE: 1.0328\n",
      "Precision:  0.405\n",
      "Recall:  0.696\n",
      "F_1 score:  0.512\n"
     ]
    }
   ],
   "source": [
    "# Using the optimal similarity measure for item-item based collaborative filtering\n",
    "sim_options = {'name': 'pearson_baseline',\n",
    "               'user_based': False, \"min_support\":4}\n",
    "\n",
    "# Creating an instance of KNNBasic with optimal hyperparameter values\n",
    "sim_item_item_optimized = KNNBasic(sim_options=sim_options, k=30, min_k=6, random_state=1, verbose=False)\n",
    "\n",
    "# Training the algorithm on the trainset\n",
    "sim_item_item_optimized.fit(trainset)\n",
    "\n",
    "# Let us compute precision@k and recall@k also with k =10.\n",
    "precision_recall_at_k(sim_item_item_optimized)"
   ]
  },
  {
   "cell_type": "markdown",
   "metadata": {
    "lang": "pt"
   },
   "source": [
    "- Podemos ver acima que depois de ajustar os hiperparâmetros, **F_1 score do modelo ajustado é muito melhor do que o modelo de linha de base**. Além disso, há uma queda considerável no valor do RMSE com o ajuste. Portanto, o modelo ajustado está se saindo melhor do que o anterior."
   ]
  },
  {
   "cell_type": "markdown",
   "metadata": {
    "lang": "pt"
   },
   "source": [
    "Vamos agora prever **play_count para um usuário com `userId=6958` e para `songs_id=1671`** com o **modelo otimizado** conforme mostrado abaixo"
   ]
  },
  {
   "cell_type": "code",
   "execution_count": 51,
   "metadata": {
    "colab": {
     "base_uri": "https://localhost:8080/"
    },
    "executionInfo": {
     "elapsed": 671,
     "status": "ok",
     "timestamp": 1666269959347,
     "user": {
      "displayName": "Maruthi Reddy Billa",
      "userId": "04904869007533286315"
     },
     "user_tz": -330
    },
    "id": "gIBRRvdoTsnt",
    "outputId": "885af38e-bce3-4c85-8e52-2718a6b781f0"
   },
   "outputs": [
    {
     "name": "stdout",
     "output_type": "stream",
     "text": [
      "user: 6958       item: 1671       r_ui = 2.00   est = 1.96   {'actual_k': 10, 'was_impossible': False}\n"
     ]
    },
    {
     "data": {
      "text/plain": [
       "Prediction(uid=6958, iid=1671, r_ui=2, est=1.9634957386781853, details={'actual_k': 10, 'was_impossible': False})"
      ]
     },
     "execution_count": 51,
     "metadata": {},
     "output_type": "execute_result"
    }
   ],
   "source": [
    "sim_item_item_optimized.predict(6958, 1671, r_ui=2, verbose=True)"
   ]
  },
  {
   "cell_type": "markdown",
   "metadata": {
    "lang": "pt"
   },
   "source": [
    "- Aqui, o modelo otimizado está prevendo um play_count muito bom (quase **1.96**) para o produto cujo play_count real é 2."
   ]
  },
  {
   "cell_type": "markdown",
   "metadata": {
    "lang": "pt"
   },
   "source": [
    "Abaixo, estamos **prevendo play_count** para o mesmo **`userId=6958`**, mas para uma música que este usuário **não ouviu antes** ou seja, `songs_id==3232`, usando o modelo otimizado conforme mostrado abaixo -"
   ]
  },
  {
   "cell_type": "code",
   "execution_count": 52,
   "metadata": {
    "colab": {
     "base_uri": "https://localhost:8080/"
    },
    "executionInfo": {
     "elapsed": 16,
     "status": "ok",
     "timestamp": 1666269959348,
     "user": {
      "displayName": "Maruthi Reddy Billa",
      "userId": "04904869007533286315"
     },
     "user_tz": -330
    },
    "id": "LNEgcI9PTsnu",
    "outputId": "a7c67826-2d9a-4d5e-cf9d-155a1c7dc0ce"
   },
   "outputs": [
    {
     "name": "stdout",
     "output_type": "stream",
     "text": [
      "user: 6958       item: 3232       r_ui = None   est = 1.70   {'was_impossible': True, 'reason': 'Not enough neighbors.'}\n"
     ]
    },
    {
     "data": {
      "text/plain": [
       "Prediction(uid=6958, iid=3232, r_ui=None, est=1.6989607635206787, details={'was_impossible': True, 'reason': 'Not enough neighbors.'})"
      ]
     },
     "execution_count": 52,
     "metadata": {},
     "output_type": "execute_result"
    }
   ],
   "source": [
    "sim_item_item_optimized.predict(6958, 3232, verbose=True)"
   ]
  },
  {
   "cell_type": "markdown",
   "metadata": {
    "lang": "pt"
   },
   "source": [
    "- Para um produto desconhecido, o modelo está prevendo um play_count de **1.70**."
   ]
  },
  {
   "cell_type": "markdown",
   "metadata": {
    "lang": "pt"
   },
   "source": [
    "#### **Identificando itens semelhantes a um determinado item (vizinhos mais próximos)**"
   ]
  },
  {
   "cell_type": "markdown",
   "metadata": {
    "lang": "pt"
   },
   "source": [
    "Também podemos descobrir **itens semelhantes** a um determinado item ou seus vizinhos mais próximos com base neste **algoritmo KNNBasic**. Abaixo, encontramos os 5 itens mais semelhantes ao item com id interno 0 com base na métrica de distância `msd`"
   ]
  },
  {
   "cell_type": "code",
   "execution_count": 53,
   "metadata": {
    "colab": {
     "base_uri": "https://localhost:8080/"
    },
    "executionInfo": {
     "elapsed": 12,
     "status": "ok",
     "timestamp": 1666269959348,
     "user": {
      "displayName": "Maruthi Reddy Billa",
      "userId": "04904869007533286315"
     },
     "user_tz": -330
    },
    "id": "ZRJS4oDFTsnu",
    "outputId": "1efa3038-0671-45d6-c9d3-784a8b1abeb8"
   },
   "outputs": [
    {
     "data": {
      "text/plain": [
       "[124, 523, 173, 205, 65]"
      ]
     },
     "execution_count": 53,
     "metadata": {},
     "output_type": "execute_result"
    }
   ],
   "source": [
    "sim_item_item_optimized.get_neighbors(0, k=5)"
   ]
  },
  {
   "cell_type": "markdown",
   "metadata": {
    "lang": "pt"
   },
   "source": [
    "**Previsão dos 5 principais produtos para userId=6958 com sistema de recomendação baseado em similaridade**"
   ]
  },
  {
   "cell_type": "code",
   "execution_count": 54,
   "metadata": {
    "executionInfo": {
     "elapsed": 10,
     "status": "ok",
     "timestamp": 1666269959348,
     "user": {
      "displayName": "Maruthi Reddy Billa",
      "userId": "04904869007533286315"
     },
     "user_tz": -330
    },
    "id": "rzoEbuZFTsnu"
   },
   "outputs": [],
   "source": [
    "# Making top 5 recommendations for user_id 6958 with similarity-based recommendation engine.\n",
    "recommendations = get_recommendations(df_final, 6958, 5, sim_item_item)"
   ]
  },
  {
   "cell_type": "code",
   "execution_count": 55,
   "metadata": {
    "colab": {
     "base_uri": "https://localhost:8080/",
     "height": 206
    },
    "executionInfo": {
     "elapsed": 10,
     "status": "ok",
     "timestamp": 1666269959349,
     "user": {
      "displayName": "Maruthi Reddy Billa",
      "userId": "04904869007533286315"
     },
     "user_tz": -330
    },
    "id": "_kXVTiysTsnv",
    "outputId": "899a11e5-a360-4a52-9172-98f55af90ab8"
   },
   "outputs": [
    {
     "data": {
      "text/html": [
       "\n",
       "  <div id=\"df-22efb013-9b90-46b3-9b94-4d7a01fb017a\">\n",
       "    <div class=\"colab-df-container\">\n",
       "      <div>\n",
       "<style scoped>\n",
       "    .dataframe tbody tr th:only-of-type {\n",
       "        vertical-align: middle;\n",
       "    }\n",
       "\n",
       "    .dataframe tbody tr th {\n",
       "        vertical-align: top;\n",
       "    }\n",
       "\n",
       "    .dataframe thead th {\n",
       "        text-align: right;\n",
       "    }\n",
       "</style>\n",
       "<table border=\"1\" class=\"dataframe\">\n",
       "  <thead>\n",
       "    <tr style=\"text-align: right;\">\n",
       "      <th></th>\n",
       "      <th>songs_id</th>\n",
       "      <th>predicted_play_count</th>\n",
       "    </tr>\n",
       "  </thead>\n",
       "  <tbody>\n",
       "    <tr>\n",
       "      <th>0</th>\n",
       "      <td>750</td>\n",
       "      <td>5.000000</td>\n",
       "    </tr>\n",
       "    <tr>\n",
       "      <th>1</th>\n",
       "      <td>4377</td>\n",
       "      <td>4.206578</td>\n",
       "    </tr>\n",
       "    <tr>\n",
       "      <th>2</th>\n",
       "      <td>139</td>\n",
       "      <td>3.875420</td>\n",
       "    </tr>\n",
       "    <tr>\n",
       "      <th>3</th>\n",
       "      <td>5616</td>\n",
       "      <td>3.868549</td>\n",
       "    </tr>\n",
       "    <tr>\n",
       "      <th>4</th>\n",
       "      <td>861</td>\n",
       "      <td>3.840408</td>\n",
       "    </tr>\n",
       "  </tbody>\n",
       "</table>\n",
       "</div>\n",
       "      <button class=\"colab-df-convert\" onclick=\"convertToInteractive('df-22efb013-9b90-46b3-9b94-4d7a01fb017a')\"\n",
       "              title=\"Convert this dataframe to an interactive table.\"\n",
       "              style=\"display:none;\">\n",
       "        \n",
       "  <svg xmlns=\"http://www.w3.org/2000/svg\" height=\"24px\"viewBox=\"0 0 24 24\"\n",
       "       width=\"24px\">\n",
       "    <path d=\"M0 0h24v24H0V0z\" fill=\"none\"/>\n",
       "    <path d=\"M18.56 5.44l.94 2.06.94-2.06 2.06-.94-2.06-.94-.94-2.06-.94 2.06-2.06.94zm-11 1L8.5 8.5l.94-2.06 2.06-.94-2.06-.94L8.5 2.5l-.94 2.06-2.06.94zm10 10l.94 2.06.94-2.06 2.06-.94-2.06-.94-.94-2.06-.94 2.06-2.06.94z\"/><path d=\"M17.41 7.96l-1.37-1.37c-.4-.4-.92-.59-1.43-.59-.52 0-1.04.2-1.43.59L10.3 9.45l-7.72 7.72c-.78.78-.78 2.05 0 2.83L4 21.41c.39.39.9.59 1.41.59.51 0 1.02-.2 1.41-.59l7.78-7.78 2.81-2.81c.8-.78.8-2.07 0-2.86zM5.41 20L4 18.59l7.72-7.72 1.47 1.35L5.41 20z\"/>\n",
       "  </svg>\n",
       "      </button>\n",
       "      \n",
       "  <style>\n",
       "    .colab-df-container {\n",
       "      display:flex;\n",
       "      flex-wrap:wrap;\n",
       "      gap: 12px;\n",
       "    }\n",
       "\n",
       "    .colab-df-convert {\n",
       "      background-color: #E8F0FE;\n",
       "      border: none;\n",
       "      border-radius: 50%;\n",
       "      cursor: pointer;\n",
       "      display: none;\n",
       "      fill: #1967D2;\n",
       "      height: 32px;\n",
       "      padding: 0 0 0 0;\n",
       "      width: 32px;\n",
       "    }\n",
       "\n",
       "    .colab-df-convert:hover {\n",
       "      background-color: #E2EBFA;\n",
       "      box-shadow: 0px 1px 2px rgba(60, 64, 67, 0.3), 0px 1px 3px 1px rgba(60, 64, 67, 0.15);\n",
       "      fill: #174EA6;\n",
       "    }\n",
       "\n",
       "    [theme=dark] .colab-df-convert {\n",
       "      background-color: #3B4455;\n",
       "      fill: #D2E3FC;\n",
       "    }\n",
       "\n",
       "    [theme=dark] .colab-df-convert:hover {\n",
       "      background-color: #434B5C;\n",
       "      box-shadow: 0px 1px 3px 1px rgba(0, 0, 0, 0.15);\n",
       "      filter: drop-shadow(0px 1px 2px rgba(0, 0, 0, 0.3));\n",
       "      fill: #FFFFFF;\n",
       "    }\n",
       "  </style>\n",
       "\n",
       "      <script>\n",
       "        const buttonEl =\n",
       "          document.querySelector('#df-22efb013-9b90-46b3-9b94-4d7a01fb017a button.colab-df-convert');\n",
       "        buttonEl.style.display =\n",
       "          google.colab.kernel.accessAllowed ? 'block' : 'none';\n",
       "\n",
       "        async function convertToInteractive(key) {\n",
       "          const element = document.querySelector('#df-22efb013-9b90-46b3-9b94-4d7a01fb017a');\n",
       "          const dataTable =\n",
       "            await google.colab.kernel.invokeFunction('convertToInteractive',\n",
       "                                                     [key], {});\n",
       "          if (!dataTable) return;\n",
       "\n",
       "          const docLinkHtml = 'Like what you see? Visit the ' +\n",
       "            '<a target=\"_blank\" href=https://colab.research.google.com/notebooks/data_table.ipynb>data table notebook</a>'\n",
       "            + ' to learn more about interactive tables.';\n",
       "          element.innerHTML = '';\n",
       "          dataTable['output_type'] = 'display_data';\n",
       "          await google.colab.output.renderOutput(dataTable, element);\n",
       "          const docLink = document.createElement('div');\n",
       "          docLink.innerHTML = docLinkHtml;\n",
       "          element.appendChild(docLink);\n",
       "        }\n",
       "      </script>\n",
       "    </div>\n",
       "  </div>\n",
       "  "
      ],
      "text/plain": [
       "   songs_id  predicted_play_count\n",
       "0       750              5.000000\n",
       "1      4377              4.206578\n",
       "2       139              3.875420\n",
       "3      5616              3.868549\n",
       "4       861              3.840408"
      ]
     },
     "execution_count": 55,
     "metadata": {},
     "output_type": "execute_result"
    }
   ],
   "source": [
    "# Building the dataframe for above recommendations with columns \"song_id\" and \"predicted_play_count\"\n",
    "pd.DataFrame(recommendations, columns=['songs_id', 'predicted_play_count'])"
   ]
  },
  {
   "cell_type": "code",
   "execution_count": 56,
   "metadata": {
    "colab": {
     "base_uri": "https://localhost:8080/",
     "height": 206
    },
    "executionInfo": {
     "elapsed": 9,
     "status": "ok",
     "timestamp": 1666269959349,
     "user": {
      "displayName": "Maruthi Reddy Billa",
      "userId": "04904869007533286315"
     },
     "user_tz": -330
    },
    "id": "7gewfmTATsnv",
    "outputId": "d13894a0-4fa6-45c8-c738-84b969348fae"
   },
   "outputs": [
    {
     "data": {
      "text/html": [
       "\n",
       "  <div id=\"df-9e9c8890-0c34-418b-a450-7a285286114a\">\n",
       "    <div class=\"colab-df-container\">\n",
       "      <div>\n",
       "<style scoped>\n",
       "    .dataframe tbody tr th:only-of-type {\n",
       "        vertical-align: middle;\n",
       "    }\n",
       "\n",
       "    .dataframe tbody tr th {\n",
       "        vertical-align: top;\n",
       "    }\n",
       "\n",
       "    .dataframe thead th {\n",
       "        text-align: right;\n",
       "    }\n",
       "</style>\n",
       "<table border=\"1\" class=\"dataframe\">\n",
       "  <thead>\n",
       "    <tr style=\"text-align: right;\">\n",
       "      <th></th>\n",
       "      <th>song_id</th>\n",
       "      <th>play_freq</th>\n",
       "      <th>predicted_ratings</th>\n",
       "      <th>corrected_ratings</th>\n",
       "    </tr>\n",
       "  </thead>\n",
       "  <tbody>\n",
       "    <tr>\n",
       "      <th>2</th>\n",
       "      <td>750</td>\n",
       "      <td>123</td>\n",
       "      <td>5.000000</td>\n",
       "      <td>4.909833</td>\n",
       "    </tr>\n",
       "    <tr>\n",
       "      <th>0</th>\n",
       "      <td>4377</td>\n",
       "      <td>159</td>\n",
       "      <td>4.206578</td>\n",
       "      <td>4.127273</td>\n",
       "    </tr>\n",
       "    <tr>\n",
       "      <th>3</th>\n",
       "      <td>139</td>\n",
       "      <td>119</td>\n",
       "      <td>3.875420</td>\n",
       "      <td>3.783750</td>\n",
       "    </tr>\n",
       "    <tr>\n",
       "      <th>4</th>\n",
       "      <td>5616</td>\n",
       "      <td>113</td>\n",
       "      <td>3.868549</td>\n",
       "      <td>3.774477</td>\n",
       "    </tr>\n",
       "    <tr>\n",
       "      <th>1</th>\n",
       "      <td>861</td>\n",
       "      <td>126</td>\n",
       "      <td>3.840408</td>\n",
       "      <td>3.751321</td>\n",
       "    </tr>\n",
       "  </tbody>\n",
       "</table>\n",
       "</div>\n",
       "      <button class=\"colab-df-convert\" onclick=\"convertToInteractive('df-9e9c8890-0c34-418b-a450-7a285286114a')\"\n",
       "              title=\"Convert this dataframe to an interactive table.\"\n",
       "              style=\"display:none;\">\n",
       "        \n",
       "  <svg xmlns=\"http://www.w3.org/2000/svg\" height=\"24px\"viewBox=\"0 0 24 24\"\n",
       "       width=\"24px\">\n",
       "    <path d=\"M0 0h24v24H0V0z\" fill=\"none\"/>\n",
       "    <path d=\"M18.56 5.44l.94 2.06.94-2.06 2.06-.94-2.06-.94-.94-2.06-.94 2.06-2.06.94zm-11 1L8.5 8.5l.94-2.06 2.06-.94-2.06-.94L8.5 2.5l-.94 2.06-2.06.94zm10 10l.94 2.06.94-2.06 2.06-.94-2.06-.94-.94-2.06-.94 2.06-2.06.94z\"/><path d=\"M17.41 7.96l-1.37-1.37c-.4-.4-.92-.59-1.43-.59-.52 0-1.04.2-1.43.59L10.3 9.45l-7.72 7.72c-.78.78-.78 2.05 0 2.83L4 21.41c.39.39.9.59 1.41.59.51 0 1.02-.2 1.41-.59l7.78-7.78 2.81-2.81c.8-.78.8-2.07 0-2.86zM5.41 20L4 18.59l7.72-7.72 1.47 1.35L5.41 20z\"/>\n",
       "  </svg>\n",
       "      </button>\n",
       "      \n",
       "  <style>\n",
       "    .colab-df-container {\n",
       "      display:flex;\n",
       "      flex-wrap:wrap;\n",
       "      gap: 12px;\n",
       "    }\n",
       "\n",
       "    .colab-df-convert {\n",
       "      background-color: #E8F0FE;\n",
       "      border: none;\n",
       "      border-radius: 50%;\n",
       "      cursor: pointer;\n",
       "      display: none;\n",
       "      fill: #1967D2;\n",
       "      height: 32px;\n",
       "      padding: 0 0 0 0;\n",
       "      width: 32px;\n",
       "    }\n",
       "\n",
       "    .colab-df-convert:hover {\n",
       "      background-color: #E2EBFA;\n",
       "      box-shadow: 0px 1px 2px rgba(60, 64, 67, 0.3), 0px 1px 3px 1px rgba(60, 64, 67, 0.15);\n",
       "      fill: #174EA6;\n",
       "    }\n",
       "\n",
       "    [theme=dark] .colab-df-convert {\n",
       "      background-color: #3B4455;\n",
       "      fill: #D2E3FC;\n",
       "    }\n",
       "\n",
       "    [theme=dark] .colab-df-convert:hover {\n",
       "      background-color: #434B5C;\n",
       "      box-shadow: 0px 1px 3px 1px rgba(0, 0, 0, 0.15);\n",
       "      filter: drop-shadow(0px 1px 2px rgba(0, 0, 0, 0.3));\n",
       "      fill: #FFFFFF;\n",
       "    }\n",
       "  </style>\n",
       "\n",
       "      <script>\n",
       "        const buttonEl =\n",
       "          document.querySelector('#df-9e9c8890-0c34-418b-a450-7a285286114a button.colab-df-convert');\n",
       "        buttonEl.style.display =\n",
       "          google.colab.kernel.accessAllowed ? 'block' : 'none';\n",
       "\n",
       "        async function convertToInteractive(key) {\n",
       "          const element = document.querySelector('#df-9e9c8890-0c34-418b-a450-7a285286114a');\n",
       "          const dataTable =\n",
       "            await google.colab.kernel.invokeFunction('convertToInteractive',\n",
       "                                                     [key], {});\n",
       "          if (!dataTable) return;\n",
       "\n",
       "          const docLinkHtml = 'Like what you see? Visit the ' +\n",
       "            '<a target=\"_blank\" href=https://colab.research.google.com/notebooks/data_table.ipynb>data table notebook</a>'\n",
       "            + ' to learn more about interactive tables.';\n",
       "          element.innerHTML = '';\n",
       "          dataTable['output_type'] = 'display_data';\n",
       "          await google.colab.output.renderOutput(dataTable, element);\n",
       "          const docLink = document.createElement('div');\n",
       "          docLink.innerHTML = docLinkHtml;\n",
       "          element.appendChild(docLink);\n",
       "        }\n",
       "      </script>\n",
       "    </div>\n",
       "  </div>\n",
       "  "
      ],
      "text/plain": [
       "   song_id  play_freq  predicted_ratings  corrected_ratings\n",
       "2      750        123           5.000000           4.909833\n",
       "0     4377        159           4.206578           4.127273\n",
       "3      139        119           3.875420           3.783750\n",
       "4     5616        113           3.868549           3.774477\n",
       "1      861        126           3.840408           3.751321"
      ]
     },
     "execution_count": 56,
     "metadata": {},
     "output_type": "execute_result"
    }
   ],
   "source": [
    "# Applying the ranking_songs function and sorting it based on corrected play_counts. \n",
    "ranking_songs(recommendations, final_play)"
   ]
  },
  {
   "cell_type": "markdown",
   "metadata": {
    "lang": "pt"
   },
   "source": [
    "* Agora, como vimos **algoritmos de filtragem colaborativa baseados em similaridade**, vamos agora entrar em **algoritmos de filtragem colaborativa baseados em modelo**."
   ]
  },
  {
   "cell_type": "markdown",
   "metadata": {
    "lang": "pt"
   },
   "source": [
    "## **Filtragem Colaborativa Baseada em Modelo - Fatoração de Matrizes**"
   ]
  },
  {
   "cell_type": "markdown",
   "metadata": {
    "lang": "pt"
   },
   "source": [
    "A Filtragem Colaborativa Baseada em Modelo é um **sistema de recomendação personalizado**, as recomendações são baseadas no comportamento passado do usuário e não dependem de nenhuma informação adicional. Usamos **recursos latentes** para encontrar recomendações para cada usuário."
   ]
  },
  {
   "cell_type": "markdown",
   "metadata": {
    "lang": "pt"
   },
   "source": [
    "### **Decomposição em valores singulares (SVD)**"
   ]
  },
  {
   "cell_type": "markdown",
   "metadata": {
    "lang": "pt"
   },
   "source": [
    "SVD é usado para **calcular os recursos latentes** da **matriz de música do usuário**. Mas o SVD não funciona quando **omitimos valores** na **matriz de itens do usuário**."
   ]
  },
  {
   "cell_type": "markdown",
   "metadata": {
    "lang": "pt"
   },
   "source": [
    "**Construindo um sistema de recomendação de fatoração de matriz de linha de base**"
   ]
  },
  {
   "cell_type": "code",
   "execution_count": 57,
   "metadata": {
    "colab": {
     "base_uri": "https://localhost:8080/"
    },
    "executionInfo": {
     "elapsed": 5522,
     "status": "ok",
     "timestamp": 1666269964863,
     "user": {
      "displayName": "Maruthi Reddy Billa",
      "userId": "04904869007533286315"
     },
     "user_tz": -330
    },
    "id": "07-2PT5Ssjqm",
    "outputId": "b41ee0d8-d243-4204-8d64-a3dece9ff2fc"
   },
   "outputs": [
    {
     "name": "stdout",
     "output_type": "stream",
     "text": [
      "RMSE: 1.0252\n",
      "Precision:  0.41\n",
      "Recall:  0.633\n",
      "F_1 score:  0.498\n"
     ]
    }
   ],
   "source": [
    "# Using SVD matrix factorization\n",
    "svd = SVD(random_state=1)\n",
    "\n",
    "# Training the algorithm on the trainset\n",
    "svd.fit(trainset)\n",
    "\n",
    "# Let us compute precision@k and recall@k with k =30.\n",
    "precision_recall_at_k(svd)"
   ]
  },
  {
   "cell_type": "markdown",
   "metadata": {
    "lang": "pt"
   },
   "source": [
    "- O modelo de linha de base com o algoritmo está dando uma boa pontuação F-1 (quase **49.86%**). Indica um bom desempenho do modelo. O RMSE do modelo é 1.0252."
   ]
  },
  {
   "cell_type": "markdown",
   "metadata": {
    "lang": "pt"
   },
   "source": [
    "Vamos agora prever a play_counts de um usuário com **`userId=\"6958\"`** e **`song_id=1671`** conforme mostrado abaixo. Aqui o usuário já ouviu a música."
   ]
  },
  {
   "cell_type": "code",
   "execution_count": 58,
   "metadata": {
    "colab": {
     "base_uri": "https://localhost:8080/"
    },
    "executionInfo": {
     "elapsed": 15,
     "status": "ok",
     "timestamp": 1666269964864,
     "user": {
      "displayName": "Maruthi Reddy Billa",
      "userId": "04904869007533286315"
     },
     "user_tz": -330
    },
    "id": "yWIhfdxXsjqm",
    "outputId": "98a9319d-add0-4446-ae77-6dd0df9e74da"
   },
   "outputs": [
    {
     "name": "stdout",
     "output_type": "stream",
     "text": [
      "user: 6958       item: 1671       r_ui = 2.00   est = 1.27   {'was_impossible': False}\n"
     ]
    },
    {
     "data": {
      "text/plain": [
       "Prediction(uid=6958, iid=1671, r_ui=2, est=1.267473397214638, details={'was_impossible': False})"
      ]
     },
     "execution_count": 58,
     "metadata": {},
     "output_type": "execute_result"
    }
   ],
   "source": [
    "# Making prediction.\n",
    "svd.predict(6958, 1671, r_ui=2, verbose=True)"
   ]
  },
  {
   "cell_type": "markdown",
   "metadata": {
    "lang": "pt"
   },
   "source": [
    "- Como podemos ver - **o play_counts** real para este par usuário-música é 2 e o play_count previsto é **1.27** por esta matriz **modelo de linha de base baseado em fatoração**.\n",
    "- Parece que subestimamos o play_counts. Tentaremos consertar isso mais tarde **ajustando os hiperparâmetros** do modelo usando GridSearchCV"
   ]
  },
  {
   "cell_type": "markdown",
   "metadata": {
    "lang": "pt"
   },
   "source": [
    "Abaixo, estamos prevendo play_count para o mesmo `userId=6958`, mas para uma música que este usuário não ouviu antes, ou seja, `song_id=3232`, conforme mostrado abaixo"
   ]
  },
  {
   "cell_type": "code",
   "execution_count": 59,
   "metadata": {
    "colab": {
     "base_uri": "https://localhost:8080/"
    },
    "executionInfo": {
     "elapsed": 13,
     "status": "ok",
     "timestamp": 1666269964864,
     "user": {
      "displayName": "Maruthi Reddy Billa",
      "userId": "04904869007533286315"
     },
     "user_tz": -330
    },
    "id": "APm-uMSvcAMf",
    "outputId": "51f09274-dee0-4981-a38c-362c0e4c2ab4"
   },
   "outputs": [
    {
     "name": "stdout",
     "output_type": "stream",
     "text": [
      "user: 6958       item: 3232       r_ui = None   est = 1.56   {'was_impossible': False}\n"
     ]
    },
    {
     "data": {
      "text/plain": [
       "Prediction(uid=6958, iid=3232, r_ui=None, est=1.5561675084403663, details={'was_impossible': False})"
      ]
     },
     "execution_count": 59,
     "metadata": {},
     "output_type": "execute_result"
    }
   ],
   "source": [
    "# Making prediction. \n",
    "svd.predict(6958, 3232, verbose=True)"
   ]
  },
  {
   "cell_type": "markdown",
   "metadata": {
    "lang": "pt"
   },
   "source": [
    "- Podemos ver que o **play_count estimado** para este **par usuário-música** é 1.98 com base neste **modelo de linha de base baseado em fatoração de matriz**"
   ]
  },
  {
   "cell_type": "markdown",
   "metadata": {
    "lang": "pt"
   },
   "source": [
    "### **Melhorando o sistema de recomendação baseado em fatoração de matrizes ajustando seus hiperparâmetros**"
   ]
  },
  {
   "cell_type": "markdown",
   "metadata": {
    "lang": "pt"
   },
   "source": [
    "Em SVD, play_count é previsto como -"
   ]
  },
  {
   "cell_type": "markdown",
   "metadata": {
    "id": "Wp38lmEqnVNM"
   },
   "source": [
    "$$\\hat{r}_{u i}=\\mu+b_{u}+b_{i}+q_{i}^{T} p_{u}$$"
   ]
  },
  {
   "cell_type": "markdown",
   "metadata": {
    "lang": "pt"
   },
   "source": [
    "Se o usuário $u$ for desconhecido, o bias $b_{u}$ e os fatores $p_{u}$ serão considerados zero. O mesmo se aplica ao item $i$ com $b_{i}$ e $q_{i}$."
   ]
  },
  {
   "cell_type": "markdown",
   "metadata": {
    "lang": "pt"
   },
   "source": [
    "Para estimar todas as incógnitas, minimizamos o seguinte erro quadrado regularizado:"
   ]
  },
  {
   "cell_type": "markdown",
   "metadata": {
    "id": "1WyyjmK7nVNN"
   },
   "source": [
    "$$\\sum_{r_{u i} \\in R_{\\text {train }}}\\left(r_{u i}-\\hat{r}_{u i}\\right)^{2}+\\lambda\\left(b_{i}^{2}+b_{u}^{2}+\\left\\|q_{i}\\right\\|^{2}+\\left\\|p_{u}\\right\\|^{2}\\right)$$"
   ]
  },
  {
   "cell_type": "markdown",
   "metadata": {
    "lang": "pt"
   },
   "source": [
    "A minimização é realizada por uma **descida de gradiente estocástico** muito direta:"
   ]
  },
  {
   "cell_type": "markdown",
   "metadata": {
    "id": "CwJJRsJGnVNN"
   },
   "source": [
    "$$\\begin{aligned} b_{u} & \\leftarrow b_{u}+\\gamma\\left(e_{u i}-\\lambda b_{u}\\right) \\\\ b_{i} & \\leftarrow b_{i}+\\gamma\\left(e_{u i}-\\lambda b_{i}\\right) \\\\ p_{u} & \\leftarrow p_{u}+\\gamma\\left(e_{u i} \\cdot q_{i}-\\lambda p_{u}\\right) \\\\ q_{i} & \\leftarrow q_{i}+\\gamma\\left(e_{u i} \\cdot p_{u}-\\lambda q_{i}\\right) \\end{aligned}$$"
   ]
  },
  {
   "cell_type": "markdown",
   "metadata": {
    "lang": "pt"
   },
   "source": [
    "Existem muitos hiperparâmetros para ajustar neste algoritmo, você pode encontrar uma lista completa de hiperparâmetros [aqui](https://surprise.readthedocs.io/en/stable/matrix_factorization.html#surprise.prediction_algorithms.matrix_factorization.SVD)"
   ]
  },
  {
   "cell_type": "markdown",
   "metadata": {
    "lang": "pt"
   },
   "source": [
    "Abaixo estaremos ajustando apenas três hiperparâmetros -\n",
    "- **n_epochs**: O número de iterações do algoritmo SGD\n",
    "- **lr_all**: A taxa de aprendizado para todos os parâmetros\n",
    "- **reg_all**: O termo de regularização para todos os parâmetros"
   ]
  },
  {
   "cell_type": "code",
   "execution_count": 60,
   "metadata": {
    "colab": {
     "base_uri": "https://localhost:8080/"
    },
    "executionInfo": {
     "elapsed": 366660,
     "status": "ok",
     "timestamp": 1666270452173,
     "user": {
      "displayName": "Maruthi Reddy Billa",
      "userId": "04904869007533286315"
     },
     "user_tz": -330
    },
    "id": "4bM81V_hvtwv",
    "outputId": "a950caf6-cf46-4bcd-8990-4e7392c2f06b"
   },
   "outputs": [
    {
     "name": "stdout",
     "output_type": "stream",
     "text": [
      "1.0120497706186118\n",
      "{'n_epochs': 30, 'lr_all': 0.01, 'reg_all': 0.2}\n"
     ]
    }
   ],
   "source": [
    "# Set the parameter space to tune\n",
    "param_grid = {'n_epochs': [10, 20, 30], 'lr_all': [0.001, 0.005, 0.01],\n",
    "              'reg_all': [0.2, 0.4, 0.6]}\n",
    "\n",
    "# Performing 3-fold gridsearch cross validation\n",
    "gs_ = GridSearchCV(SVD, param_grid, measures=['rmse'], cv=3, n_jobs=-1)\n",
    "\n",
    "# Fitting data\n",
    "gs_.fit(data)\n",
    "\n",
    "# Best RMSE score\n",
    "print(gs_.best_score['rmse'])\n",
    "\n",
    "# Combination of parameters that gave the best RMSE score\n",
    "print(gs_.best_params['rmse'])"
   ]
  },
  {
   "cell_type": "markdown",
   "metadata": {
    "lang": "pt"
   },
   "source": [
    "Assim que a **pesquisa de grade** estiver concluída, podemos obter os **valores ideais** para cada um desses hiperparâmetros, conforme mostrado acima"
   ]
  },
  {
   "cell_type": "markdown",
   "metadata": {
    "lang": "pt"
   },
   "source": [
    "Agora vamos **construir o modelo final** usando **valores ajustados** dos hiperparâmetros que recebemos usando validação cruzada de pesquisa de grade"
   ]
  },
  {
   "cell_type": "code",
   "execution_count": 61,
   "metadata": {
    "colab": {
     "base_uri": "https://localhost:8080/"
    },
    "executionInfo": {
     "elapsed": 6728,
     "status": "ok",
     "timestamp": 1666270458900,
     "user": {
      "displayName": "Maruthi Reddy Billa",
      "userId": "04904869007533286315"
     },
     "user_tz": -330
    },
    "id": "TA_7xe-nnhuu",
    "outputId": "336dce4f-6275-42f2-8f09-db96869d8326"
   },
   "outputs": [
    {
     "name": "stdout",
     "output_type": "stream",
     "text": [
      "RMSE: 1.0141\n",
      "Precision:  0.415\n",
      "Recall:  0.635\n",
      "F_1 score:  0.502\n"
     ]
    }
   ],
   "source": [
    "# Building the optimized SVD model using optimal hyperparameter search\n",
    "svd_optimized = SVD(n_epochs=30, lr_all=0.01, reg_all=0.2, random_state=1)\n",
    "\n",
    "# Training the algorithm on the trainset\n",
    "svd_optimized=svd_optimized.fit(trainset)\n",
    "\n",
    "# Let us compute precision@k and recall@k also with k =30.\n",
    "precision_recall_at_k(svd_optimized)"
   ]
  },
  {
   "cell_type": "markdown",
   "metadata": {
    "lang": "pt"
   },
   "source": [
    "- Podemos ver acima que o **modelo ajustado** está mostrando uma pontuação F_1 um pouco melhor e também um crescimento muito leve no modelo. Portanto, o modelo ajustado está se saindo melhor do que o modelo anterior."
   ]
  },
  {
   "cell_type": "markdown",
   "metadata": {
    "lang": "pt"
   },
   "source": [
    "Vamos agora prever o play_count para um usuário com `userId=6958` e `song_id=1671` com o modelo otimizado conforme mostrado abaixo"
   ]
  },
  {
   "cell_type": "code",
   "execution_count": 62,
   "metadata": {
    "colab": {
     "base_uri": "https://localhost:8080/"
    },
    "executionInfo": {
     "elapsed": 10,
     "status": "ok",
     "timestamp": 1666270458901,
     "user": {
      "displayName": "Maruthi Reddy Billa",
      "userId": "04904869007533286315"
     },
     "user_tz": -330
    },
    "id": "s6C1PAfboM8_",
    "outputId": "968372f8-588c-4cb7-88c4-3aab4dc2c583"
   },
   "outputs": [
    {
     "name": "stdout",
     "output_type": "stream",
     "text": [
      "user: 6958       item: 1671       r_ui = 2.00   est = 1.34   {'was_impossible': False}\n"
     ]
    },
    {
     "data": {
      "text/plain": [
       "Prediction(uid=6958, iid=1671, r_ui=2, est=1.3432395286125096, details={'was_impossible': False})"
      ]
     },
     "execution_count": 62,
     "metadata": {},
     "output_type": "execute_result"
    }
   ],
   "source": [
    "# Using svd_algo_optimized model to recommend for userId 6958 and song_id 1671.\n",
    "svd_optimized.predict(6958, 1671, r_ui=2, verbose=True)"
   ]
  },
  {
   "cell_type": "markdown",
   "metadata": {
    "lang": "pt"
   },
   "source": [
    "- Aqui, o play_count previsto é **1.34** para uma música cujo play_count real é **2**."
   ]
  },
  {
   "cell_type": "markdown",
   "metadata": {
    "lang": "pt"
   },
   "source": [
    "Abaixo, estamos prevendo play_count para o mesmo `userId=6958`, mas para uma música que este usuário não ouviu antes, ou seja, `song_id=3232`, conforme mostrado abaixo"
   ]
  },
  {
   "cell_type": "code",
   "execution_count": 63,
   "metadata": {
    "colab": {
     "base_uri": "https://localhost:8080/"
    },
    "executionInfo": {
     "elapsed": 5,
     "status": "ok",
     "timestamp": 1666270458901,
     "user": {
      "displayName": "Maruthi Reddy Billa",
      "userId": "04904869007533286315"
     },
     "user_tz": -330
    },
    "id": "k1xjn3kOoQyg",
    "outputId": "82632364-1cdf-4702-f1b6-97a379dba0f8"
   },
   "outputs": [
    {
     "name": "stdout",
     "output_type": "stream",
     "text": [
      "user: 6958       item: 3232       r_ui = None   est = 1.44   {'was_impossible': False}\n"
     ]
    },
    {
     "data": {
      "text/plain": [
       "Prediction(uid=6958, iid=3232, r_ui=None, est=1.442548446117648, details={'was_impossible': False})"
      ]
     },
     "execution_count": 63,
     "metadata": {},
     "output_type": "execute_result"
    }
   ],
   "source": [
    "# Using svd_algo_optimized model to recommend for userId 6958 and song_id 3232 with unknown baseline rating.\n",
    "svd_optimized.predict(6958, 3232, verbose=True)"
   ]
  },
  {
   "cell_type": "markdown",
   "metadata": {
    "lang": "pt"
   },
   "source": [
    "- Para uma música não vista, o play_count fornecido pelo modelo otimizado é **1.44**."
   ]
  },
  {
   "cell_type": "markdown",
   "metadata": {
    "lang": "pt"
   },
   "source": [
    "**Previsão das 5 melhores músicas para userId=6958 com sistema de recomendação baseado em svd_optimized**"
   ]
  },
  {
   "cell_type": "code",
   "execution_count": 64,
   "metadata": {
    "executionInfo": {
     "elapsed": 4,
     "status": "ok",
     "timestamp": 1666270458902,
     "user": {
      "displayName": "Maruthi Reddy Billa",
      "userId": "04904869007533286315"
     },
     "user_tz": -330
    },
    "id": "1LGeE2EB_n90"
   },
   "outputs": [],
   "source": [
    "# Getting top 5 recommendations for user_id 6958 using \"svd_optimized\" algorithm.\n",
    "svd_recommendations = get_recommendations(df_final, 6958, 5, svd_optimized)"
   ]
  },
  {
   "cell_type": "code",
   "execution_count": 78,
   "metadata": {
    "colab": {
     "base_uri": "https://localhost:8080/",
     "height": 206
    },
    "executionInfo": {
     "elapsed": 889,
     "status": "ok",
     "timestamp": 1666271509209,
     "user": {
      "displayName": "Maruthi Reddy Billa",
      "userId": "04904869007533286315"
     },
     "user_tz": -330
    },
    "id": "6ngiGSJU818M",
    "outputId": "5f386e5d-ea82-4d22-f085-35900a8a0c0a"
   },
   "outputs": [
    {
     "data": {
      "text/html": [
       "\n",
       "  <div id=\"df-1a772fdf-9d72-422a-b274-425835b1621b\">\n",
       "    <div class=\"colab-df-container\">\n",
       "      <div>\n",
       "<style scoped>\n",
       "    .dataframe tbody tr th:only-of-type {\n",
       "        vertical-align: middle;\n",
       "    }\n",
       "\n",
       "    .dataframe tbody tr th {\n",
       "        vertical-align: top;\n",
       "    }\n",
       "\n",
       "    .dataframe thead th {\n",
       "        text-align: right;\n",
       "    }\n",
       "</style>\n",
       "<table border=\"1\" class=\"dataframe\">\n",
       "  <thead>\n",
       "    <tr style=\"text-align: right;\">\n",
       "      <th></th>\n",
       "      <th>song_id</th>\n",
       "      <th>play_freq</th>\n",
       "      <th>predicted_ratings</th>\n",
       "      <th>corrected_ratings</th>\n",
       "    </tr>\n",
       "  </thead>\n",
       "  <tbody>\n",
       "    <tr>\n",
       "      <th>2</th>\n",
       "      <td>7224</td>\n",
       "      <td>107</td>\n",
       "      <td>2.601899</td>\n",
       "      <td>2.505225</td>\n",
       "    </tr>\n",
       "    <tr>\n",
       "      <th>1</th>\n",
       "      <td>5653</td>\n",
       "      <td>108</td>\n",
       "      <td>2.108728</td>\n",
       "      <td>2.012502</td>\n",
       "    </tr>\n",
       "    <tr>\n",
       "      <th>4</th>\n",
       "      <td>8324</td>\n",
       "      <td>96</td>\n",
       "      <td>2.014091</td>\n",
       "      <td>1.912029</td>\n",
       "    </tr>\n",
       "    <tr>\n",
       "      <th>0</th>\n",
       "      <td>9942</td>\n",
       "      <td>150</td>\n",
       "      <td>1.940115</td>\n",
       "      <td>1.858465</td>\n",
       "    </tr>\n",
       "    <tr>\n",
       "      <th>3</th>\n",
       "      <td>6450</td>\n",
       "      <td>102</td>\n",
       "      <td>1.952493</td>\n",
       "      <td>1.853478</td>\n",
       "    </tr>\n",
       "  </tbody>\n",
       "</table>\n",
       "</div>\n",
       "      <button class=\"colab-df-convert\" onclick=\"convertToInteractive('df-1a772fdf-9d72-422a-b274-425835b1621b')\"\n",
       "              title=\"Convert this dataframe to an interactive table.\"\n",
       "              style=\"display:none;\">\n",
       "        \n",
       "  <svg xmlns=\"http://www.w3.org/2000/svg\" height=\"24px\"viewBox=\"0 0 24 24\"\n",
       "       width=\"24px\">\n",
       "    <path d=\"M0 0h24v24H0V0z\" fill=\"none\"/>\n",
       "    <path d=\"M18.56 5.44l.94 2.06.94-2.06 2.06-.94-2.06-.94-.94-2.06-.94 2.06-2.06.94zm-11 1L8.5 8.5l.94-2.06 2.06-.94-2.06-.94L8.5 2.5l-.94 2.06-2.06.94zm10 10l.94 2.06.94-2.06 2.06-.94-2.06-.94-.94-2.06-.94 2.06-2.06.94z\"/><path d=\"M17.41 7.96l-1.37-1.37c-.4-.4-.92-.59-1.43-.59-.52 0-1.04.2-1.43.59L10.3 9.45l-7.72 7.72c-.78.78-.78 2.05 0 2.83L4 21.41c.39.39.9.59 1.41.59.51 0 1.02-.2 1.41-.59l7.78-7.78 2.81-2.81c.8-.78.8-2.07 0-2.86zM5.41 20L4 18.59l7.72-7.72 1.47 1.35L5.41 20z\"/>\n",
       "  </svg>\n",
       "      </button>\n",
       "      \n",
       "  <style>\n",
       "    .colab-df-container {\n",
       "      display:flex;\n",
       "      flex-wrap:wrap;\n",
       "      gap: 12px;\n",
       "    }\n",
       "\n",
       "    .colab-df-convert {\n",
       "      background-color: #E8F0FE;\n",
       "      border: none;\n",
       "      border-radius: 50%;\n",
       "      cursor: pointer;\n",
       "      display: none;\n",
       "      fill: #1967D2;\n",
       "      height: 32px;\n",
       "      padding: 0 0 0 0;\n",
       "      width: 32px;\n",
       "    }\n",
       "\n",
       "    .colab-df-convert:hover {\n",
       "      background-color: #E2EBFA;\n",
       "      box-shadow: 0px 1px 2px rgba(60, 64, 67, 0.3), 0px 1px 3px 1px rgba(60, 64, 67, 0.15);\n",
       "      fill: #174EA6;\n",
       "    }\n",
       "\n",
       "    [theme=dark] .colab-df-convert {\n",
       "      background-color: #3B4455;\n",
       "      fill: #D2E3FC;\n",
       "    }\n",
       "\n",
       "    [theme=dark] .colab-df-convert:hover {\n",
       "      background-color: #434B5C;\n",
       "      box-shadow: 0px 1px 3px 1px rgba(0, 0, 0, 0.15);\n",
       "      filter: drop-shadow(0px 1px 2px rgba(0, 0, 0, 0.3));\n",
       "      fill: #FFFFFF;\n",
       "    }\n",
       "  </style>\n",
       "\n",
       "      <script>\n",
       "        const buttonEl =\n",
       "          document.querySelector('#df-1a772fdf-9d72-422a-b274-425835b1621b button.colab-df-convert');\n",
       "        buttonEl.style.display =\n",
       "          google.colab.kernel.accessAllowed ? 'block' : 'none';\n",
       "\n",
       "        async function convertToInteractive(key) {\n",
       "          const element = document.querySelector('#df-1a772fdf-9d72-422a-b274-425835b1621b');\n",
       "          const dataTable =\n",
       "            await google.colab.kernel.invokeFunction('convertToInteractive',\n",
       "                                                     [key], {});\n",
       "          if (!dataTable) return;\n",
       "\n",
       "          const docLinkHtml = 'Like what you see? Visit the ' +\n",
       "            '<a target=\"_blank\" href=https://colab.research.google.com/notebooks/data_table.ipynb>data table notebook</a>'\n",
       "            + ' to learn more about interactive tables.';\n",
       "          element.innerHTML = '';\n",
       "          dataTable['output_type'] = 'display_data';\n",
       "          await google.colab.output.renderOutput(dataTable, element);\n",
       "          const docLink = document.createElement('div');\n",
       "          docLink.innerHTML = docLinkHtml;\n",
       "          element.appendChild(docLink);\n",
       "        }\n",
       "      </script>\n",
       "    </div>\n",
       "  </div>\n",
       "  "
      ],
      "text/plain": [
       "   song_id  play_freq  predicted_ratings  corrected_ratings\n",
       "2     7224        107           2.601899           2.505225\n",
       "1     5653        108           2.108728           2.012502\n",
       "4     8324         96           2.014091           1.912029\n",
       "0     9942        150           1.940115           1.858465\n",
       "3     6450        102           1.952493           1.853478"
      ]
     },
     "execution_count": 78,
     "metadata": {},
     "output_type": "execute_result"
    }
   ],
   "source": [
    "# Ranking songs based on above recommendations\n",
    "ranking_songs(svd_recommendations, final_play)"
   ]
  },
  {
   "cell_type": "markdown",
   "metadata": {
    "lang": "pt"
   },
   "source": [
    "## **Sistema de recomendação baseado em cluster**"
   ]
  },
  {
   "cell_type": "markdown",
   "metadata": {
    "lang": "pt"
   },
   "source": [
    "Em **sistemas de recomendação baseados em cluster**, exploramos as **semelhanças e diferenças** nos gostos das pessoas em restaurantes com base em como avaliam diferentes restaurantes. Agrupamos usuários semelhantes e recomendamos restaurantes a um usuário com base nas avaliações de outros usuários no mesmo cluster."
   ]
  },
  {
   "cell_type": "markdown",
   "metadata": {
    "lang": "pt"
   },
   "source": [
    "- **Co-clustering** é um conjunto de técnicas em **Análise de Cluster**. Dada alguma **matriz A, queremos agrupar linhas de A e colunas de A simultaneamente**, esta é uma tarefa comum para matrizes de item de usuário.\n",
    "\n",
    "- Como agrupa as linhas e colunas simultaneamente, também é chamado de **bi-clustering**. Para entender o funcionamento do algoritmo, deixe A ser a matriz m x n, o objetivo é gerar co-clusters: um subconjunto de linhas que exibem comportamento semelhante em um subconjunto de colunas ou vice-versa.\n",
    "\n",
    "- O co-clustering é definido como duas funções de mapa:\n",
    "linhas -> índices de cluster de linha\n",
    "colunas -> índices de cluster de coluna\n",
    "Essas funções de mapa são aprendidas simultaneamente. É **diferente de outras técnicas de clustering** onde agrupamos **primeiro as linhas e depois as colunas**."
   ]
  },
  {
   "cell_type": "code",
   "execution_count": 66,
   "metadata": {
    "colab": {
     "base_uri": "https://localhost:8080/"
    },
    "executionInfo": {
     "elapsed": 3362,
     "status": "ok",
     "timestamp": 1666270462261,
     "user": {
      "displayName": "Maruthi Reddy Billa",
      "userId": "04904869007533286315"
     },
     "user_tz": -330
    },
    "id": "0c4b20e4",
    "outputId": "91af970b-fd8b-4a31-d510-bbadf5fa989d"
   },
   "outputs": [
    {
     "name": "stdout",
     "output_type": "stream",
     "text": [
      "RMSE: 1.0487\n",
      "Precision:  0.397\n",
      "Recall:  0.582\n",
      "F_1 score:  0.472\n"
     ]
    }
   ],
   "source": [
    "# Using CoClustering algorithm.\n",
    "clust_baseline = CoClustering(random_state=1)\n",
    "\n",
    "# Training the algorithm on the trainset\n",
    "clust_baseline.fit(trainset)\n",
    "\n",
    "# Let us compute precision@k and recall@k with k =30.\n",
    "precision_recall_at_k(clust_baseline)"
   ]
  },
  {
   "cell_type": "markdown",
   "metadata": {
    "lang": "pt"
   },
   "source": [
    "- Aqui **pontuação F_1** do **modelo de linha de base é quase 0.472**. Indica que **as músicas mais recomendadas eram relevantes e músicas relevantes foram recomendadas**. Tentaremos melhorar isso mais tarde usando **GridSearchCV ajustando diferentes hiperparâmetros** deste algoritmo."
   ]
  },
  {
   "cell_type": "markdown",
   "metadata": {
    "lang": "pt"
   },
   "source": [
    "Vamos agora **prever play_counts para um usuário com `user_id=6958` e `song_id=1671`** como mostrado abaixo. Aqui o usuário já ouviu a música."
   ]
  },
  {
   "cell_type": "code",
   "execution_count": 67,
   "metadata": {
    "colab": {
     "base_uri": "https://localhost:8080/"
    },
    "executionInfo": {
     "elapsed": 9,
     "status": "ok",
     "timestamp": 1666270462262,
     "user": {
      "displayName": "Maruthi Reddy Billa",
      "userId": "04904869007533286315"
     },
     "user_tz": -330
    },
    "id": "11dbdc0f",
    "outputId": "63eee4c8-ef34-4f04-a8e8-2a04a25feb98"
   },
   "outputs": [
    {
     "name": "stdout",
     "output_type": "stream",
     "text": [
      "user: 6958       item: 1671       r_ui = 2.00   est = 1.29   {'was_impossible': False}\n"
     ]
    },
    {
     "data": {
      "text/plain": [
       "Prediction(uid=6958, iid=1671, r_ui=2, est=1.2941824757363074, details={'was_impossible': False})"
      ]
     },
     "execution_count": 67,
     "metadata": {},
     "output_type": "execute_result"
    }
   ],
   "source": [
    "# Making prediction for user_id 6958 and song_id 1671.\n",
    "clust_baseline.predict(6958,1671, r_ui=2, verbose=True)"
   ]
  },
  {
   "cell_type": "markdown",
   "metadata": {
    "lang": "pt"
   },
   "source": [
    "Como podemos ver - o **play_count real** para este **par usuário-música é 2** e o **play_count previsto é 1.29 por este modelo de linha de base baseado em co-clustering**. Parece que subestimamos o play_count por uma pequena margem. Tentaremos corrigir isso posteriormente ajustando os hiperparâmetros do modelo usando GridSearchCV"
   ]
  },
  {
   "cell_type": "markdown",
   "metadata": {
    "lang": "pt"
   },
   "source": [
    "Abaixo, estamos prevendo play_count para o mesmo `userId=6958`, mas para uma música que este usuário não ouviu antes, ou seja, `song_id=3232`, conforme mostrado abaixo -"
   ]
  },
  {
   "cell_type": "code",
   "execution_count": 68,
   "metadata": {
    "colab": {
     "base_uri": "https://localhost:8080/"
    },
    "executionInfo": {
     "elapsed": 6,
     "status": "ok",
     "timestamp": 1666270462263,
     "user": {
      "displayName": "Maruthi Reddy Billa",
      "userId": "04904869007533286315"
     },
     "user_tz": -330
    },
    "id": "dab1aaed",
    "outputId": "f29828bd-a673-4435-8c6e-6e81a046689d"
   },
   "outputs": [
    {
     "name": "stdout",
     "output_type": "stream",
     "text": [
      "user: 6958       item: 3232       r_ui = None   est = 1.48   {'was_impossible': False}\n"
     ]
    },
    {
     "data": {
      "text/plain": [
       "Prediction(uid=6958, iid=3232, r_ui=None, est=1.4785259100797417, details={'was_impossible': False})"
      ]
     },
     "execution_count": 68,
     "metadata": {},
     "output_type": "execute_result"
    }
   ],
   "source": [
    "# Making prediction for userid 6958 and song_id 3232.\n",
    "clust_baseline.predict(6958,3232, verbose=True)"
   ]
  },
  {
   "cell_type": "markdown",
   "metadata": {
    "lang": "pt"
   },
   "source": [
    "- Podemos ver que **estimated play_count** para este par de usuário-música é 1.48 com base neste modelo de linha de base baseado em Co-clustering."
   ]
  },
  {
   "cell_type": "markdown",
   "metadata": {
    "lang": "pt"
   },
   "source": [
    "### **Melhorando o sistema de recomendação baseado em clustering ajustando seus hiperparâmetros**"
   ]
  },
  {
   "cell_type": "markdown",
   "metadata": {
    "lang": "pt"
   },
   "source": [
    "Abaixo estaremos ajustando hiperparâmetros para os algoritmos `CoClustering`. Vamos tentar entender diferentes hiperparâmetros deste algoritmo -"
   ]
  },
  {
   "cell_type": "markdown",
   "metadata": {
    "lang": "pt"
   },
   "source": [
    "- **n_cltr_u** (int) – Número de **clusters de usuários**. O padrão é 3.\n",
    "- **n_cltr_i** (int) – Número de **grupos de itens**. O padrão é 3.\n",
    "- **n_epochs** (int) – Número de **iteração do loop de otimização**. O padrão é 20.\n",
    "- **random_state** (int, RandomState instância do NumPy, ou None) – Determina o RNG que será usado para inicialização. Se int, random_state será usado como uma semente para um novo RNG. Isso é útil para obter a mesma inicialização em várias chamadas para fit(). Se a instância RandomState, esta mesma instância é usada como RNG. Se Nenhum, o RNG atual do numpy é usado. O padrão é Nenhum.\n",
    "- **verbose** (bool) – Se True, a época atual será impressa. O padrão é Falso."
   ]
  },
  {
   "cell_type": "code",
   "execution_count": 69,
   "metadata": {
    "colab": {
     "base_uri": "https://localhost:8080/"
    },
    "executionInfo": {
     "elapsed": 413885,
     "status": "ok",
     "timestamp": 1666270876146,
     "user": {
      "displayName": "Maruthi Reddy Billa",
      "userId": "04904869007533286315"
     },
     "user_tz": -330
    },
    "id": "efe7d8e6",
    "outputId": "fc284cd3-0757-4e12-f696-5af8bd387d0d"
   },
   "outputs": [
    {
     "name": "stdout",
     "output_type": "stream",
     "text": [
      "1.0590307211086032\n",
      "{'n_cltr_u': 5, 'n_cltr_i': 5, 'n_epochs': 10}\n"
     ]
    }
   ],
   "source": [
    "# Set the parameter space to tune\n",
    "param_grid = {'n_cltr_u':[5,6,7,8], 'n_cltr_i': [5,6,7,8], 'n_epochs': [10,20,30]}\n",
    "\n",
    "# Performing 3-fold gridsearch cross validation\n",
    "gs = GridSearchCV(CoClustering, param_grid, measures=['rmse'], cv=3, n_jobs=-1)\n",
    "\n",
    "# Fitting data\n",
    "gs.fit(data)\n",
    "\n",
    "# Best RMSE score\n",
    "print(gs.best_score['rmse'])\n",
    "\n",
    "# Combination of parameters that gave the best RMSE score\n",
    "print(gs.best_params['rmse'])"
   ]
  },
  {
   "cell_type": "markdown",
   "metadata": {
    "lang": "pt"
   },
   "source": [
    "Assim que a pesquisa da grade estiver **completa**, podemos obter os **valores ideais** para cada um desses hiperparâmetros, conforme mostrado acima"
   ]
  },
  {
   "cell_type": "markdown",
   "metadata": {
    "lang": "pt"
   },
   "source": [
    "Agora vamos construir o **modelo final** usando valores ajustados dos hiperparâmetros que recebemos usando validação cruzada de pesquisa de grade"
   ]
  },
  {
   "cell_type": "code",
   "execution_count": null,
   "metadata": {
    "id": "5a7a8a30"
   },
   "outputs": [],
   "source": [
    "# Using tuned Coclustering algorithm\n",
    "clust_tuned = CoClustering(n_cltr_u=3,n_cltr_i=2, n_epochs=60, random_state=1)\n",
    "\n",
    "# Training the algorithm on the trainset\n",
    "clust_tuned.fit(trainset)\n",
    "\n",
    "# Let us compute precision@k and recall@k with k =30.\n",
    "precision_recall_at_k(clust_tuned)"
   ]
  },
  {
   "cell_type": "markdown",
   "metadata": {
    "lang": "pt"
   },
   "source": [
    "- Podemos ver que a **pontuação F_1 da linha de base** para o **modelo de co-clustering ajustado** no conjunto de teste é **quase igual à pontuação F_1** para o modelo de co-clustering da linha de base. Os dois podem ser considerados quase semelhantes entre si."
   ]
  },
  {
   "cell_type": "markdown",
   "metadata": {
    "lang": "pt"
   },
   "source": [
    "- Vamos agora **prever play_count** para um usuário com `userId=6958` e para `song_id=1671` como mostrado abaixo\n",
    "- Aqui o usuário já ouviu a música."
   ]
  },
  {
   "cell_type": "code",
   "execution_count": 75,
   "metadata": {
    "colab": {
     "base_uri": "https://localhost:8080/"
    },
    "executionInfo": {
     "elapsed": 413,
     "status": "ok",
     "timestamp": 1666271471216,
     "user": {
      "displayName": "Maruthi Reddy Billa",
      "userId": "04904869007533286315"
     },
     "user_tz": -330
    },
    "id": "6ba5b26b",
    "outputId": "84dd8dde-285f-45c9-a4a5-c161ccb32449"
   },
   "outputs": [
    {
     "name": "stdout",
     "output_type": "stream",
     "text": [
      "user: 6958       item: 1671       r_ui = 2.00   est = 1.59   {'was_impossible': False}\n"
     ]
    },
    {
     "data": {
      "text/plain": [
       "Prediction(uid=6958, iid=1671, r_ui=2, est=1.585941833604144, details={'was_impossible': False})"
      ]
     },
     "execution_count": 75,
     "metadata": {},
     "output_type": "execute_result"
    }
   ],
   "source": [
    "# Using co_clustering_optimized model to recommend for userId 6958 and song_id 1671.\n",
    "clust_tuned.predict(6958, 1671, r_ui=2, verbose=True)"
   ]
  },
  {
   "cell_type": "markdown",
   "metadata": {
    "lang": "pt"
   },
   "source": [
    "- O **modelo otimizado previu o play_count como `1.59`**. considerando que o play_count real é `2`."
   ]
  },
  {
   "cell_type": "code",
   "execution_count": 76,
   "metadata": {
    "colab": {
     "base_uri": "https://localhost:8080/"
    },
    "executionInfo": {
     "elapsed": 762,
     "status": "ok",
     "timestamp": 1666271486614,
     "user": {
      "displayName": "Maruthi Reddy Billa",
      "userId": "04904869007533286315"
     },
     "user_tz": -330
    },
    "id": "ec582940",
    "outputId": "5383ab50-c62c-44d5-adc0-e63b85922d03"
   },
   "outputs": [
    {
     "name": "stdout",
     "output_type": "stream",
     "text": [
      "user: 6958       item: 3232       r_ui = None   est = 1.77   {'was_impossible': False}\n"
     ]
    },
    {
     "data": {
      "text/plain": [
       "Prediction(uid=6958, iid=3232, r_ui=None, est=1.7702852679475787, details={'was_impossible': False})"
      ]
     },
     "execution_count": 76,
     "metadata": {},
     "output_type": "execute_result"
    }
   ],
   "source": [
    "# Using Co_clustering based optimized model to recommend for userId 6958 and song_id 3232 with unknown baseline rating.\n",
    "clust_tuned.predict(6958, 3232, verbose=True)"
   ]
  },
  {
   "cell_type": "markdown",
   "metadata": {
    "lang": "pt"
   },
   "source": [
    "- O **modelo otimizado** previu o play_count como `1.77`."
   ]
  },
  {
   "cell_type": "markdown",
   "metadata": {
    "lang": "pt"
   },
   "source": [
    "**Previsão das 5 melhores músicas para userId=6958 usando algoritmo otimizado baseado em co-clustering**"
   ]
  },
  {
   "cell_type": "code",
   "execution_count": null,
   "metadata": {
    "id": "e0f36e15"
   },
   "outputs": [],
   "source": [
    "# Getting top 5 recommendations for user_id 6958 using \"Co-clustering based optimized\" algorithm.\n",
    "clustering_recommendations = get_recommendations(df_final, 6958, 5, clust_tuned)"
   ]
  },
  {
   "cell_type": "code",
   "execution_count": 77,
   "metadata": {
    "colab": {
     "base_uri": "https://localhost:8080/",
     "height": 206
    },
    "executionInfo": {
     "elapsed": 482,
     "status": "ok",
     "timestamp": 1666271492736,
     "user": {
      "displayName": "Maruthi Reddy Billa",
      "userId": "04904869007533286315"
     },
     "user_tz": -330
    },
    "id": "c186f13b",
    "outputId": "4f915f98-998f-46a5-d3fe-437f1552280f",
    "scrolled": true
   },
   "outputs": [
    {
     "data": {
      "text/html": [
       "\n",
       "  <div id=\"df-09111aa3-10cf-4a09-af43-9ea947d5b94f\">\n",
       "    <div class=\"colab-df-container\">\n",
       "      <div>\n",
       "<style scoped>\n",
       "    .dataframe tbody tr th:only-of-type {\n",
       "        vertical-align: middle;\n",
       "    }\n",
       "\n",
       "    .dataframe tbody tr th {\n",
       "        vertical-align: top;\n",
       "    }\n",
       "\n",
       "    .dataframe thead th {\n",
       "        text-align: right;\n",
       "    }\n",
       "</style>\n",
       "<table border=\"1\" class=\"dataframe\">\n",
       "  <thead>\n",
       "    <tr style=\"text-align: right;\">\n",
       "      <th></th>\n",
       "      <th>song_id</th>\n",
       "      <th>play_freq</th>\n",
       "      <th>predicted_ratings</th>\n",
       "      <th>corrected_ratings</th>\n",
       "    </tr>\n",
       "  </thead>\n",
       "  <tbody>\n",
       "    <tr>\n",
       "      <th>3</th>\n",
       "      <td>6450</td>\n",
       "      <td>102</td>\n",
       "      <td>2.626819</td>\n",
       "      <td>2.527805</td>\n",
       "    </tr>\n",
       "    <tr>\n",
       "      <th>1</th>\n",
       "      <td>5653</td>\n",
       "      <td>108</td>\n",
       "      <td>2.578936</td>\n",
       "      <td>2.482711</td>\n",
       "    </tr>\n",
       "    <tr>\n",
       "      <th>2</th>\n",
       "      <td>7224</td>\n",
       "      <td>107</td>\n",
       "      <td>2.525240</td>\n",
       "      <td>2.428567</td>\n",
       "    </tr>\n",
       "    <tr>\n",
       "      <th>0</th>\n",
       "      <td>9942</td>\n",
       "      <td>150</td>\n",
       "      <td>2.506799</td>\n",
       "      <td>2.425149</td>\n",
       "    </tr>\n",
       "    <tr>\n",
       "      <th>4</th>\n",
       "      <td>4831</td>\n",
       "      <td>97</td>\n",
       "      <td>2.415542</td>\n",
       "      <td>2.314008</td>\n",
       "    </tr>\n",
       "  </tbody>\n",
       "</table>\n",
       "</div>\n",
       "      <button class=\"colab-df-convert\" onclick=\"convertToInteractive('df-09111aa3-10cf-4a09-af43-9ea947d5b94f')\"\n",
       "              title=\"Convert this dataframe to an interactive table.\"\n",
       "              style=\"display:none;\">\n",
       "        \n",
       "  <svg xmlns=\"http://www.w3.org/2000/svg\" height=\"24px\"viewBox=\"0 0 24 24\"\n",
       "       width=\"24px\">\n",
       "    <path d=\"M0 0h24v24H0V0z\" fill=\"none\"/>\n",
       "    <path d=\"M18.56 5.44l.94 2.06.94-2.06 2.06-.94-2.06-.94-.94-2.06-.94 2.06-2.06.94zm-11 1L8.5 8.5l.94-2.06 2.06-.94-2.06-.94L8.5 2.5l-.94 2.06-2.06.94zm10 10l.94 2.06.94-2.06 2.06-.94-2.06-.94-.94-2.06-.94 2.06-2.06.94z\"/><path d=\"M17.41 7.96l-1.37-1.37c-.4-.4-.92-.59-1.43-.59-.52 0-1.04.2-1.43.59L10.3 9.45l-7.72 7.72c-.78.78-.78 2.05 0 2.83L4 21.41c.39.39.9.59 1.41.59.51 0 1.02-.2 1.41-.59l7.78-7.78 2.81-2.81c.8-.78.8-2.07 0-2.86zM5.41 20L4 18.59l7.72-7.72 1.47 1.35L5.41 20z\"/>\n",
       "  </svg>\n",
       "      </button>\n",
       "      \n",
       "  <style>\n",
       "    .colab-df-container {\n",
       "      display:flex;\n",
       "      flex-wrap:wrap;\n",
       "      gap: 12px;\n",
       "    }\n",
       "\n",
       "    .colab-df-convert {\n",
       "      background-color: #E8F0FE;\n",
       "      border: none;\n",
       "      border-radius: 50%;\n",
       "      cursor: pointer;\n",
       "      display: none;\n",
       "      fill: #1967D2;\n",
       "      height: 32px;\n",
       "      padding: 0 0 0 0;\n",
       "      width: 32px;\n",
       "    }\n",
       "\n",
       "    .colab-df-convert:hover {\n",
       "      background-color: #E2EBFA;\n",
       "      box-shadow: 0px 1px 2px rgba(60, 64, 67, 0.3), 0px 1px 3px 1px rgba(60, 64, 67, 0.15);\n",
       "      fill: #174EA6;\n",
       "    }\n",
       "\n",
       "    [theme=dark] .colab-df-convert {\n",
       "      background-color: #3B4455;\n",
       "      fill: #D2E3FC;\n",
       "    }\n",
       "\n",
       "    [theme=dark] .colab-df-convert:hover {\n",
       "      background-color: #434B5C;\n",
       "      box-shadow: 0px 1px 3px 1px rgba(0, 0, 0, 0.15);\n",
       "      filter: drop-shadow(0px 1px 2px rgba(0, 0, 0, 0.3));\n",
       "      fill: #FFFFFF;\n",
       "    }\n",
       "  </style>\n",
       "\n",
       "      <script>\n",
       "        const buttonEl =\n",
       "          document.querySelector('#df-09111aa3-10cf-4a09-af43-9ea947d5b94f button.colab-df-convert');\n",
       "        buttonEl.style.display =\n",
       "          google.colab.kernel.accessAllowed ? 'block' : 'none';\n",
       "\n",
       "        async function convertToInteractive(key) {\n",
       "          const element = document.querySelector('#df-09111aa3-10cf-4a09-af43-9ea947d5b94f');\n",
       "          const dataTable =\n",
       "            await google.colab.kernel.invokeFunction('convertToInteractive',\n",
       "                                                     [key], {});\n",
       "          if (!dataTable) return;\n",
       "\n",
       "          const docLinkHtml = 'Like what you see? Visit the ' +\n",
       "            '<a target=\"_blank\" href=https://colab.research.google.com/notebooks/data_table.ipynb>data table notebook</a>'\n",
       "            + ' to learn more about interactive tables.';\n",
       "          element.innerHTML = '';\n",
       "          dataTable['output_type'] = 'display_data';\n",
       "          await google.colab.output.renderOutput(dataTable, element);\n",
       "          const docLink = document.createElement('div');\n",
       "          docLink.innerHTML = docLinkHtml;\n",
       "          element.appendChild(docLink);\n",
       "        }\n",
       "      </script>\n",
       "    </div>\n",
       "  </div>\n",
       "  "
      ],
      "text/plain": [
       "   song_id  play_freq  predicted_ratings  corrected_ratings\n",
       "3     6450        102           2.626819           2.527805\n",
       "1     5653        108           2.578936           2.482711\n",
       "2     7224        107           2.525240           2.428567\n",
       "0     9942        150           2.506799           2.425149\n",
       "4     4831         97           2.415542           2.314008"
      ]
     },
     "execution_count": 77,
     "metadata": {},
     "output_type": "execute_result"
    }
   ],
   "source": [
    "# Ranking songs based on above recommendations\n",
    "ranking_songs(clustering_recommendations, final_play)"
   ]
  },
  {
   "cell_type": "markdown",
   "metadata": {
    "lang": "pt"
   },
   "source": [
    "### **Conclusão**"
   ]
  },
  {
   "cell_type": "markdown",
   "metadata": {
    "lang": "pt"
   },
   "source": [
    "Neste estudo de caso, construímos sistemas de recomendação usando cinco algoritmos diferentes. Eles são os seguintes:\n",
    "- Baseado em classificação usando médias\n",
    "- Filtragem colaborativa baseada em similaridade usuário-usuário\n",
    "- Filtragem colaborativa baseada em similaridade item-item\n",
    "- Filtragem colaborativa baseada em modelo (fatorização de matrizes)\n",
    "- Sistemas de recomendação baseados em clustering\n",
    "\n",
    "Vimos como eles são diferentes uns dos outros e que tipo de dados são necessários para construir cada um desses sistemas de recomendação. Podemos combinar ainda mais todas as técnicas de recomendação que vimos.\n",
    " \n",
    "Para demonstrar **\"filtragem colaborativa baseada em semelhança de usuário-usuário\",\"filtragem colaborativa baseada em similaridade de item-item\" e \"filtragem colaborativa baseada em modelo (fatoração de matrizes)\"**, a biblioteca **surpresa** foi demonstrada. Para esses algoritmos, **validação cruzada de pesquisa de grade é usada para encontrar o melhor modelo de trabalho** e, usando isso, as **previsões correspondentes são feitas**."
   ]
  },
  {
   "cell_type": "markdown",
   "metadata": {
    "lang": "pt"
   },
   "source": [
    "#### **Proposta para o desenho final da solução:**\n",
    "\n",
    "Usaremos a solução final do sistema de recomendação de filtragem colaborativa baseada em similaridade usuário-usuário, uma vez que é mais robusta e fornece uma pontuação F_1 alta. Prevemos as contagens de reprodução para todos os usuários que não ouviram uma música específica."
   ]
  }
 ],
 "metadata": {
  "colab": {
   "collapsed_sections": [],
   "provenance": []
  },
  "kernelspec": {
   "display_name": "Python 3 (ipykernel)",
   "language": "python",
   "name": "python3"
  },
  "language_info": {
   "codemirror_mode": {
    "name": "ipython",
    "version": 3
   },
   "file_extension": ".py",
   "mimetype": "text/x-python",
   "name": "python",
   "nbconvert_exporter": "python",
   "pygments_lexer": "ipython3",
   "version": "3.10.9"
  },
  "nbTranslate": {
   "displayLangs": [
    "pt"
   ],
   "hotkey": "alt-t",
   "langInMainMenu": true,
   "sourceLang": "en",
   "targetLang": "pt",
   "useGoogleTranslate": true
  }
 },
 "nbformat": 4,
 "nbformat_minor": 1
}
